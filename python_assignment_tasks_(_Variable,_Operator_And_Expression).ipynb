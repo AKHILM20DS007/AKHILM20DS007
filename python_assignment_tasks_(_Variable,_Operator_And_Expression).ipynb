{
  "nbformat": 4,
  "nbformat_minor": 0,
  "metadata": {
    "colab": {
      "name": "python assignment tasks ( Variable, Operator And Expression).ipynb",
      "provenance": [],
      "authorship_tag": "ABX9TyMOuD/JRcBg8LuUIRJLojTY",
      "include_colab_link": true
    },
    "kernelspec": {
      "name": "python3",
      "display_name": "Python 3"
    },
    "language_info": {
      "name": "python"
    }
  },
  "cells": [
    {
      "cell_type": "markdown",
      "metadata": {
        "id": "view-in-github",
        "colab_type": "text"
      },
      "source": [
        "<a href=\"https://colab.research.google.com/github/AKHILM20DS007/AKHILM20DS007/blob/main/python_assignment_tasks_(_Variable%2C_Operator_And_Expression).ipynb\" target=\"_parent\"><img src=\"https://colab.research.google.com/assets/colab-badge.svg\" alt=\"Open In Colab\"/></a>"
      ]
    },
    {
      "cell_type": "markdown",
      "source": [
        "1. Write a program that asks the user for his name and then welcomes him. The output should look like this :\n",
        "\n",
        "Enter your name : Saksham\n",
        "Hello Saksham"
      ],
      "metadata": {
        "id": "BdssbkLyG9Uy"
      }
    },
    {
      "cell_type": "code",
      "execution_count": null,
      "metadata": {
        "colab": {
          "base_uri": "https://localhost:8080/"
        },
        "id": "QdoaYYwMFU9_",
        "outputId": "4268fa1f-4556-4483-ebac-df0d4c432fda"
      },
      "outputs": [
        {
          "output_type": "stream",
          "name": "stdout",
          "text": [
            " Enter your nameAkhil\n",
            "hello  Akhil\n"
          ]
        }
      ],
      "source": [
        "a=input(\" Enter your name\")\n",
        "print(\"hello\" \"  \"+ a)"
      ]
    },
    {
      "cell_type": "markdown",
      "source": [
        "2. Write a program that prompts the user to enter two integers and display the total on the screen."
      ],
      "metadata": {
        "id": "wBTw-9x4HI2O"
      }
    },
    {
      "cell_type": "code",
      "source": [
        "a= int(input(\"Enter 1 st integer to add integers\"))\n",
        "b= int(input(\"Enter 2nd integer to add integers\"))\n",
        "c=a+b\n",
        "print(\"sum of two integers is\",c)"
      ],
      "metadata": {
        "colab": {
          "base_uri": "https://localhost:8080/"
        },
        "id": "aGoWtVR9F_b3",
        "outputId": "280d2dac-7102-4a01-95b3-54b4a954d39e"
      },
      "execution_count": null,
      "outputs": [
        {
          "output_type": "stream",
          "name": "stdout",
          "text": [
            "Enter 1 st integer to add integers10\n",
            "Enter 2nd integer to add integers20\n",
            "sum of two integers is 30\n"
          ]
        }
      ]
    },
    {
      "cell_type": "markdown",
      "source": [
        "3. Write a program that prompts the user to input a Celsius temperature and outputs the equivalent temperature in Fahrenheit. The formula to convert the temperature is: F = 9/5 C + 32 where F is the Fahrenheit temperature and C is the Celsius temperature."
      ],
      "metadata": {
        "id": "3UVugp6fHNs4"
      }
    },
    {
      "cell_type": "code",
      "source": [
        "c= float(input(\"Enter a Temperature in degree celsius between 0 t0 100\"))\n",
        "F = 9/5 *c + 32\n",
        "print (\"equivalent temperature in Fahrenheit\", F)\n"
      ],
      "metadata": {
        "colab": {
          "base_uri": "https://localhost:8080/"
        },
        "id": "GR__N2wgHQum",
        "outputId": "cb9f18c4-a559-4c93-9c94-51291219dd25"
      },
      "execution_count": null,
      "outputs": [
        {
          "output_type": "stream",
          "name": "stdout",
          "text": [
            "Enter a Temperature in degree celsius between 0 t0 10036.8\n",
            "equivalent temperature in Fahrenheit 98.24\n"
          ]
        }
      ]
    },
    {
      "cell_type": "markdown",
      "source": [
        "4. Write a program which accept principle, rate and time from user and print the simple interest. The formula to calculate simple interest is: simple interest = principle x rate x time / 100"
      ],
      "metadata": {
        "id": "BfMBjvXUHQ--"
      }
    },
    {
      "cell_type": "code",
      "source": [
        "principle=float(input(\"Enter principle Amount\" ))\n",
        "rate=float(input(\"Enter Rte of Intrest\" ))\n",
        "time=float(input(\"Enter Time period in months\" ))\n",
        "interest = principle *rate * time / 100\n",
        "print(\"Amount of money Recieved\",interest)"
      ],
      "metadata": {
        "colab": {
          "base_uri": "https://localhost:8080/"
        },
        "id": "Pfgg9hQGHRPR",
        "outputId": "1ce43da8-2901-4a63-dc1b-4248ec710bd3"
      },
      "execution_count": null,
      "outputs": [
        {
          "output_type": "stream",
          "name": "stdout",
          "text": [
            "Enter principle Amount10000\n",
            "Enter Rte of Intrest2\n",
            "Enter Time period in months12\n",
            "Amount of money Recieved 2400.0\n"
          ]
        }
      ]
    },
    {
      "cell_type": "markdown",
      "source": [
        "5. Write a program that accepts seconds from keyboard as integer. Your program should converts seconds in hours, minutes and seconds. Your output should like this :\n",
        "\n",
        "Enter seconds: 13400\n",
        "Hours: 3\n",
        "Minutes: 43\n",
        "Seconds: 20  "
      ],
      "metadata": {
        "id": "GB3ovpBEHRf4"
      }
    },
    {
      "cell_type": "code",
      "source": [
        "a= int(input(\"enter seconds : \"))\n",
        "print(\"Hours :\",int(a/3600))\n",
        "print(\"Minutes :\",int(a%3600)//60)\n",
        "print(\"seconds :\",int(a%60))"
      ],
      "metadata": {
        "id": "EVYux0UqHRtC",
        "colab": {
          "base_uri": "https://localhost:8080/"
        },
        "outputId": "ec55712e-acef-49cf-9630-f62e023e5564"
      },
      "execution_count": null,
      "outputs": [
        {
          "output_type": "stream",
          "name": "stdout",
          "text": [
            "enter seconds : 13400\n",
            "Hours : 3\n",
            "Minutes : 43\n",
            "seconds : 20\n"
          ]
        }
      ]
    },
    {
      "cell_type": "markdown",
      "source": [
        "6. Write a program that prompts the user to enter number in two variables and swap the contents of the variables."
      ],
      "metadata": {
        "id": "Abl_iZWAHR5S"
      }
    },
    {
      "cell_type": "code",
      "source": [
        "a=int(input(\"enter 1st number :\"))\n",
        "b=int(input(\"enter 2nd number :\"))\n",
        "c=a\n",
        "a=b\n",
        "b=c\n",
        "print(\"After swapping 1st number is :\",a)\n",
        "print(\"After swapping 2nd number is :\",b)"
      ],
      "metadata": {
        "id": "PJlDk1GwHSEB",
        "colab": {
          "base_uri": "https://localhost:8080/"
        },
        "outputId": "357bddaf-483c-4f03-df66-e927df48f82d"
      },
      "execution_count": null,
      "outputs": [
        {
          "output_type": "stream",
          "name": "stdout",
          "text": [
            "enter 1st number :10\n",
            "enter 2nd number :20\n",
            "After swapping 1st number is : 20\n",
            "After swapping 2nd number is : 10\n"
          ]
        }
      ]
    },
    {
      "cell_type": "markdown",
      "source": [
        "7. Write a program that prompts the user to enter number in two variables and swap the contents of the variables.(Do not declare extra variable.) "
      ],
      "metadata": {
        "id": "Y--hOBJpHSQw"
      }
    },
    {
      "cell_type": "code",
      "source": [
        "a=int(input(\"enter 1st number :\"))\n",
        "b=int(input(\"enter 2nd number :\"))\n",
        "a=a+b\n",
        "b=a-b\n",
        "a=a-b\n",
        "print(\"After swapping 1st number is :\",a)\n",
        "print(\"After swapping 2nd number is :\",b)"
      ],
      "metadata": {
        "id": "Qu6_Z4TIHSbL",
        "colab": {
          "base_uri": "https://localhost:8080/"
        },
        "outputId": "e8bfc320-7f71-4aa5-a682-7045822b1cb4"
      },
      "execution_count": null,
      "outputs": [
        {
          "output_type": "stream",
          "name": "stdout",
          "text": [
            "enter 1st number :10\n",
            "enter 2nd number :20\n",
            "After swapping 1st number is : 20\n",
            "After swapping 2nd number is : 10\n"
          ]
        }
      ]
    },
    {
      "cell_type": "markdown",
      "source": [
        "8. Write a program that prompts the user to input the radius of a circle and outputs the area and circumference of the circle. The formula is\n",
        "Area = pi x radius2\n",
        "Circumference = 2 x pi x radius"
      ],
      "metadata": {
        "id": "eeo7QFxuHSoZ"
      }
    },
    {
      "cell_type": "code",
      "source": [
        "pi=3.14\n",
        "radius=float(input(\"Enter the radius of a circle  \"))\n",
        "Area = pi*(radius)**2\n",
        "Circumference = 2 * pi * radius\n",
        "print(\"area\",Area)\n",
        "print(\"circumference\",Circumference)"
      ],
      "metadata": {
        "id": "BH40D0AqHSy2",
        "colab": {
          "base_uri": "https://localhost:8080/"
        },
        "outputId": "8863f55d-c8de-40d6-b4eb-3ee64785f557"
      },
      "execution_count": null,
      "outputs": [
        {
          "output_type": "stream",
          "name": "stdout",
          "text": [
            "Enter the radius of a circle  3\n",
            "area 28.26\n",
            "circumference 18.84\n"
          ]
        }
      ]
    },
    {
      "cell_type": "markdown",
      "source": [
        "9. Write a program that prompts the user to input the length and the width of a rectangle and outputs the area and circumference of the rectangle. The formula is\n",
        "Area = Length x Width\n",
        "Circumference = 2 x ( Length + Width) "
      ],
      "metadata": {
        "id": "VU0NXaMkHTHq"
      }
    },
    {
      "cell_type": "code",
      "source": [
        "Length=int(input(\"enter the length of a rectangle :\"))\n",
        "Width=int(input(\"enter the breadth of a rectangle :\"))\n",
        "Area = Length * Width\n",
        "Circumference = 2 * ( Length + Width)\n",
        "print(\"Area of a rectangle \",Area)\n",
        "print(\"perimeter /circumference of a rectangle \",Circumference)"
      ],
      "metadata": {
        "id": "O6FnK6AKHTRh",
        "colab": {
          "base_uri": "https://localhost:8080/"
        },
        "outputId": "79756819-e356-444c-f9ff-a4edfd71c527"
      },
      "execution_count": null,
      "outputs": [
        {
          "output_type": "stream",
          "name": "stdout",
          "text": [
            "enter the length of a rectangle :4\n",
            "enter the breadth of a rectangle :2\n",
            "Area of a rectangle  8\n",
            "perimeter /circumference of a rectangle  12\n"
          ]
        }
      ]
    },
    {
      "cell_type": "markdown",
      "source": [
        "10. Suppose a, b, and c denote the lengths of the sides of a triangle. Then the area of the triangle can be calculated using the formula:\n",
        "\n",
        "where \n",
        "Write a program that asks the user to input the length of sides of the triangle and print the area"
      ],
      "metadata": {
        "id": "2g4MtDu4H2xL"
      }
    },
    {
      "cell_type": "code",
      "source": [
        "import math\n",
        "a=int(input(\"Enter 1st side of a triangle: \"))\n",
        "b=int(input(\"Enter 2nd side of a triangle: \"))\n",
        "c=int(input(\"Enter 3rd side of a triangle: \"))\n",
        "S=(a+b+c)/2\n",
        "Area =math.sqrt(S*((S-a)*(S-b)*(S-c)))\n",
        "print(\"Area of a triangle \",Area)\n"
      ],
      "metadata": {
        "id": "YEAK4ZFrH2_o",
        "colab": {
          "base_uri": "https://localhost:8080/"
        },
        "outputId": "4783ca31-07ed-4bb8-8f91-7d1969b82245"
      },
      "execution_count": null,
      "outputs": [
        {
          "output_type": "stream",
          "name": "stdout",
          "text": [
            "Enter 1st side of a triangle: 10\n",
            "Enter 2nd side of a triangle: 11\n",
            "Enter 3rd side of a triangle: 13\n",
            "Area of a triangle  53.44155686354955\n"
          ]
        }
      ]
    },
    {
      "cell_type": "markdown",
      "source": [
        "11. Write a program which prompts the user to input principle, rate and time and calculate compound interest. The formula is :\n",
        "CI = P(1+R/100)^T - P"
      ],
      "metadata": {
        "id": "CHzh39ueH3No"
      }
    },
    {
      "cell_type": "code",
      "source": [
        "P=float(input(\"Enter principle amount : \"))\n",
        "T=float(input(\"Enter Time period : \"))\n",
        "R=float(input(\"Enter Rate of intrest : \"))\n",
        "CI = P*pow((1+R/100),T)- P\n",
        "print(\"compound intrest is : \",CI)\n"
      ],
      "metadata": {
        "id": "nSElOG6dH3YM",
        "colab": {
          "base_uri": "https://localhost:8080/"
        },
        "outputId": "b8443076-cbd8-4141-e645-50617cf14c9b"
      },
      "execution_count": null,
      "outputs": [
        {
          "output_type": "stream",
          "name": "stdout",
          "text": [
            "Enter principle amount : 5400\n",
            "Enter Time period : 3\n",
            "Enter Rate of intrest : 8\n",
            "compound intrest is :  1402.4448000000011\n"
          ]
        }
      ]
    },
    {
      "cell_type": "markdown",
      "source": [
        ""
      ],
      "metadata": {
        "id": "OrvcydLuH3jb"
      }
    },
    {
      "cell_type": "code",
      "source": [
        ""
      ],
      "metadata": {
        "id": "zQtNynwMH3tZ"
      },
      "execution_count": null,
      "outputs": []
    },
    {
      "cell_type": "markdown",
      "source": [
        ""
      ],
      "metadata": {
        "id": "pkFb4ihWH35j"
      }
    },
    {
      "cell_type": "code",
      "source": [
        ""
      ],
      "metadata": {
        "id": "zxUDQe_MH4ER"
      },
      "execution_count": null,
      "outputs": []
    }
  ]
}