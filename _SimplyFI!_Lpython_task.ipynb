{
  "nbformat": 4,
  "nbformat_minor": 0,
  "metadata": {
    "colab": {
      "provenance": [],
      "authorship_tag": "ABX9TyNXVZvmG7qiMAR28PY19Y/N",
      "include_colab_link": true
    },
    "kernelspec": {
      "name": "python3",
      "display_name": "Python 3"
    },
    "language_info": {
      "name": "python"
    }
  },
  "cells": [
    {
      "cell_type": "markdown",
      "metadata": {
        "id": "view-in-github",
        "colab_type": "text"
      },
      "source": [
        "<a href=\"https://colab.research.google.com/github/AKHILM20DS007/AKHILM20DS007/blob/main/_SimplyFI!_Lpython_task.ipynb\" target=\"_parent\"><img src=\"https://colab.research.google.com/assets/colab-badge.svg\" alt=\"Open In Colab\"/></a>"
      ]
    },
    {
      "cell_type": "markdown",
      "source": [
        "# Question \n",
        "\n",
        "You won’t get caught if you hide behind someone.”\n",
        "Sang-Woo advises Gi-Hun to hide behind someone to avoid getting shot.\n",
        "Gi-Hun follows Sang-Woo's advice and hides behind Ali, who saved his life earlier. Gi-Hun and Ali\n",
        "both have the same height, K\n",
        ". Many players saw this trick and also started hiding behind Ali.\n",
        "Now, there are N\n",
        "players standing between Gi-Hun and Ali in a straight line, with the ith player having height Hi\n",
        ". Gi-Hun wants to know the minimum number of players who need to get shot so that Ali is visible\n",
        "in his line of sight.\n",
        "\n",
        "\n",
        "#Note:\n",
        "• Line of sight is a straight line drawn between the topmost point of two objects. Ali is visible\n",
        "to Gi-Hun if nobody between them crosses this line.\n",
        "\n",
        "• Even if there are some players who have the same height as that of Gi-Hun and Ali, Ali will\n",
        "be visible in Gi-Hun's line of sight.\n",
        "\n",
        "• Gi-Hun and Ali have the same height.\n",
        "\n",
        "\n",
        "#Input Format\n",
        "• The first line of input contains a single integer T\n",
        ", denoting the number of test cases. The description of T\n",
        "\n",
        "• test cases follows.\n",
        "\n",
        "• The first line of each test case contains two space-separated integers N and K\n",
        "• , \n",
        "denoting the total number of players between Gi-Hun and Ali and the height of both of\n",
        "them respectively.\n",
        "\n",
        "• The second line of each test case contains N\n",
        "\n",
        "• space-separated integers, denoting the heights of the players between Gi-Hun and Ali.\n",
        "\n",
        "\n",
        "#Output Format\n",
        "For each test case, output in a single line the minimum number of players who need to get shot so\n",
        "that Ali is visible in Gi-Hun's line of sight.\n",
        "\n",
        "Constraints\n",
        "\n",
        "• 1≤T≤105\n",
        "\n",
        "• 1≤N≤105\n",
        "\n",
        "• 1≤K≤106\n",
        "\n",
        "• 1≤Hi≤106 for every 1≤i≤N\n",
        "\n",
        "• .\n",
        "\n",
        "• The sum of N across all test cases does not exceed 5⋅105\n",
        "\n",
        "• .\n",
        "\n",
        "\n",
        "#Sample Input 1\n",
        "3\n",
        "\n",
        "4 10\n",
        "\n",
        "2 13 4 16\n",
        "\n",
        "5 8\n",
        "\n",
        "9 3 8 8 4\n",
        "\n",
        "4 6\n",
        "\n",
        "1 2 3 4\n",
        "\n",
        "\n",
        "#Sample Output 1\n",
        "2\n",
        "\n",
        "1\n",
        "\n",
        "0\n",
        "\n",
        "\n",
        "#Explanation\n",
        "\n",
        "Test Case 1: Gi-Hun and Ali have height 10\n",
        ". For Ali to be visible to Gi-Hun, the second person (with height 13) and the fourth person (with\n",
        "height 16) need to get shot. Hence, the minimum number of players who need to get shot is 2\n",
        ".\n",
        "\n",
        "\n",
        "Test Case 2: Gi-Hun and Ali have height 8\n",
        ". For Ali to be visible to Gi-Hun, the first person (with height 9) needs to get shot. Hence, the\n",
        "minimum number of players who need to get shot is 1\n",
        ".\n",
        "\n",
        "\n",
        "Test Case 3: Nobody needs to get shot because everyone is shorter than Gi-Hun and Ali"
      ],
      "metadata": {
        "id": "D1ui4spJopZx"
      }
    },
    {
      "cell_type": "code",
      "source": [
        " \"\"\"The first line of input contains a single integer T , denoting the number of test cases. The description of T\n",
        "\n",
        "• test cases follows.\n",
        "\n",
        "• The first line of each test case contains two space-separated integers N and K • , denoting the total number of players between Gi-Hun and Ali and the height of both of them respectively.\n",
        "\n",
        "• The second line of each test case contains N\n",
        "\n",
        "• space-separated integers, denoting the heights of the players between Gi-Hun and Ali.\"\"\"\n",
        "\n",
        "T=int(input(\"enter number of test cases u want to check: \"))\n",
        "N=int(input(\"total number of players between Gi-Hun and Ali: \"))\n",
        "#N=[]\n",
        "for h in range(N):\n",
        "  K=int(input(\" height of persons between Gi-Hun and Ali \"))\n",
        "\n",
        "#print(input(\"enter total number of players between Gi-Hun and Ali and the height of both of them respectively \"),' ',)"
      ],
      "metadata": {
        "id": "hMulf5tML7J8"
      },
      "execution_count": null,
      "outputs": []
    },
    {
      "cell_type": "markdown",
      "source": [
        "#Question \n",
        "\n",
        "Write a python code for converting integer values to Indian currency notations, without\n",
        "using the currency libraries\n",
        "\n",
        "Example:\n",
        "\n",
        "input: 504678\n",
        "\n",
        "output: 5,04,67"
      ],
      "metadata": {
        "id": "nB_a0MeE06Ay"
      }
    },
    {
      "cell_type": "code",
      "source": [
        "a=str(input(\"Enter a number :\"))\n",
        "b=','\n",
        "c=a[-3:]\n",
        "#for i in a:\n",
        "print(a+b)\n",
        "d=a[-5:-3]+b+c\n",
        "e=a[:-5]\n",
        "print(e+b+d)"
      ],
      "metadata": {
        "colab": {
          "base_uri": "https://localhost:8080/"
        },
        "id": "M1wfNyOV01Yk",
        "outputId": "12c4d5c7-f99f-453e-a6a6-6ddb37b0e6c3"
      },
      "execution_count": 39,
      "outputs": [
        {
          "output_type": "stream",
          "name": "stdout",
          "text": [
            "Enter a number :504678\n",
            "504678,\n",
            "5,04,678\n"
          ]
        }
      ]
    },
    {
      "cell_type": "code",
      "source": [
        "\"\"\"def fun(mylist):\n",
        "    for value in mylist:\n",
        "        if value.isdigit():\n",
        "            print(value*3)\n",
        "        else:\n",
        "            print(value+'#')\n",
        "\n",
        "mylist = ['41','DROND','GIRIRAJ', '13','ZARA']\n",
        "fun(mylist)\"\"\""
      ],
      "metadata": {
        "id": "i4OhnMhF2ZxU",
        "colab": {
          "base_uri": "https://localhost:8080/",
          "height": 35
        },
        "outputId": "a0c370bd-4bf2-4c37-ab44-cae70e3fa127"
      },
      "execution_count": 40,
      "outputs": [
        {
          "output_type": "execute_result",
          "data": {
            "text/plain": [
              "\"def fun(mylist):\\n    for value in mylist:\\n        if value.isdigit():\\n            print(value*3)\\n        else:\\n            print(value+'#')\\n\\nmylist = ['41','DROND','GIRIRAJ', '13','ZARA']\\nfun(mylist)\""
            ],
            "application/vnd.google.colaboratory.intrinsic+json": {
              "type": "string"
            }
          },
          "metadata": {},
          "execution_count": 40
        }
      ]
    },
    {
      "cell_type": "code",
      "source": [],
      "metadata": {
        "id": "4dpctsUMeEsg"
      },
      "execution_count": null,
      "outputs": []
    }
  ]
}