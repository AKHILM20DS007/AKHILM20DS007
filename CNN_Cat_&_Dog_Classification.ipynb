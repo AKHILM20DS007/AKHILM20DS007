{
  "cells": [
    {
      "cell_type": "markdown",
      "metadata": {
        "id": "view-in-github",
        "colab_type": "text"
      },
      "source": [
        "<a href=\"https://colab.research.google.com/github/AKHILM20DS007/AKHILM20DS007/blob/main/CNN_Cat_%26_Dog_Classification.ipynb\" target=\"_parent\"><img src=\"https://colab.research.google.com/assets/colab-badge.svg\" alt=\"Open In Colab\"/></a>"
      ]
    },
    {
      "cell_type": "code",
      "execution_count": null,
      "metadata": {
        "colab": {
          "base_uri": "https://localhost:8080/"
        },
        "id": "K8JjQBQNOlGb",
        "outputId": "dfe0eece-80f7-41be-f34f-e94594261aab"
      },
      "outputs": [
        {
          "output_type": "stream",
          "name": "stdout",
          "text": [
            "finish\n"
          ]
        }
      ],
      "source": [
        "from zipfile import ZipFile\n",
        "file_name = \"/content/drive/MyDrive/dataset_new (1).zip\"\n",
        "with ZipFile(file_name,'r') as zip:\n",
        "  zip.extractall()\n",
        "  print('finish')"
      ]
    },
    {
      "cell_type": "code",
      "execution_count": null,
      "metadata": {
        "id": "_dqMdvYTL_Z4",
        "colab": {
          "base_uri": "https://localhost:8080/"
        },
        "outputId": "35a61120-5d74-466b-a56d-f64571e8ea66"
      },
      "outputs": [
        {
          "output_type": "stream",
          "name": "stdout",
          "text": [
            "Mounted at /content/drive\n"
          ]
        }
      ],
      "source": [
        "from google.colab import drive\n",
        "drive.mount('/content/drive')"
      ]
    },
    {
      "cell_type": "code",
      "execution_count": null,
      "metadata": {
        "id": "txNa5EKjPxaN"
      },
      "outputs": [],
      "source": [
        "import keras\n",
        "from keras.models import Sequential\n",
        "from keras.preprocessing.image import ImageDataGenerator\n",
        "from keras.layers import *\n",
        "import numpy as np"
      ]
    },
    {
      "cell_type": "code",
      "execution_count": null,
      "metadata": {
        "id": "PDmcO907RWfV"
      },
      "outputs": [],
      "source": [
        "### Creating model and layers\n",
        "model = Sequential();   ## blank model\n",
        "# Step 1 - Convolution\n",
        "model.add(Conv2D(32,(3,3),input_shape=(64,64,3),activation='relu'))\n",
        "model.add(MaxPooling2D(pool_size=(2,2)))\n",
        "model.add(Dropout(0.2))   ## applied for under/over fitting\n",
        "# Step 1 - Convolution\n",
        "model.add(Conv2D(64,(3,3),activation='relu'))\n",
        "# Step 2 - Pooling\n",
        "model.add(MaxPooling2D(pool_size=(2,2)))\n",
        "model.add(Dropout(0.3))\n",
        "model.add(Conv2D(128,(3,3),activation='relu'))\n",
        "# Step 2 - Pooling\n",
        "model.add(MaxPooling2D(pool_size=(2,2)))\n",
        "model.add(Dropout(0.4))\n",
        "# Step 3 - Flattening\n",
        "model.add(Flatten())\n",
        "### Hidden and output\n",
        "# Step 4 - Full connection\n",
        "model.add(Dense(1, activation='sigmoid'))   ## output layer\n",
        "# Compiling the CNN\n",
        "model.compile(optimizer ='adam',loss='binary_crossentropy',metrics=['accuracy'])"
      ]
    },
    {
      "cell_type": "code",
      "execution_count": null,
      "metadata": {
        "id": "5GCXyeyERX4V"
      },
      "outputs": [],
      "source": [
        "# https://keras.io/api/preprocessing/image/#imagedatagenerator-class\n",
        "\n",
        "train_datagen = ImageDataGenerator(rescale = 1./255,\n",
        "                                   shear_range = 0.2,\n",
        "                                   zoom_range = 0.2,\n",
        "                                   horizontal_flip = True)\n",
        "test_datagen = ImageDataGenerator(rescale = 1./255)"
      ]
    },
    {
      "cell_type": "code",
      "execution_count": null,
      "metadata": {
        "colab": {
          "base_uri": "https://localhost:8080/"
        },
        "id": "RBLnM0uuRZxA",
        "outputId": "7af5c98a-926a-47e5-f073-76738375b724"
      },
      "outputs": [
        {
          "name": "stdout",
          "output_type": "stream",
          "text": [
            "Found 2000 images belonging to 2 classes.\n",
            "Found 500 images belonging to 2 classes.\n"
          ]
        }
      ],
      "source": [
        "training_set = train_datagen.flow_from_directory('/content/dataset_new/training_set',\n",
        "                                                 target_size = (64, 64),\n",
        "                                                 batch_size = 32,\n",
        "                                                 class_mode = 'binary')\n",
        "test_set = test_datagen.flow_from_directory('/content/dataset_new/test_set',\n",
        "                                            target_size = (64, 64),\n",
        "                                            batch_size = 32,\n",
        "                                            class_mode = 'binary')"
      ]
    },
    {
      "cell_type": "code",
      "execution_count": null,
      "metadata": {
        "colab": {
          "base_uri": "https://localhost:8080/"
        },
        "id": "nW67RS-hRb2s",
        "outputId": "24f00b4f-13ad-4ec6-a4ea-0080d054de91"
      },
      "outputs": [
        {
          "name": "stdout",
          "output_type": "stream",
          "text": [
            "Epoch 1/200\n",
            "62/62 [==============================] - 40s 162ms/step - loss: 0.6992 - accuracy: 0.5051 - val_loss: 0.6930 - val_accuracy: 0.4875\n",
            "Epoch 2/200\n",
            "62/62 [==============================] - 10s 158ms/step - loss: 0.6873 - accuracy: 0.5366 - val_loss: 0.6863 - val_accuracy: 0.5104\n",
            "Epoch 3/200\n",
            "62/62 [==============================] - 10s 158ms/step - loss: 0.6754 - accuracy: 0.5920 - val_loss: 0.6606 - val_accuracy: 0.6229\n",
            "Epoch 4/200\n",
            "62/62 [==============================] - 10s 160ms/step - loss: 0.6523 - accuracy: 0.6270 - val_loss: 0.6444 - val_accuracy: 0.6625\n",
            "Epoch 5/200\n",
            "62/62 [==============================] - 10s 158ms/step - loss: 0.6355 - accuracy: 0.6494 - val_loss: 0.6255 - val_accuracy: 0.6792\n",
            "Epoch 6/200\n",
            "62/62 [==============================] - 10s 159ms/step - loss: 0.6164 - accuracy: 0.6773 - val_loss: 0.6453 - val_accuracy: 0.6250\n",
            "Epoch 7/200\n",
            "62/62 [==============================] - 10s 158ms/step - loss: 0.6094 - accuracy: 0.6748 - val_loss: 0.5971 - val_accuracy: 0.6958\n",
            "Epoch 8/200\n",
            "62/62 [==============================] - 10s 158ms/step - loss: 0.5808 - accuracy: 0.6997 - val_loss: 0.5962 - val_accuracy: 0.6917\n",
            "Epoch 9/200\n",
            "62/62 [==============================] - 11s 176ms/step - loss: 0.5731 - accuracy: 0.7195 - val_loss: 0.5686 - val_accuracy: 0.7250\n",
            "Epoch 10/200\n",
            "62/62 [==============================] - 10s 157ms/step - loss: 0.5508 - accuracy: 0.7251 - val_loss: 0.6557 - val_accuracy: 0.6208\n",
            "Epoch 11/200\n",
            "62/62 [==============================] - 11s 177ms/step - loss: 0.5639 - accuracy: 0.7048 - val_loss: 0.5992 - val_accuracy: 0.6708\n",
            "Epoch 12/200\n",
            "62/62 [==============================] - 10s 157ms/step - loss: 0.5275 - accuracy: 0.7500 - val_loss: 0.5857 - val_accuracy: 0.7167\n",
            "Epoch 13/200\n",
            "62/62 [==============================] - 11s 176ms/step - loss: 0.5454 - accuracy: 0.7373 - val_loss: 0.5495 - val_accuracy: 0.7229\n",
            "Epoch 14/200\n",
            "62/62 [==============================] - 10s 157ms/step - loss: 0.5102 - accuracy: 0.7454 - val_loss: 0.5747 - val_accuracy: 0.6958\n",
            "Epoch 15/200\n",
            "62/62 [==============================] - 11s 175ms/step - loss: 0.5181 - accuracy: 0.7525 - val_loss: 0.5307 - val_accuracy: 0.7437\n",
            "Epoch 16/200\n",
            "62/62 [==============================] - 10s 157ms/step - loss: 0.5030 - accuracy: 0.7591 - val_loss: 0.5498 - val_accuracy: 0.7458\n",
            "Epoch 17/200\n",
            "62/62 [==============================] - 10s 159ms/step - loss: 0.5054 - accuracy: 0.7637 - val_loss: 0.5419 - val_accuracy: 0.7333\n",
            "Epoch 18/200\n",
            "62/62 [==============================] - 10s 157ms/step - loss: 0.5025 - accuracy: 0.7500 - val_loss: 0.5440 - val_accuracy: 0.7437\n",
            "Epoch 19/200\n",
            "62/62 [==============================] - 11s 177ms/step - loss: 0.4805 - accuracy: 0.7729 - val_loss: 0.5256 - val_accuracy: 0.7396\n",
            "Epoch 20/200\n",
            "62/62 [==============================] - 10s 158ms/step - loss: 0.4952 - accuracy: 0.7602 - val_loss: 0.5259 - val_accuracy: 0.7583\n",
            "Epoch 21/200\n",
            "62/62 [==============================] - 11s 178ms/step - loss: 0.4795 - accuracy: 0.7734 - val_loss: 0.5288 - val_accuracy: 0.7500\n",
            "Epoch 22/200\n",
            "62/62 [==============================] - 10s 156ms/step - loss: 0.4883 - accuracy: 0.7668 - val_loss: 0.5020 - val_accuracy: 0.7667\n",
            "Epoch 23/200\n",
            "62/62 [==============================] - 10s 154ms/step - loss: 0.4523 - accuracy: 0.7835 - val_loss: 0.4996 - val_accuracy: 0.7563\n",
            "Epoch 24/200\n",
            "62/62 [==============================] - 11s 172ms/step - loss: 0.4611 - accuracy: 0.7815 - val_loss: 0.5054 - val_accuracy: 0.7708\n",
            "Epoch 25/200\n",
            "62/62 [==============================] - 9s 153ms/step - loss: 0.4479 - accuracy: 0.7973 - val_loss: 0.5029 - val_accuracy: 0.7479\n",
            "Epoch 26/200\n",
            "62/62 [==============================] - 9s 153ms/step - loss: 0.4425 - accuracy: 0.7917 - val_loss: 0.5315 - val_accuracy: 0.7521\n",
            "Epoch 27/200\n",
            "62/62 [==============================] - 11s 174ms/step - loss: 0.4482 - accuracy: 0.7913 - val_loss: 0.4954 - val_accuracy: 0.7646\n",
            "Epoch 28/200\n",
            "62/62 [==============================] - 9s 152ms/step - loss: 0.4280 - accuracy: 0.8084 - val_loss: 0.4915 - val_accuracy: 0.7708\n",
            "Epoch 29/200\n",
            "62/62 [==============================] - 9s 152ms/step - loss: 0.4164 - accuracy: 0.8166 - val_loss: 0.4837 - val_accuracy: 0.7708\n",
            "Epoch 30/200\n",
            "62/62 [==============================] - 9s 152ms/step - loss: 0.4172 - accuracy: 0.8054 - val_loss: 0.5117 - val_accuracy: 0.7708\n",
            "Epoch 31/200\n",
            "62/62 [==============================] - 9s 153ms/step - loss: 0.4331 - accuracy: 0.7952 - val_loss: 0.5156 - val_accuracy: 0.7625\n",
            "Epoch 32/200\n",
            "62/62 [==============================] - 9s 152ms/step - loss: 0.4180 - accuracy: 0.8105 - val_loss: 0.5173 - val_accuracy: 0.7750\n",
            "Epoch 33/200\n",
            "62/62 [==============================] - 9s 152ms/step - loss: 0.4054 - accuracy: 0.8206 - val_loss: 0.5035 - val_accuracy: 0.7833\n",
            "Epoch 34/200\n",
            "62/62 [==============================] - 9s 151ms/step - loss: 0.4186 - accuracy: 0.8166 - val_loss: 0.4778 - val_accuracy: 0.7812\n",
            "Epoch 35/200\n",
            "62/62 [==============================] - 9s 153ms/step - loss: 0.3980 - accuracy: 0.8166 - val_loss: 0.4688 - val_accuracy: 0.7937\n",
            "Epoch 36/200\n",
            "62/62 [==============================] - 9s 152ms/step - loss: 0.4012 - accuracy: 0.8130 - val_loss: 0.4903 - val_accuracy: 0.7792\n",
            "Epoch 37/200\n",
            "62/62 [==============================] - 11s 171ms/step - loss: 0.3815 - accuracy: 0.8252 - val_loss: 0.4745 - val_accuracy: 0.7896\n",
            "Epoch 38/200\n",
            "62/62 [==============================] - 11s 173ms/step - loss: 0.3663 - accuracy: 0.8430 - val_loss: 0.4689 - val_accuracy: 0.7875\n",
            "Epoch 39/200\n",
            "62/62 [==============================] - 9s 152ms/step - loss: 0.3890 - accuracy: 0.8349 - val_loss: 0.4757 - val_accuracy: 0.8000\n",
            "Epoch 40/200\n",
            "62/62 [==============================] - 9s 153ms/step - loss: 0.4063 - accuracy: 0.8095 - val_loss: 0.4821 - val_accuracy: 0.7833\n",
            "Epoch 41/200\n",
            "62/62 [==============================] - 9s 152ms/step - loss: 0.3699 - accuracy: 0.8313 - val_loss: 0.4706 - val_accuracy: 0.8000\n",
            "Epoch 42/200\n",
            "62/62 [==============================] - 11s 172ms/step - loss: 0.3609 - accuracy: 0.8389 - val_loss: 0.4630 - val_accuracy: 0.8062\n",
            "Epoch 43/200\n",
            "62/62 [==============================] - 10s 155ms/step - loss: 0.3724 - accuracy: 0.8338 - val_loss: 0.4467 - val_accuracy: 0.8000\n",
            "Epoch 44/200\n",
            "62/62 [==============================] - 10s 154ms/step - loss: 0.3693 - accuracy: 0.8364 - val_loss: 0.4391 - val_accuracy: 0.7896\n",
            "Epoch 45/200\n",
            "62/62 [==============================] - 10s 156ms/step - loss: 0.3870 - accuracy: 0.8277 - val_loss: 0.4661 - val_accuracy: 0.8062\n",
            "Epoch 46/200\n",
            "62/62 [==============================] - 11s 174ms/step - loss: 0.3503 - accuracy: 0.8420 - val_loss: 0.4621 - val_accuracy: 0.8021\n",
            "Epoch 47/200\n",
            "62/62 [==============================] - 9s 153ms/step - loss: 0.3592 - accuracy: 0.8374 - val_loss: 0.4981 - val_accuracy: 0.7771\n",
            "Epoch 48/200\n",
            "62/62 [==============================] - 9s 153ms/step - loss: 0.3458 - accuracy: 0.8471 - val_loss: 0.4551 - val_accuracy: 0.7937\n",
            "Epoch 49/200\n",
            "62/62 [==============================] - 9s 153ms/step - loss: 0.3363 - accuracy: 0.8420 - val_loss: 0.4617 - val_accuracy: 0.7958\n",
            "Epoch 50/200\n",
            "62/62 [==============================] - 9s 153ms/step - loss: 0.3388 - accuracy: 0.8552 - val_loss: 0.4277 - val_accuracy: 0.8042\n",
            "Epoch 51/200\n",
            "62/62 [==============================] - 10s 154ms/step - loss: 0.3667 - accuracy: 0.8277 - val_loss: 0.4619 - val_accuracy: 0.7917\n",
            "Epoch 52/200\n",
            "62/62 [==============================] - 9s 154ms/step - loss: 0.3374 - accuracy: 0.8547 - val_loss: 0.4418 - val_accuracy: 0.8062\n",
            "Epoch 53/200\n",
            "62/62 [==============================] - 9s 153ms/step - loss: 0.3233 - accuracy: 0.8572 - val_loss: 0.4914 - val_accuracy: 0.7729\n",
            "Epoch 54/200\n",
            "62/62 [==============================] - 10s 154ms/step - loss: 0.3049 - accuracy: 0.8669 - val_loss: 0.4455 - val_accuracy: 0.7875\n",
            "Epoch 55/200\n",
            "62/62 [==============================] - 9s 153ms/step - loss: 0.3136 - accuracy: 0.8689 - val_loss: 0.4463 - val_accuracy: 0.8062\n",
            "Epoch 56/200\n",
            "62/62 [==============================] - 11s 171ms/step - loss: 0.3101 - accuracy: 0.8623 - val_loss: 0.4476 - val_accuracy: 0.8000\n",
            "Epoch 57/200\n",
            "62/62 [==============================] - 10s 154ms/step - loss: 0.3231 - accuracy: 0.8572 - val_loss: 0.4287 - val_accuracy: 0.8292\n",
            "Epoch 58/200\n",
            "62/62 [==============================] - 9s 151ms/step - loss: 0.3289 - accuracy: 0.8511 - val_loss: 0.4297 - val_accuracy: 0.8062\n",
            "Epoch 59/200\n",
            "62/62 [==============================] - 11s 172ms/step - loss: 0.3153 - accuracy: 0.8633 - val_loss: 0.4600 - val_accuracy: 0.8021\n",
            "Epoch 60/200\n",
            "62/62 [==============================] - 9s 152ms/step - loss: 0.2876 - accuracy: 0.8811 - val_loss: 0.4045 - val_accuracy: 0.8271\n",
            "Epoch 61/200\n",
            "62/62 [==============================] - 9s 152ms/step - loss: 0.2975 - accuracy: 0.8735 - val_loss: 0.4334 - val_accuracy: 0.7979\n",
            "Epoch 62/200\n",
            "62/62 [==============================] - 11s 173ms/step - loss: 0.2987 - accuracy: 0.8694 - val_loss: 0.4049 - val_accuracy: 0.8083\n",
            "Epoch 63/200\n",
            "62/62 [==============================] - 9s 153ms/step - loss: 0.2987 - accuracy: 0.8664 - val_loss: 0.4240 - val_accuracy: 0.8146\n",
            "Epoch 64/200\n",
            "62/62 [==============================] - 9s 153ms/step - loss: 0.2896 - accuracy: 0.8811 - val_loss: 0.4222 - val_accuracy: 0.8125\n",
            "Epoch 65/200\n",
            "62/62 [==============================] - 9s 153ms/step - loss: 0.2942 - accuracy: 0.8694 - val_loss: 0.4202 - val_accuracy: 0.8021\n",
            "Epoch 66/200\n",
            "62/62 [==============================] - 9s 152ms/step - loss: 0.2937 - accuracy: 0.8760 - val_loss: 0.4430 - val_accuracy: 0.8021\n",
            "Epoch 67/200\n",
            "62/62 [==============================] - 9s 152ms/step - loss: 0.2790 - accuracy: 0.8735 - val_loss: 0.4499 - val_accuracy: 0.8083\n",
            "Epoch 68/200\n",
            "62/62 [==============================] - 9s 153ms/step - loss: 0.2745 - accuracy: 0.8821 - val_loss: 0.4133 - val_accuracy: 0.8188\n",
            "Epoch 69/200\n",
            "62/62 [==============================] - 11s 172ms/step - loss: 0.2890 - accuracy: 0.8796 - val_loss: 0.4369 - val_accuracy: 0.7979\n",
            "Epoch 70/200\n",
            "62/62 [==============================] - 10s 153ms/step - loss: 0.3023 - accuracy: 0.8730 - val_loss: 0.4030 - val_accuracy: 0.8313\n",
            "Epoch 71/200\n",
            "62/62 [==============================] - 9s 153ms/step - loss: 0.2762 - accuracy: 0.8841 - val_loss: 0.4097 - val_accuracy: 0.8208\n",
            "Epoch 72/200\n",
            "62/62 [==============================] - 11s 172ms/step - loss: 0.2782 - accuracy: 0.8775 - val_loss: 0.4362 - val_accuracy: 0.8062\n",
            "Epoch 73/200\n",
            "62/62 [==============================] - 9s 153ms/step - loss: 0.2615 - accuracy: 0.8974 - val_loss: 0.4144 - val_accuracy: 0.8188\n",
            "Epoch 74/200\n",
            "62/62 [==============================] - 9s 152ms/step - loss: 0.3005 - accuracy: 0.8714 - val_loss: 0.4314 - val_accuracy: 0.8104\n",
            "Epoch 75/200\n",
            "62/62 [==============================] - 9s 152ms/step - loss: 0.2643 - accuracy: 0.8862 - val_loss: 0.4613 - val_accuracy: 0.8042\n",
            "Epoch 76/200\n",
            "62/62 [==============================] - 11s 172ms/step - loss: 0.2408 - accuracy: 0.9004 - val_loss: 0.4357 - val_accuracy: 0.8042\n",
            "Epoch 77/200\n",
            "62/62 [==============================] - 11s 172ms/step - loss: 0.2770 - accuracy: 0.8836 - val_loss: 0.4032 - val_accuracy: 0.8271\n",
            "Epoch 78/200\n",
            "62/62 [==============================] - 9s 153ms/step - loss: 0.2588 - accuracy: 0.8979 - val_loss: 0.4054 - val_accuracy: 0.8271\n",
            "Epoch 79/200\n",
            "62/62 [==============================] - 9s 152ms/step - loss: 0.2451 - accuracy: 0.9024 - val_loss: 0.4275 - val_accuracy: 0.8208\n",
            "Epoch 80/200\n",
            "62/62 [==============================] - 9s 151ms/step - loss: 0.2457 - accuracy: 0.8994 - val_loss: 0.4457 - val_accuracy: 0.8229\n",
            "Epoch 81/200\n",
            "62/62 [==============================] - 9s 151ms/step - loss: 0.2349 - accuracy: 0.9004 - val_loss: 0.4312 - val_accuracy: 0.8021\n",
            "Epoch 82/200\n",
            "62/62 [==============================] - 9s 153ms/step - loss: 0.2538 - accuracy: 0.8999 - val_loss: 0.4566 - val_accuracy: 0.8021\n",
            "Epoch 83/200\n",
            "62/62 [==============================] - 9s 151ms/step - loss: 0.2490 - accuracy: 0.8857 - val_loss: 0.4265 - val_accuracy: 0.8104\n",
            "Epoch 84/200\n",
            "62/62 [==============================] - 9s 152ms/step - loss: 0.2389 - accuracy: 0.9009 - val_loss: 0.4272 - val_accuracy: 0.8167\n",
            "Epoch 85/200\n",
            "62/62 [==============================] - 9s 153ms/step - loss: 0.2503 - accuracy: 0.8918 - val_loss: 0.4266 - val_accuracy: 0.8167\n",
            "Epoch 86/200\n",
            "62/62 [==============================] - 9s 153ms/step - loss: 0.2560 - accuracy: 0.8862 - val_loss: 0.4213 - val_accuracy: 0.8021\n",
            "Epoch 87/200\n",
            "62/62 [==============================] - 10s 157ms/step - loss: 0.2400 - accuracy: 0.8948 - val_loss: 0.4359 - val_accuracy: 0.8083\n",
            "Epoch 88/200\n",
            "62/62 [==============================] - 10s 155ms/step - loss: 0.2362 - accuracy: 0.8963 - val_loss: 0.4396 - val_accuracy: 0.8062\n",
            "Epoch 89/200\n",
            "62/62 [==============================] - 10s 154ms/step - loss: 0.2217 - accuracy: 0.9050 - val_loss: 0.4593 - val_accuracy: 0.8021\n",
            "Epoch 90/200\n",
            "62/62 [==============================] - 11s 175ms/step - loss: 0.2363 - accuracy: 0.9070 - val_loss: 0.4374 - val_accuracy: 0.8104\n",
            "Epoch 91/200\n",
            "62/62 [==============================] - 10s 154ms/step - loss: 0.2251 - accuracy: 0.9106 - val_loss: 0.4412 - val_accuracy: 0.7937\n",
            "Epoch 92/200\n",
            "62/62 [==============================] - 10s 154ms/step - loss: 0.2381 - accuracy: 0.8958 - val_loss: 0.4351 - val_accuracy: 0.8062\n",
            "Epoch 93/200\n",
            "62/62 [==============================] - 9s 152ms/step - loss: 0.2258 - accuracy: 0.9101 - val_loss: 0.4739 - val_accuracy: 0.8000\n",
            "Epoch 94/200\n",
            "62/62 [==============================] - 9s 152ms/step - loss: 0.2356 - accuracy: 0.8994 - val_loss: 0.4536 - val_accuracy: 0.7875\n",
            "Epoch 95/200\n",
            "62/62 [==============================] - 9s 153ms/step - loss: 0.2384 - accuracy: 0.9009 - val_loss: 0.4374 - val_accuracy: 0.8042\n",
            "Epoch 96/200\n",
            "62/62 [==============================] - 9s 152ms/step - loss: 0.2108 - accuracy: 0.9085 - val_loss: 0.4525 - val_accuracy: 0.8229\n",
            "Epoch 97/200\n",
            "62/62 [==============================] - 11s 173ms/step - loss: 0.2299 - accuracy: 0.9121 - val_loss: 0.4609 - val_accuracy: 0.7917\n",
            "Epoch 98/200\n",
            "62/62 [==============================] - 10s 154ms/step - loss: 0.2137 - accuracy: 0.9141 - val_loss: 0.4523 - val_accuracy: 0.8062\n",
            "Epoch 99/200\n",
            "62/62 [==============================] - 11s 173ms/step - loss: 0.2311 - accuracy: 0.8999 - val_loss: 0.4198 - val_accuracy: 0.8146\n",
            "Epoch 100/200\n",
            "62/62 [==============================] - 9s 153ms/step - loss: 0.2011 - accuracy: 0.9111 - val_loss: 0.4298 - val_accuracy: 0.8104\n",
            "Epoch 101/200\n",
            "62/62 [==============================] - 11s 173ms/step - loss: 0.2124 - accuracy: 0.9162 - val_loss: 0.4466 - val_accuracy: 0.8167\n",
            "Epoch 102/200\n",
            "62/62 [==============================] - 9s 152ms/step - loss: 0.2271 - accuracy: 0.8999 - val_loss: 0.4845 - val_accuracy: 0.8146\n",
            "Epoch 103/200\n",
            "62/62 [==============================] - 10s 154ms/step - loss: 0.2065 - accuracy: 0.9163 - val_loss: 0.4514 - val_accuracy: 0.8000\n",
            "Epoch 104/200\n",
            "62/62 [==============================] - 9s 153ms/step - loss: 0.2045 - accuracy: 0.9151 - val_loss: 0.4662 - val_accuracy: 0.8000\n",
            "Epoch 105/200\n",
            "62/62 [==============================] - 9s 152ms/step - loss: 0.2128 - accuracy: 0.9106 - val_loss: 0.4614 - val_accuracy: 0.8167\n",
            "Epoch 106/200\n",
            "62/62 [==============================] - 11s 174ms/step - loss: 0.2064 - accuracy: 0.9183 - val_loss: 0.4541 - val_accuracy: 0.8125\n",
            "Epoch 107/200\n",
            "62/62 [==============================] - 11s 173ms/step - loss: 0.1934 - accuracy: 0.9217 - val_loss: 0.4581 - val_accuracy: 0.8188\n",
            "Epoch 108/200\n",
            "62/62 [==============================] - 10s 154ms/step - loss: 0.2017 - accuracy: 0.9136 - val_loss: 0.4415 - val_accuracy: 0.7979\n",
            "Epoch 109/200\n",
            "62/62 [==============================] - 11s 173ms/step - loss: 0.2050 - accuracy: 0.9172 - val_loss: 0.4717 - val_accuracy: 0.8042\n",
            "Epoch 110/200\n",
            "62/62 [==============================] - 10s 155ms/step - loss: 0.1884 - accuracy: 0.9289 - val_loss: 0.4456 - val_accuracy: 0.8271\n",
            "Epoch 111/200\n",
            "62/62 [==============================] - 10s 157ms/step - loss: 0.2037 - accuracy: 0.9151 - val_loss: 0.4552 - val_accuracy: 0.8250\n",
            "Epoch 112/200\n",
            "62/62 [==============================] - 10s 155ms/step - loss: 0.1856 - accuracy: 0.9238 - val_loss: 0.4311 - val_accuracy: 0.8396\n",
            "Epoch 113/200\n",
            "62/62 [==============================] - 11s 173ms/step - loss: 0.1920 - accuracy: 0.9197 - val_loss: 0.4558 - val_accuracy: 0.8146\n",
            "Epoch 114/200\n",
            "62/62 [==============================] - 10s 154ms/step - loss: 0.2061 - accuracy: 0.9162 - val_loss: 0.4595 - val_accuracy: 0.8250\n",
            "Epoch 115/200\n",
            "62/62 [==============================] - 10s 154ms/step - loss: 0.1956 - accuracy: 0.9248 - val_loss: 0.4356 - val_accuracy: 0.8125\n",
            "Epoch 116/200\n",
            "62/62 [==============================] - 10s 154ms/step - loss: 0.1920 - accuracy: 0.9248 - val_loss: 0.4443 - val_accuracy: 0.8208\n",
            "Epoch 117/200\n",
            "62/62 [==============================] - 10s 155ms/step - loss: 0.1909 - accuracy: 0.9187 - val_loss: 0.4962 - val_accuracy: 0.8229\n",
            "Epoch 118/200\n",
            "62/62 [==============================] - 10s 155ms/step - loss: 0.1839 - accuracy: 0.9228 - val_loss: 0.4970 - val_accuracy: 0.8000\n",
            "Epoch 119/200\n",
            "62/62 [==============================] - 10s 154ms/step - loss: 0.1955 - accuracy: 0.9172 - val_loss: 0.4739 - val_accuracy: 0.8062\n",
            "Epoch 120/200\n",
            "62/62 [==============================] - 9s 153ms/step - loss: 0.1789 - accuracy: 0.9248 - val_loss: 0.4384 - val_accuracy: 0.8250\n",
            "Epoch 121/200\n",
            "62/62 [==============================] - 9s 153ms/step - loss: 0.1806 - accuracy: 0.9228 - val_loss: 0.4796 - val_accuracy: 0.8167\n",
            "Epoch 122/200\n",
            "62/62 [==============================] - 9s 153ms/step - loss: 0.1979 - accuracy: 0.9162 - val_loss: 0.4772 - val_accuracy: 0.8188\n",
            "Epoch 123/200\n",
            "62/62 [==============================] - 9s 153ms/step - loss: 0.1968 - accuracy: 0.9248 - val_loss: 0.4741 - val_accuracy: 0.8188\n",
            "Epoch 124/200\n",
            "62/62 [==============================] - 9s 152ms/step - loss: 0.1815 - accuracy: 0.9268 - val_loss: 0.4227 - val_accuracy: 0.8208\n",
            "Epoch 125/200\n",
            "62/62 [==============================] - 9s 152ms/step - loss: 0.1857 - accuracy: 0.9212 - val_loss: 0.4610 - val_accuracy: 0.8104\n",
            "Epoch 126/200\n",
            "62/62 [==============================] - 9s 151ms/step - loss: 0.2124 - accuracy: 0.9096 - val_loss: 0.4475 - val_accuracy: 0.8229\n",
            "Epoch 127/200\n",
            "62/62 [==============================] - 9s 150ms/step - loss: 0.1756 - accuracy: 0.9258 - val_loss: 0.4237 - val_accuracy: 0.8229\n",
            "Epoch 128/200\n",
            "62/62 [==============================] - 9s 152ms/step - loss: 0.1867 - accuracy: 0.9253 - val_loss: 0.4507 - val_accuracy: 0.8083\n",
            "Epoch 129/200\n",
            "62/62 [==============================] - 9s 149ms/step - loss: 0.1754 - accuracy: 0.9299 - val_loss: 0.4593 - val_accuracy: 0.8229\n",
            "Epoch 130/200\n",
            "62/62 [==============================] - 9s 150ms/step - loss: 0.1725 - accuracy: 0.9263 - val_loss: 0.4846 - val_accuracy: 0.7958\n",
            "Epoch 131/200\n",
            "62/62 [==============================] - 9s 151ms/step - loss: 0.2001 - accuracy: 0.9162 - val_loss: 0.4591 - val_accuracy: 0.8229\n",
            "Epoch 132/200\n",
            "62/62 [==============================] - 9s 152ms/step - loss: 0.1615 - accuracy: 0.9360 - val_loss: 0.4646 - val_accuracy: 0.8000\n",
            "Epoch 133/200\n",
            "62/62 [==============================] - 9s 153ms/step - loss: 0.1652 - accuracy: 0.9355 - val_loss: 0.4628 - val_accuracy: 0.8250\n",
            "Epoch 134/200\n",
            "62/62 [==============================] - 10s 154ms/step - loss: 0.1667 - accuracy: 0.9309 - val_loss: 0.4613 - val_accuracy: 0.8146\n",
            "Epoch 135/200\n",
            "62/62 [==============================] - 9s 152ms/step - loss: 0.1815 - accuracy: 0.9273 - val_loss: 0.4787 - val_accuracy: 0.8333\n",
            "Epoch 136/200\n",
            "62/62 [==============================] - 9s 152ms/step - loss: 0.1910 - accuracy: 0.9172 - val_loss: 0.4419 - val_accuracy: 0.8167\n",
            "Epoch 137/200\n",
            "62/62 [==============================] - 9s 153ms/step - loss: 0.1732 - accuracy: 0.9268 - val_loss: 0.5284 - val_accuracy: 0.8042\n",
            "Epoch 138/200\n",
            "62/62 [==============================] - 9s 151ms/step - loss: 0.2002 - accuracy: 0.9146 - val_loss: 0.4695 - val_accuracy: 0.8042\n",
            "Epoch 139/200\n",
            "62/62 [==============================] - 9s 151ms/step - loss: 0.1712 - accuracy: 0.9299 - val_loss: 0.4726 - val_accuracy: 0.8229\n",
            "Epoch 140/200\n",
            "62/62 [==============================] - 11s 171ms/step - loss: 0.1784 - accuracy: 0.9278 - val_loss: 0.4860 - val_accuracy: 0.8250\n",
            "Epoch 141/200\n",
            "62/62 [==============================] - 9s 153ms/step - loss: 0.1630 - accuracy: 0.9324 - val_loss: 0.4673 - val_accuracy: 0.8208\n",
            "Epoch 142/200\n",
            "62/62 [==============================] - 10s 154ms/step - loss: 0.1687 - accuracy: 0.9268 - val_loss: 0.4666 - val_accuracy: 0.8250\n",
            "Epoch 143/200\n",
            "62/62 [==============================] - 10s 157ms/step - loss: 0.1378 - accuracy: 0.9466 - val_loss: 0.4919 - val_accuracy: 0.8271\n",
            "Epoch 144/200\n",
            "62/62 [==============================] - 10s 156ms/step - loss: 0.1538 - accuracy: 0.9375 - val_loss: 0.5050 - val_accuracy: 0.8021\n",
            "Epoch 145/200\n",
            "62/62 [==============================] - 10s 157ms/step - loss: 0.1735 - accuracy: 0.9350 - val_loss: 0.5027 - val_accuracy: 0.8271\n",
            "Epoch 146/200\n",
            "62/62 [==============================] - 10s 157ms/step - loss: 0.1709 - accuracy: 0.9223 - val_loss: 0.5142 - val_accuracy: 0.8021\n",
            "Epoch 147/200\n",
            "62/62 [==============================] - 10s 157ms/step - loss: 0.1605 - accuracy: 0.9334 - val_loss: 0.4925 - val_accuracy: 0.8125\n",
            "Epoch 148/200\n",
            "62/62 [==============================] - 10s 158ms/step - loss: 0.1673 - accuracy: 0.9304 - val_loss: 0.4920 - val_accuracy: 0.8104\n",
            "Epoch 149/200\n",
            "62/62 [==============================] - 11s 175ms/step - loss: 0.1722 - accuracy: 0.9294 - val_loss: 0.4811 - val_accuracy: 0.8146\n",
            "Epoch 150/200\n",
            "62/62 [==============================] - 11s 176ms/step - loss: 0.1613 - accuracy: 0.9334 - val_loss: 0.4754 - val_accuracy: 0.8146\n",
            "Epoch 151/200\n",
            "62/62 [==============================] - 10s 157ms/step - loss: 0.1563 - accuracy: 0.9355 - val_loss: 0.4743 - val_accuracy: 0.8167\n",
            "Epoch 152/200\n",
            "62/62 [==============================] - 10s 154ms/step - loss: 0.1572 - accuracy: 0.9395 - val_loss: 0.4570 - val_accuracy: 0.8229\n",
            "Epoch 153/200\n",
            "62/62 [==============================] - 9s 153ms/step - loss: 0.1750 - accuracy: 0.9304 - val_loss: 0.4519 - val_accuracy: 0.8292\n",
            "Epoch 154/200\n",
            "62/62 [==============================] - 9s 152ms/step - loss: 0.1600 - accuracy: 0.9350 - val_loss: 0.4459 - val_accuracy: 0.8333\n",
            "Epoch 155/200\n",
            "62/62 [==============================] - 9s 152ms/step - loss: 0.1637 - accuracy: 0.9339 - val_loss: 0.5009 - val_accuracy: 0.8167\n",
            "Epoch 156/200\n",
            "62/62 [==============================] - 11s 172ms/step - loss: 0.1451 - accuracy: 0.9421 - val_loss: 0.5008 - val_accuracy: 0.8083\n",
            "Epoch 157/200\n",
            "62/62 [==============================] - 9s 151ms/step - loss: 0.1700 - accuracy: 0.9324 - val_loss: 0.4882 - val_accuracy: 0.8062\n",
            "Epoch 158/200\n",
            "62/62 [==============================] - 9s 152ms/step - loss: 0.1516 - accuracy: 0.9390 - val_loss: 0.4853 - val_accuracy: 0.8354\n",
            "Epoch 159/200\n",
            "62/62 [==============================] - 11s 172ms/step - loss: 0.1474 - accuracy: 0.9436 - val_loss: 0.4777 - val_accuracy: 0.8354\n",
            "Epoch 160/200\n",
            "62/62 [==============================] - 9s 152ms/step - loss: 0.1779 - accuracy: 0.9258 - val_loss: 0.4980 - val_accuracy: 0.8250\n",
            "Epoch 161/200\n",
            "62/62 [==============================] - 9s 151ms/step - loss: 0.1442 - accuracy: 0.9446 - val_loss: 0.4799 - val_accuracy: 0.8375\n",
            "Epoch 162/200\n",
            "62/62 [==============================] - 9s 152ms/step - loss: 0.1455 - accuracy: 0.9426 - val_loss: 0.5042 - val_accuracy: 0.8146\n",
            "Epoch 163/200\n",
            "62/62 [==============================] - 9s 153ms/step - loss: 0.1554 - accuracy: 0.9416 - val_loss: 0.4863 - val_accuracy: 0.8125\n",
            "Epoch 164/200\n",
            "62/62 [==============================] - 11s 173ms/step - loss: 0.1509 - accuracy: 0.9355 - val_loss: 0.4827 - val_accuracy: 0.8313\n",
            "Epoch 165/200\n",
            "62/62 [==============================] - 9s 152ms/step - loss: 0.1636 - accuracy: 0.9299 - val_loss: 0.5106 - val_accuracy: 0.8271\n",
            "Epoch 166/200\n",
            "62/62 [==============================] - 10s 154ms/step - loss: 0.1387 - accuracy: 0.9456 - val_loss: 0.5625 - val_accuracy: 0.8125\n",
            "Epoch 167/200\n",
            "62/62 [==============================] - 10s 154ms/step - loss: 0.1300 - accuracy: 0.9482 - val_loss: 0.5361 - val_accuracy: 0.8229\n",
            "Epoch 168/200\n",
            "62/62 [==============================] - 10s 155ms/step - loss: 0.1398 - accuracy: 0.9502 - val_loss: 0.5544 - val_accuracy: 0.8250\n",
            "Epoch 169/200\n",
            "62/62 [==============================] - 10s 157ms/step - loss: 0.1552 - accuracy: 0.9365 - val_loss: 0.4972 - val_accuracy: 0.8271\n",
            "Epoch 170/200\n",
            "62/62 [==============================] - 10s 158ms/step - loss: 0.1538 - accuracy: 0.9380 - val_loss: 0.4937 - val_accuracy: 0.8354\n",
            "Epoch 171/200\n",
            "62/62 [==============================] - 10s 158ms/step - loss: 0.1730 - accuracy: 0.9329 - val_loss: 0.5092 - val_accuracy: 0.8146\n",
            "Epoch 172/200\n",
            "62/62 [==============================] - 10s 157ms/step - loss: 0.1488 - accuracy: 0.9365 - val_loss: 0.5512 - val_accuracy: 0.8104\n",
            "Epoch 173/200\n",
            "62/62 [==============================] - 10s 158ms/step - loss: 0.1509 - accuracy: 0.9395 - val_loss: 0.4865 - val_accuracy: 0.8354\n",
            "Epoch 174/200\n",
            "62/62 [==============================] - 10s 158ms/step - loss: 0.1343 - accuracy: 0.9431 - val_loss: 0.5224 - val_accuracy: 0.8188\n",
            "Epoch 175/200\n",
            "62/62 [==============================] - 10s 158ms/step - loss: 0.1517 - accuracy: 0.9339 - val_loss: 0.4728 - val_accuracy: 0.8271\n",
            "Epoch 176/200\n",
            "62/62 [==============================] - 10s 158ms/step - loss: 0.1337 - accuracy: 0.9421 - val_loss: 0.4827 - val_accuracy: 0.8417\n",
            "Epoch 177/200\n",
            "62/62 [==============================] - 10s 158ms/step - loss: 0.1467 - accuracy: 0.9416 - val_loss: 0.4449 - val_accuracy: 0.8521\n",
            "Epoch 178/200\n",
            "62/62 [==============================] - 10s 159ms/step - loss: 0.1625 - accuracy: 0.9334 - val_loss: 0.5214 - val_accuracy: 0.8229\n",
            "Epoch 179/200\n",
            "62/62 [==============================] - 10s 157ms/step - loss: 0.1441 - accuracy: 0.9431 - val_loss: 0.4701 - val_accuracy: 0.8292\n",
            "Epoch 180/200\n",
            "62/62 [==============================] - 10s 158ms/step - loss: 0.1326 - accuracy: 0.9497 - val_loss: 0.4745 - val_accuracy: 0.8354\n",
            "Epoch 181/200\n",
            "62/62 [==============================] - 10s 157ms/step - loss: 0.1472 - accuracy: 0.9431 - val_loss: 0.4583 - val_accuracy: 0.8500\n",
            "Epoch 182/200\n",
            "62/62 [==============================] - 10s 156ms/step - loss: 0.1481 - accuracy: 0.9487 - val_loss: 0.4996 - val_accuracy: 0.8271\n",
            "Epoch 183/200\n",
            "62/62 [==============================] - 10s 155ms/step - loss: 0.1524 - accuracy: 0.9345 - val_loss: 0.4351 - val_accuracy: 0.8604\n",
            "Epoch 184/200\n",
            "62/62 [==============================] - 10s 157ms/step - loss: 0.1360 - accuracy: 0.9451 - val_loss: 0.4772 - val_accuracy: 0.8354\n",
            "Epoch 185/200\n",
            "62/62 [==============================] - 10s 157ms/step - loss: 0.1309 - accuracy: 0.9466 - val_loss: 0.5022 - val_accuracy: 0.8271\n",
            "Epoch 186/200\n",
            "62/62 [==============================] - 10s 158ms/step - loss: 0.1305 - accuracy: 0.9456 - val_loss: 0.4630 - val_accuracy: 0.8396\n",
            "Epoch 187/200\n",
            "62/62 [==============================] - 10s 155ms/step - loss: 0.1310 - accuracy: 0.9436 - val_loss: 0.4908 - val_accuracy: 0.8313\n",
            "Epoch 188/200\n",
            "62/62 [==============================] - 10s 156ms/step - loss: 0.1609 - accuracy: 0.9385 - val_loss: 0.4961 - val_accuracy: 0.8188\n",
            "Epoch 189/200\n",
            "62/62 [==============================] - 10s 156ms/step - loss: 0.1493 - accuracy: 0.9411 - val_loss: 0.4457 - val_accuracy: 0.8354\n",
            "Epoch 190/200\n",
            "62/62 [==============================] - 10s 156ms/step - loss: 0.1395 - accuracy: 0.9421 - val_loss: 0.4818 - val_accuracy: 0.8208\n",
            "Epoch 191/200\n",
            "62/62 [==============================] - 10s 155ms/step - loss: 0.1422 - accuracy: 0.9411 - val_loss: 0.5035 - val_accuracy: 0.8313\n",
            "Epoch 192/200\n",
            "62/62 [==============================] - 10s 155ms/step - loss: 0.1364 - accuracy: 0.9421 - val_loss: 0.4839 - val_accuracy: 0.8396\n",
            "Epoch 193/200\n",
            "62/62 [==============================] - 10s 159ms/step - loss: 0.1576 - accuracy: 0.9339 - val_loss: 0.4656 - val_accuracy: 0.8292\n",
            "Epoch 194/200\n",
            "62/62 [==============================] - 10s 159ms/step - loss: 0.1352 - accuracy: 0.9431 - val_loss: 0.4565 - val_accuracy: 0.8313\n",
            "Epoch 195/200\n",
            "62/62 [==============================] - 10s 159ms/step - loss: 0.1234 - accuracy: 0.9558 - val_loss: 0.4825 - val_accuracy: 0.8396\n",
            "Epoch 196/200\n",
            "62/62 [==============================] - 10s 159ms/step - loss: 0.1261 - accuracy: 0.9507 - val_loss: 0.5458 - val_accuracy: 0.8208\n",
            "Epoch 197/200\n",
            "62/62 [==============================] - 11s 179ms/step - loss: 0.1340 - accuracy: 0.9487 - val_loss: 0.4932 - val_accuracy: 0.8479\n",
            "Epoch 198/200\n",
            "62/62 [==============================] - 10s 159ms/step - loss: 0.1442 - accuracy: 0.9446 - val_loss: 0.4868 - val_accuracy: 0.8354\n",
            "Epoch 199/200\n",
            "62/62 [==============================] - 10s 160ms/step - loss: 0.1287 - accuracy: 0.9517 - val_loss: 0.4852 - val_accuracy: 0.8250\n",
            "Epoch 200/200\n",
            "62/62 [==============================] - 11s 178ms/step - loss: 0.1319 - accuracy: 0.9466 - val_loss: 0.5504 - val_accuracy: 0.8292\n"
          ]
        },
        {
          "data": {
            "text/plain": [
              "<keras.callbacks.History at 0x7fbe5051c350>"
            ]
          },
          "execution_count": 6,
          "metadata": {},
          "output_type": "execute_result"
        }
      ],
      "source": [
        "model.fit(training_set,\n",
        "          epochs = 200,\n",
        "          steps_per_epoch=2000//32,\n",
        "          validation_steps=500//32,\n",
        "          validation_data = test_set)"
      ]
    },
    {
      "cell_type": "code",
      "execution_count": null,
      "metadata": {
        "id": "wR9X0V97Rdo7"
      },
      "outputs": [],
      "source": [
        "### Save the model\n",
        "model.save('cnn.h5')"
      ]
    },
    {
      "cell_type": "code",
      "execution_count": null,
      "metadata": {
        "id": "cyZnf2uBbCwC"
      },
      "outputs": [],
      "source": [
        "import tensorflow.keras as tf\n",
        "mymodel = tf.models.load_model(\"/content/cnn.h5\")"
      ]
    },
    {
      "cell_type": "code",
      "execution_count": null,
      "metadata": {
        "id": "0nbIAxwRbLUp"
      },
      "outputs": [],
      "source": [
        "import cv2\n",
        "import matplotlib.pyplot as plt"
      ]
    },
    {
      "cell_type": "code",
      "execution_count": null,
      "metadata": {
        "colab": {
          "base_uri": "https://localhost:8080/"
        },
        "id": "M-jbRSHJbdaG",
        "outputId": "5d32de69-8bbb-4151-8733-a3a2b852548c"
      },
      "outputs": [
        {
          "data": {
            "text/plain": [
              "array([[1.]], dtype=float32)"
            ]
          },
          "execution_count": 24,
          "metadata": {},
          "output_type": "execute_result"
        }
      ],
      "source": [
        "img = cv2.imread(\"/content/dog_new.jpg\")\n",
        "img = cv2.resize(img,(64,64))\n",
        "img = img/255\n",
        "np.round(mymodel.predict(np.array([img])))"
      ]
    },
    {
      "cell_type": "code",
      "execution_count": null,
      "metadata": {
        "id": "F1u4Aztxbjhk"
      },
      "outputs": [],
      "source": []
    }
  ],
  "metadata": {
    "accelerator": "GPU",
    "colab": {
      "provenance": [],
      "include_colab_link": true
    },
    "kernelspec": {
      "display_name": "Python 3",
      "name": "python3"
    },
    "language_info": {
      "name": "python"
    }
  },
  "nbformat": 4,
  "nbformat_minor": 0
}