{
  "nbformat": 4,
  "nbformat_minor": 0,
  "metadata": {
    "colab": {
      "name": "Linear Regression.ipynb",
      "provenance": [],
      "collapsed_sections": [],
      "include_colab_link": true
    },
    "kernelspec": {
      "name": "python3",
      "display_name": "Python 3"
    },
    "language_info": {
      "name": "python"
    }
  },
  "cells": [
    {
      "cell_type": "markdown",
      "metadata": {
        "id": "view-in-github",
        "colab_type": "text"
      },
      "source": [
        "<a href=\"https://colab.research.google.com/github/AKHILM20DS007/AKHILM20DS007/blob/main/Linear_Regression.ipynb\" target=\"_parent\"><img src=\"https://colab.research.google.com/assets/colab-badge.svg\" alt=\"Open In Colab\"/></a>"
      ]
    },
    {
      "cell_type": "code",
      "metadata": {
        "colab": {
          "base_uri": "https://localhost:8080/",
          "height": 1000
        },
        "id": "LdDht_XKsBtJ",
        "outputId": "cadc38e2-6cd7-428f-957b-b1b9a555f501"
      },
      "source": [
        "              #Program on Linear Regression#\n",
        "# Importing the libraries\n",
        "import numpy as np\n",
        "import matplotlib.pyplot as plt\n",
        "import pandas as pd\n",
        "\n",
        "# Import the Dataset\n",
        "dataset=pd.read_csv(\"Linear_Reg_SLR_Salary_Data.csv\")\n",
        "print(dataset)\n",
        "\n",
        "# Independent and Dependent Variables\n",
        "X=dataset.iloc[:,:-1].values # we don't need salary col -> :-1\n",
        "Y=dataset.iloc[:,-1].values # only salary -> -1\n",
        "\n",
        "# Split the dataset into Training and Testing\n",
        "from sklearn.model_selection import train_test_split\n",
        "X_train,X_test,Y_train,Y_test=train_test_split(X,Y,test_size=0.2,random_state=1)\n",
        "\n",
        "#print(X_train,X_test)\n",
        "#print(Y_train, Y_test)\n",
        "\n",
        "# Training the Simple Linear Regression Model using Training Set\n",
        "from sklearn.linear_model import LinearRegression\n",
        "\n",
        "# Creating an object for this class\n",
        "regressor=LinearRegression()\n",
        "regressor.fit(X_train,Y_train)\n",
        "\n",
        "# Predict the result\n",
        "Y_pred=regressor.predict(X_test) # Years of Experience as input, then it is predicting salary\n",
        "#print(Y_pred, Y_test)\n",
        "for i in range(0,6):\n",
        "  print (\"Sample Input: \",X_test[i])\n",
        "  print (\"Sample Output: \", Y_test[i])\n",
        "  print (\"Predictive Output: \", Y_pred[i])\n",
        "\n",
        "print (X_test)\n",
        "# Visualising the Test Set Results\n",
        "plt.scatter(X_test,Y_test,color='red')\n",
        "plt.plot(X_test,Y_pred,color='blue')\n",
        "plt.title('Salary Vs Experience')\n",
        "plt.xlabel('Years of Experience')\n",
        "plt.ylabel('Salary')\n",
        "plt.show()"
      ],
      "execution_count": null,
      "outputs": [
        {
          "output_type": "stream",
          "name": "stdout",
          "text": [
            "    YearsExperience  Salary\n",
            "0               1.1   39343\n",
            "1               1.3   46205\n",
            "2               1.5   37731\n",
            "3               2.0   43525\n",
            "4               2.2   39891\n",
            "5               2.9   56642\n",
            "6               3.0   60150\n",
            "7               3.2   54445\n",
            "8               3.2   64445\n",
            "9               3.7   57189\n",
            "10              3.9   63218\n",
            "11              4.0   55794\n",
            "12              4.0   56957\n",
            "13              4.1   57081\n",
            "14              4.5   61111\n",
            "15              4.9   67938\n",
            "16              5.1   66029\n",
            "17              5.3   83088\n",
            "18              5.9   81363\n",
            "19              6.0   93940\n",
            "20              6.8   91738\n",
            "21              7.1   98273\n",
            "22              7.9  101302\n",
            "23              8.2  113812\n",
            "24              8.7  109431\n",
            "25              9.0  105582\n",
            "26              9.5  116969\n",
            "27              9.6  112635\n",
            "28             10.3  122391\n",
            "29             10.5  121872\n",
            "Sample Input:  [5.3]\n",
            "Sample Output:  83088\n",
            "Predictive Output:  75074.50510971624\n",
            "Sample Input:  [7.1]\n",
            "Sample Output:  98273\n",
            "Predictive Output:  91873.80563810313\n",
            "Sample Input:  [3.9]\n",
            "Sample Output:  63218\n",
            "Predictive Output:  62008.38247652643\n",
            "Sample Input:  [6.]\n",
            "Sample Output:  93940\n",
            "Predictive Output:  81607.56642631114\n",
            "Sample Input:  [4.5]\n",
            "Sample Output:  61111\n",
            "Predictive Output:  67608.14931932205\n",
            "Sample Input:  [6.8]\n",
            "Sample Output:  91738\n",
            "Predictive Output:  89073.92221670531\n",
            "[[5.3]\n",
            " [7.1]\n",
            " [3.9]\n",
            " [6. ]\n",
            " [4.5]\n",
            " [6.8]]\n"
          ]
        },
        {
          "output_type": "display_data",
          "data": {
            "image/png": "[encoded data removed]",
            "text/plain": [
              "<Figure size 432x288 with 1 Axes>"
            ]
          },
          "metadata": {
            "needs_background": "light"
          }
        }
      ]
    },
    {
      "cell_type": "markdown",
      "source": [
        "1.Euclidean distance sqrt((y2-y1)pow2 +(x2-x1)pow2)\n"
      ],
      "metadata": {
        "id": "_Uo2U-Z1Yn7E"
      }
    },
    {
      "cell_type": "code",
      "metadata": {
        "id": "_Or6SclZ7hc9"
      },
      "source": [
        "#Linear Regression  y=c1+c2x\n",
        "#Multiple Linear Regression y=c1+c2 x1+c3 x3+c4 x4........\n",
        "#Polynomial Linear Regression  y=c1+c2(x)pow(1)+c3(x)pow(2)+c4(x)pow(3)\n"
      ],
      "execution_count": null,
      "outputs": []
    },
    {
      "cell_type": "markdown",
      "metadata": {
        "id": "1ZokuSRf7gY8"
      },
      "source": [
        ""
      ]
    },
    {
      "cell_type": "code",
      "metadata": {
        "id": "92lnYxsV-YN_",
        "colab": {
          "base_uri": "https://localhost:8080/"
        },
        "outputId": "d412a649-69c4-4802-965b-55236dc2e855"
      },
      "source": [
        "print(dataset)"
      ],
      "execution_count": null,
      "outputs": [
        {
          "output_type": "stream",
          "name": "stdout",
          "text": [
            "    YearsExperience  Salary\n",
            "0               1.1   39343\n",
            "1               1.3   46205\n",
            "2               1.5   37731\n",
            "3               2.0   43525\n",
            "4               2.2   39891\n",
            "5               2.9   56642\n",
            "6               3.0   60150\n",
            "7               3.2   54445\n",
            "8               3.2   64445\n",
            "9               3.7   57189\n",
            "10              3.9   63218\n",
            "11              4.0   55794\n",
            "12              4.0   56957\n",
            "13              4.1   57081\n",
            "14              4.5   61111\n",
            "15              4.9   67938\n",
            "16              5.1   66029\n",
            "17              5.3   83088\n",
            "18              5.9   81363\n",
            "19              6.0   93940\n",
            "20              6.8   91738\n",
            "21              7.1   98273\n",
            "22              7.9  101302\n",
            "23              8.2  113812\n",
            "24              8.7  109431\n",
            "25              9.0  105582\n",
            "26              9.5  116969\n",
            "27              9.6  112635\n",
            "28             10.3  122391\n",
            "29             10.5  121872\n"
          ]
        }
      ]
    }
  ]
}