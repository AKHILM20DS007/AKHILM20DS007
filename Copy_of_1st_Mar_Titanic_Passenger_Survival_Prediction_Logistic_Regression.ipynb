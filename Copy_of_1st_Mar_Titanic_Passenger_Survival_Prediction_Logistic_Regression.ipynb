{
  "nbformat": 4,
  "nbformat_minor": 0,
  "metadata": {
    "colab": {
      "provenance": [],
      "include_colab_link": true
    },
    "kernelspec": {
      "name": "python3",
      "display_name": "Python 3"
    },
    "language_info": {
      "name": "python"
    }
  },
  "cells": [
    {
      "cell_type": "markdown",
      "metadata": {
        "id": "view-in-github",
        "colab_type": "text"
      },
      "source": [
        "<a href=\"https://colab.research.google.com/github/AKHILM20DS007/AKHILM20DS007/blob/main/Copy_of_1st_Mar_Titanic_Passenger_Survival_Prediction_Logistic_Regression.ipynb\" target=\"_parent\"><img src=\"https://colab.research.google.com/assets/colab-badge.svg\" alt=\"Open In Colab\"/></a>"
      ]
    },
    {
      "cell_type": "code",
      "source": [
        "pip install cv2"
      ],
      "metadata": {
        "colab": {
          "base_uri": "https://localhost:8080/"
        },
        "id": "CPYj8_EopEqE",
        "outputId": "358d3799-51f5-43b5-baa1-a4f5da1d81eb"
      },
      "execution_count": null,
      "outputs": [
        {
          "output_type": "stream",
          "name": "stdout",
          "text": [
            "Looking in indexes: https://pypi.org/simple, https://us-python.pkg.dev/colab-wheels/public/simple/\n",
            "\u001b[31mERROR: Could not find a version that satisfies the requirement cv2 (from versions: none)\u001b[0m\u001b[31m\n",
            "\u001b[0m\u001b[31mERROR: No matching distribution found for cv2\u001b[0m\u001b[31m\n",
            "\u001b[0m"
          ]
        }
      ]
    },
    {
      "cell_type": "code",
      "source": [
        "from cvzone.FaceDetectionModule import FaceDetector\n",
        "import cv2\n",
        "def face_extracter(img):\n",
        "    detector = FaceDetector()\n",
        "    myimg, data = detector.findFaces(img)\n",
        "    if data:\n",
        "        x,y,w,h = data[0]['bbox']\n",
        "        global face\n",
        "        face = img[y:y+h,x:x+w]\n",
        "    else:\n",
        "        return None\n",
        "    return face\n",
        " \n",
        "def collect_samples(id):\n",
        "    count = 0\n",
        "    cam = cv2.VideoCapture(0)\n",
        "    while True:\n",
        "        ret, img = cam.read()\n",
        "        if ret == True:\n",
        "            if face_extracter(img) is not None:\n",
        "                count = count+1\n",
        "                new_img = cv2.resize(face_extracter(img),(300,300))\n",
        "                file_name = \"samples/\"+str(id)+\"/user\"+str(count)+\".jpg\"\n",
        "                cv2.imwrite(file_name,new_img)\n",
        "                cv2.imshow(\"Samples\",img)\n",
        "            else:\n",
        "                print(\"Face Not Found\")\n",
        "                pass\n",
        "            if cv2.waitKey(1) == ord('q') or count == 100:\n",
        "                break\n",
        "    cam.release()\n",
        "    cv2.destroyAllWindows()\n",
        "    print(\"Samples Collected\")"
      ],
      "metadata": {
        "colab": {
          "base_uri": "https://localhost:8080/",
          "height": 373
        },
        "id": "7PQWiR7jouK4",
        "outputId": "ae1d64bf-42cf-4fa1-912d-ea86417e55fb"
      },
      "execution_count": null,
      "outputs": [
        {
          "output_type": "error",
          "ename": "ModuleNotFoundError",
          "evalue": "ignored",
          "traceback": [
            "\u001b[0;31m---------------------------------------------------------------------------\u001b[0m",
            "\u001b[0;31mModuleNotFoundError\u001b[0m                       Traceback (most recent call last)",
            "\u001b[0;32m<ipython-input-1-cefcbaf38319>\u001b[0m in \u001b[0;36m<module>\u001b[0;34m\u001b[0m\n\u001b[0;32m----> 1\u001b[0;31m \u001b[0;32mfrom\u001b[0m \u001b[0mcvzone\u001b[0m\u001b[0;34m.\u001b[0m\u001b[0mFaceDetectionModule\u001b[0m \u001b[0;32mimport\u001b[0m \u001b[0mFaceDetector\u001b[0m\u001b[0;34m\u001b[0m\u001b[0;34m\u001b[0m\u001b[0m\n\u001b[0m\u001b[1;32m      2\u001b[0m \u001b[0;32mimport\u001b[0m \u001b[0mcv2\u001b[0m\u001b[0;34m\u001b[0m\u001b[0;34m\u001b[0m\u001b[0m\n\u001b[1;32m      3\u001b[0m \u001b[0;32mdef\u001b[0m \u001b[0mface_extracter\u001b[0m\u001b[0;34m(\u001b[0m\u001b[0mimg\u001b[0m\u001b[0;34m)\u001b[0m\u001b[0;34m:\u001b[0m\u001b[0;34m\u001b[0m\u001b[0;34m\u001b[0m\u001b[0m\n\u001b[1;32m      4\u001b[0m     \u001b[0mdetector\u001b[0m \u001b[0;34m=\u001b[0m \u001b[0mFaceDetector\u001b[0m\u001b[0;34m(\u001b[0m\u001b[0;34m)\u001b[0m\u001b[0;34m\u001b[0m\u001b[0;34m\u001b[0m\u001b[0m\n\u001b[1;32m      5\u001b[0m     \u001b[0mmyimg\u001b[0m\u001b[0;34m,\u001b[0m \u001b[0mdata\u001b[0m \u001b[0;34m=\u001b[0m \u001b[0mdetector\u001b[0m\u001b[0;34m.\u001b[0m\u001b[0mfindFaces\u001b[0m\u001b[0;34m(\u001b[0m\u001b[0mimg\u001b[0m\u001b[0;34m)\u001b[0m\u001b[0;34m\u001b[0m\u001b[0;34m\u001b[0m\u001b[0m\n",
            "\u001b[0;31mModuleNotFoundError\u001b[0m: No module named 'cvzone'",
            "",
            "\u001b[0;31m---------------------------------------------------------------------------\u001b[0;32m\nNOTE: If your import is failing due to a missing package, you can\nmanually install dependencies using either !pip or !apt.\n\nTo view examples of installing some common dependencies, click the\n\"Open Examples\" button below.\n\u001b[0;31m---------------------------------------------------------------------------\u001b[0m\n"
          ],
          "errorDetails": {
            "actions": [
              {
                "action": "open_url",
                "actionText": "Open Examples",
                "url": "/notebooks/snippets/importing_libraries.ipynb"
              }
            ]
          }
        }
      ]
    },
    {
      "cell_type": "code",
      "execution_count": null,
      "metadata": {
        "id": "m2D3zJFVnOUg"
      },
      "outputs": [],
      "source": [
        "import pandas as pd\n",
        "import numpy as np\n",
        "import matplotlib.pyplot as plt"
      ]
    },
    {
      "cell_type": "code",
      "source": [
        "data = pd.read_csv(\"/content/titanic.csv\")\n",
        "data.head()"
      ],
      "metadata": {
        "colab": {
          "base_uri": "https://localhost:8080/",
          "height": 206
        },
        "id": "zOFRFsGIoiN4",
        "outputId": "63f95550-ebca-4f01-bd67-d4b93e77aeec"
      },
      "execution_count": null,
      "outputs": [
        {
          "output_type": "execute_result",
          "data": {
            "text/plain": [
              "   PassengerId  Survived  Pclass  \\\n",
              "0            1         0       3   \n",
              "1            2         1       1   \n",
              "2            3         1       3   \n",
              "3            4         1       1   \n",
              "4            5         0       3   \n",
              "\n",
              "                                                Name     Sex   Age  SibSp  \\\n",
              "0                            Braund, Mr. Owen Harris    male  22.0      1   \n",
              "1  Cumings, Mrs. John Bradley (Florence Briggs Th...  female  38.0      1   \n",
              "2                             Heikkinen, Miss. Laina  female  26.0      0   \n",
              "3       Futrelle, Mrs. Jacques Heath (Lily May Peel)  female  35.0      1   \n",
              "4                           Allen, Mr. William Henry    male  35.0      0   \n",
              "\n",
              "   Parch            Ticket     Fare Cabin Embarked  \n",
              "0      0         A/5 21171   7.2500   NaN        S  \n",
              "1      0          PC 17599  71.2833   C85        C  \n",
              "2      0  STON/O2. 3101282   7.9250   NaN        S  \n",
              "3      0            113803  53.1000  C123        S  \n",
              "4      0            373450   8.0500   NaN        S  "
            ],
            "text/html": [
              "\n",
              "  <div id=\"df-f3e9b540-263a-4157-b34f-215b3e2d1fcf\">\n",
              "    <div class=\"colab-df-container\">\n",
              "      <div>\n",
              "<style scoped>\n",
              "    .dataframe tbody tr th:only-of-type {\n",
              "        vertical-align: middle;\n",
              "    }\n",
              "\n",
              "    .dataframe tbody tr th {\n",
              "        vertical-align: top;\n",
              "    }\n",
              "\n",
              "    .dataframe thead th {\n",
              "        text-align: right;\n",
              "    }\n",
              "</style>\n",
              "<table border=\"1\" class=\"dataframe\">\n",
              "  <thead>\n",
              "    <tr style=\"text-align: right;\">\n",
              "      <th></th>\n",
              "      <th>PassengerId</th>\n",
              "      <th>Survived</th>\n",
              "      <th>Pclass</th>\n",
              "      <th>Name</th>\n",
              "      <th>Sex</th>\n",
              "      <th>Age</th>\n",
              "      <th>SibSp</th>\n",
              "      <th>Parch</th>\n",
              "      <th>Ticket</th>\n",
              "      <th>Fare</th>\n",
              "      <th>Cabin</th>\n",
              "      <th>Embarked</th>\n",
              "    </tr>\n",
              "  </thead>\n",
              "  <tbody>\n",
              "    <tr>\n",
              "      <th>0</th>\n",
              "      <td>1</td>\n",
              "      <td>0</td>\n",
              "      <td>3</td>\n",
              "      <td>Braund, Mr. Owen Harris</td>\n",
              "      <td>male</td>\n",
              "      <td>22.0</td>\n",
              "      <td>1</td>\n",
              "      <td>0</td>\n",
              "      <td>A/5 21171</td>\n",
              "      <td>7.2500</td>\n",
              "      <td>NaN</td>\n",
              "      <td>S</td>\n",
              "    </tr>\n",
              "    <tr>\n",
              "      <th>1</th>\n",
              "      <td>2</td>\n",
              "      <td>1</td>\n",
              "      <td>1</td>\n",
              "      <td>Cumings, Mrs. John Bradley (Florence Briggs Th...</td>\n",
              "      <td>female</td>\n",
              "      <td>38.0</td>\n",
              "      <td>1</td>\n",
              "      <td>0</td>\n",
              "      <td>PC 17599</td>\n",
              "      <td>71.2833</td>\n",
              "      <td>C85</td>\n",
              "      <td>C</td>\n",
              "    </tr>\n",
              "    <tr>\n",
              "      <th>2</th>\n",
              "      <td>3</td>\n",
              "      <td>1</td>\n",
              "      <td>3</td>\n",
              "      <td>Heikkinen, Miss. Laina</td>\n",
              "      <td>female</td>\n",
              "      <td>26.0</td>\n",
              "      <td>0</td>\n",
              "      <td>0</td>\n",
              "      <td>STON/O2. 3101282</td>\n",
              "      <td>7.9250</td>\n",
              "      <td>NaN</td>\n",
              "      <td>S</td>\n",
              "    </tr>\n",
              "    <tr>\n",
              "      <th>3</th>\n",
              "      <td>4</td>\n",
              "      <td>1</td>\n",
              "      <td>1</td>\n",
              "      <td>Futrelle, Mrs. Jacques Heath (Lily May Peel)</td>\n",
              "      <td>female</td>\n",
              "      <td>35.0</td>\n",
              "      <td>1</td>\n",
              "      <td>0</td>\n",
              "      <td>113803</td>\n",
              "      <td>53.1000</td>\n",
              "      <td>C123</td>\n",
              "      <td>S</td>\n",
              "    </tr>\n",
              "    <tr>\n",
              "      <th>4</th>\n",
              "      <td>5</td>\n",
              "      <td>0</td>\n",
              "      <td>3</td>\n",
              "      <td>Allen, Mr. William Henry</td>\n",
              "      <td>male</td>\n",
              "      <td>35.0</td>\n",
              "      <td>0</td>\n",
              "      <td>0</td>\n",
              "      <td>373450</td>\n",
              "      <td>8.0500</td>\n",
              "      <td>NaN</td>\n",
              "      <td>S</td>\n",
              "    </tr>\n",
              "  </tbody>\n",
              "</table>\n",
              "</div>\n",
              "      <button class=\"colab-df-convert\" onclick=\"convertToInteractive('df-f3e9b540-263a-4157-b34f-215b3e2d1fcf')\"\n",
              "              title=\"Convert this dataframe to an interactive table.\"\n",
              "              style=\"display:none;\">\n",
              "        \n",
              "  <svg xmlns=\"http://www.w3.org/2000/svg\" height=\"24px\"viewBox=\"0 0 24 24\"\n",
              "       width=\"24px\">\n",
              "    <path d=\"M0 0h24v24H0V0z\" fill=\"none\"/>\n",
              "    <path d=\"M18.56 5.44l.94 2.06.94-2.06 2.06-.94-2.06-.94-.94-2.06-.94 2.06-2.06.94zm-11 1L8.5 8.5l.94-2.06 2.06-.94-2.06-.94L8.5 2.5l-.94 2.06-2.06.94zm10 10l.94 2.06.94-2.06 2.06-.94-2.06-.94-.94-2.06-.94 2.06-2.06.94z\"/><path d=\"M17.41 7.96l-1.37-1.37c-.4-.4-.92-.59-1.43-.59-.52 0-1.04.2-1.43.59L10.3 9.45l-7.72 7.72c-.78.78-.78 2.05 0 2.83L4 21.41c.39.39.9.59 1.41.59.51 0 1.02-.2 1.41-.59l7.78-7.78 2.81-2.81c.8-.78.8-2.07 0-2.86zM5.41 20L4 18.59l7.72-7.72 1.47 1.35L5.41 20z\"/>\n",
              "  </svg>\n",
              "      </button>\n",
              "      \n",
              "  <style>\n",
              "    .colab-df-container {\n",
              "      display:flex;\n",
              "      flex-wrap:wrap;\n",
              "      gap: 12px;\n",
              "    }\n",
              "\n",
              "    .colab-df-convert {\n",
              "      background-color: #E8F0FE;\n",
              "      border: none;\n",
              "      border-radius: 50%;\n",
              "      cursor: pointer;\n",
              "      display: none;\n",
              "      fill: #1967D2;\n",
              "      height: 32px;\n",
              "      padding: 0 0 0 0;\n",
              "      width: 32px;\n",
              "    }\n",
              "\n",
              "    .colab-df-convert:hover {\n",
              "      background-color: #E2EBFA;\n",
              "      box-shadow: 0px 1px 2px rgba(60, 64, 67, 0.3), 0px 1px 3px 1px rgba(60, 64, 67, 0.15);\n",
              "      fill: #174EA6;\n",
              "    }\n",
              "\n",
              "    [theme=dark] .colab-df-convert {\n",
              "      background-color: #3B4455;\n",
              "      fill: #D2E3FC;\n",
              "    }\n",
              "\n",
              "    [theme=dark] .colab-df-convert:hover {\n",
              "      background-color: #434B5C;\n",
              "      box-shadow: 0px 1px 3px 1px rgba(0, 0, 0, 0.15);\n",
              "      filter: drop-shadow(0px 1px 2px rgba(0, 0, 0, 0.3));\n",
              "      fill: #FFFFFF;\n",
              "    }\n",
              "  </style>\n",
              "\n",
              "      <script>\n",
              "        const buttonEl =\n",
              "          document.querySelector('#df-f3e9b540-263a-4157-b34f-215b3e2d1fcf button.colab-df-convert');\n",
              "        buttonEl.style.display =\n",
              "          google.colab.kernel.accessAllowed ? 'block' : 'none';\n",
              "\n",
              "        async function convertToInteractive(key) {\n",
              "          const element = document.querySelector('#df-f3e9b540-263a-4157-b34f-215b3e2d1fcf');\n",
              "          const dataTable =\n",
              "            await google.colab.kernel.invokeFunction('convertToInteractive',\n",
              "                                                     [key], {});\n",
              "          if (!dataTable) return;\n",
              "\n",
              "          const docLinkHtml = 'Like what you see? Visit the ' +\n",
              "            '<a target=\"_blank\" href=https://colab.research.google.com/notebooks/data_table.ipynb>data table notebook</a>'\n",
              "            + ' to learn more about interactive tables.';\n",
              "          element.innerHTML = '';\n",
              "          dataTable['output_type'] = 'display_data';\n",
              "          await google.colab.output.renderOutput(dataTable, element);\n",
              "          const docLink = document.createElement('div');\n",
              "          docLink.innerHTML = docLinkHtml;\n",
              "          element.appendChild(docLink);\n",
              "        }\n",
              "      </script>\n",
              "    </div>\n",
              "  </div>\n",
              "  "
            ]
          },
          "metadata": {},
          "execution_count": 3
        }
      ]
    },
    {
      "cell_type": "code",
      "source": [
        "import seaborn as sns"
      ],
      "metadata": {
        "id": "3VpS8EfdqeMh"
      },
      "execution_count": null,
      "outputs": []
    },
    {
      "cell_type": "code",
      "source": [
        "sns.countplot(x='Survived',data=data,hue=\"Embarked\");"
      ],
      "metadata": {
        "colab": {
          "base_uri": "https://localhost:8080/",
          "height": 279
        },
        "id": "sX0ZUQoIqh42",
        "outputId": "f7106ea7-440a-42b9-dcf9-eb022b02afef"
      },
      "execution_count": null,
      "outputs": [
        {
          "output_type": "display_data",
          "data": {
            "text/plain": [
              "<Figure size 432x288 with 1 Axes>"
            ],
            "image/png": "[encoded data removed]"
          },
          "metadata": {
            "needs_background": "light"
          }
        }
      ]
    },
    {
      "cell_type": "code",
      "source": [
        "cols = ['PassengerId','Name','Ticket','Cabin']\n",
        "data = data.drop(cols,axis=1)"
      ],
      "metadata": {
        "id": "tWpN4tDvoksS"
      },
      "execution_count": null,
      "outputs": []
    },
    {
      "cell_type": "code",
      "source": [
        "data.head()"
      ],
      "metadata": {
        "colab": {
          "base_uri": "https://localhost:8080/",
          "height": 206
        },
        "id": "QDvMbyYjrH9O",
        "outputId": "71be55a1-1461-4731-ef32-ece3dc7ed9aa"
      },
      "execution_count": null,
      "outputs": [
        {
          "output_type": "execute_result",
          "data": {
            "text/plain": [
              "   Survived  Pclass     Sex   Age  SibSp  Parch     Fare Embarked\n",
              "0         0       3    male  22.0      1      0   7.2500        S\n",
              "1         1       1  female  38.0      1      0  71.2833        C\n",
              "2         1       3  female  26.0      0      0   7.9250        S\n",
              "3         1       1  female  35.0      1      0  53.1000        S\n",
              "4         0       3    male  35.0      0      0   8.0500        S"
            ],
            "text/html": [
              "\n",
              "  <div id=\"df-5aeee707-0378-4c69-bd62-926a99338c7f\">\n",
              "    <div class=\"colab-df-container\">\n",
              "      <div>\n",
              "<style scoped>\n",
              "    .dataframe tbody tr th:only-of-type {\n",
              "        vertical-align: middle;\n",
              "    }\n",
              "\n",
              "    .dataframe tbody tr th {\n",
              "        vertical-align: top;\n",
              "    }\n",
              "\n",
              "    .dataframe thead th {\n",
              "        text-align: right;\n",
              "    }\n",
              "</style>\n",
              "<table border=\"1\" class=\"dataframe\">\n",
              "  <thead>\n",
              "    <tr style=\"text-align: right;\">\n",
              "      <th></th>\n",
              "      <th>Survived</th>\n",
              "      <th>Pclass</th>\n",
              "      <th>Sex</th>\n",
              "      <th>Age</th>\n",
              "      <th>SibSp</th>\n",
              "      <th>Parch</th>\n",
              "      <th>Fare</th>\n",
              "      <th>Embarked</th>\n",
              "    </tr>\n",
              "  </thead>\n",
              "  <tbody>\n",
              "    <tr>\n",
              "      <th>0</th>\n",
              "      <td>0</td>\n",
              "      <td>3</td>\n",
              "      <td>male</td>\n",
              "      <td>22.0</td>\n",
              "      <td>1</td>\n",
              "      <td>0</td>\n",
              "      <td>7.2500</td>\n",
              "      <td>S</td>\n",
              "    </tr>\n",
              "    <tr>\n",
              "      <th>1</th>\n",
              "      <td>1</td>\n",
              "      <td>1</td>\n",
              "      <td>female</td>\n",
              "      <td>38.0</td>\n",
              "      <td>1</td>\n",
              "      <td>0</td>\n",
              "      <td>71.2833</td>\n",
              "      <td>C</td>\n",
              "    </tr>\n",
              "    <tr>\n",
              "      <th>2</th>\n",
              "      <td>1</td>\n",
              "      <td>3</td>\n",
              "      <td>female</td>\n",
              "      <td>26.0</td>\n",
              "      <td>0</td>\n",
              "      <td>0</td>\n",
              "      <td>7.9250</td>\n",
              "      <td>S</td>\n",
              "    </tr>\n",
              "    <tr>\n",
              "      <th>3</th>\n",
              "      <td>1</td>\n",
              "      <td>1</td>\n",
              "      <td>female</td>\n",
              "      <td>35.0</td>\n",
              "      <td>1</td>\n",
              "      <td>0</td>\n",
              "      <td>53.1000</td>\n",
              "      <td>S</td>\n",
              "    </tr>\n",
              "    <tr>\n",
              "      <th>4</th>\n",
              "      <td>0</td>\n",
              "      <td>3</td>\n",
              "      <td>male</td>\n",
              "      <td>35.0</td>\n",
              "      <td>0</td>\n",
              "      <td>0</td>\n",
              "      <td>8.0500</td>\n",
              "      <td>S</td>\n",
              "    </tr>\n",
              "  </tbody>\n",
              "</table>\n",
              "</div>\n",
              "      <button class=\"colab-df-convert\" onclick=\"convertToInteractive('df-5aeee707-0378-4c69-bd62-926a99338c7f')\"\n",
              "              title=\"Convert this dataframe to an interactive table.\"\n",
              "              style=\"display:none;\">\n",
              "        \n",
              "  <svg xmlns=\"http://www.w3.org/2000/svg\" height=\"24px\"viewBox=\"0 0 24 24\"\n",
              "       width=\"24px\">\n",
              "    <path d=\"M0 0h24v24H0V0z\" fill=\"none\"/>\n",
              "    <path d=\"M18.56 5.44l.94 2.06.94-2.06 2.06-.94-2.06-.94-.94-2.06-.94 2.06-2.06.94zm-11 1L8.5 8.5l.94-2.06 2.06-.94-2.06-.94L8.5 2.5l-.94 2.06-2.06.94zm10 10l.94 2.06.94-2.06 2.06-.94-2.06-.94-.94-2.06-.94 2.06-2.06.94z\"/><path d=\"M17.41 7.96l-1.37-1.37c-.4-.4-.92-.59-1.43-.59-.52 0-1.04.2-1.43.59L10.3 9.45l-7.72 7.72c-.78.78-.78 2.05 0 2.83L4 21.41c.39.39.9.59 1.41.59.51 0 1.02-.2 1.41-.59l7.78-7.78 2.81-2.81c.8-.78.8-2.07 0-2.86zM5.41 20L4 18.59l7.72-7.72 1.47 1.35L5.41 20z\"/>\n",
              "  </svg>\n",
              "      </button>\n",
              "      \n",
              "  <style>\n",
              "    .colab-df-container {\n",
              "      display:flex;\n",
              "      flex-wrap:wrap;\n",
              "      gap: 12px;\n",
              "    }\n",
              "\n",
              "    .colab-df-convert {\n",
              "      background-color: #E8F0FE;\n",
              "      border: none;\n",
              "      border-radius: 50%;\n",
              "      cursor: pointer;\n",
              "      display: none;\n",
              "      fill: #1967D2;\n",
              "      height: 32px;\n",
              "      padding: 0 0 0 0;\n",
              "      width: 32px;\n",
              "    }\n",
              "\n",
              "    .colab-df-convert:hover {\n",
              "      background-color: #E2EBFA;\n",
              "      box-shadow: 0px 1px 2px rgba(60, 64, 67, 0.3), 0px 1px 3px 1px rgba(60, 64, 67, 0.15);\n",
              "      fill: #174EA6;\n",
              "    }\n",
              "\n",
              "    [theme=dark] .colab-df-convert {\n",
              "      background-color: #3B4455;\n",
              "      fill: #D2E3FC;\n",
              "    }\n",
              "\n",
              "    [theme=dark] .colab-df-convert:hover {\n",
              "      background-color: #434B5C;\n",
              "      box-shadow: 0px 1px 3px 1px rgba(0, 0, 0, 0.15);\n",
              "      filter: drop-shadow(0px 1px 2px rgba(0, 0, 0, 0.3));\n",
              "      fill: #FFFFFF;\n",
              "    }\n",
              "  </style>\n",
              "\n",
              "      <script>\n",
              "        const buttonEl =\n",
              "          document.querySelector('#df-5aeee707-0378-4c69-bd62-926a99338c7f button.colab-df-convert');\n",
              "        buttonEl.style.display =\n",
              "          google.colab.kernel.accessAllowed ? 'block' : 'none';\n",
              "\n",
              "        async function convertToInteractive(key) {\n",
              "          const element = document.querySelector('#df-5aeee707-0378-4c69-bd62-926a99338c7f');\n",
              "          const dataTable =\n",
              "            await google.colab.kernel.invokeFunction('convertToInteractive',\n",
              "                                                     [key], {});\n",
              "          if (!dataTable) return;\n",
              "\n",
              "          const docLinkHtml = 'Like what you see? Visit the ' +\n",
              "            '<a target=\"_blank\" href=https://colab.research.google.com/notebooks/data_table.ipynb>data table notebook</a>'\n",
              "            + ' to learn more about interactive tables.';\n",
              "          element.innerHTML = '';\n",
              "          dataTable['output_type'] = 'display_data';\n",
              "          await google.colab.output.renderOutput(dataTable, element);\n",
              "          const docLink = document.createElement('div');\n",
              "          docLink.innerHTML = docLinkHtml;\n",
              "          element.appendChild(docLink);\n",
              "        }\n",
              "      </script>\n",
              "    </div>\n",
              "  </div>\n",
              "  "
            ]
          },
          "metadata": {},
          "execution_count": 7
        }
      ]
    },
    {
      "cell_type": "code",
      "source": [
        "data.info()"
      ],
      "metadata": {
        "colab": {
          "base_uri": "https://localhost:8080/"
        },
        "id": "QiVLnm0DrIy7",
        "outputId": "a5b67ae6-fb66-4db7-e1d8-72810c7f0ecc"
      },
      "execution_count": null,
      "outputs": [
        {
          "output_type": "stream",
          "name": "stdout",
          "text": [
            "<class 'pandas.core.frame.DataFrame'>\n",
            "RangeIndex: 891 entries, 0 to 890\n",
            "Data columns (total 8 columns):\n",
            " #   Column    Non-Null Count  Dtype  \n",
            "---  ------    --------------  -----  \n",
            " 0   Survived  891 non-null    int64  \n",
            " 1   Pclass    891 non-null    int64  \n",
            " 2   Sex       891 non-null    object \n",
            " 3   Age       714 non-null    float64\n",
            " 4   SibSp     891 non-null    int64  \n",
            " 5   Parch     891 non-null    int64  \n",
            " 6   Fare      891 non-null    float64\n",
            " 7   Embarked  889 non-null    object \n",
            "dtypes: float64(2), int64(4), object(2)\n",
            "memory usage: 55.8+ KB\n"
          ]
        }
      ]
    },
    {
      "cell_type": "code",
      "source": [
        "data.isnull().sum()"
      ],
      "metadata": {
        "colab": {
          "base_uri": "https://localhost:8080/"
        },
        "id": "G5upGUDnscWa",
        "outputId": "2bcb2ac9-6fb2-459b-f429-974b8c2c7949"
      },
      "execution_count": null,
      "outputs": [
        {
          "output_type": "execute_result",
          "data": {
            "text/plain": [
              "Survived      0\n",
              "Pclass        0\n",
              "Sex           0\n",
              "Age         177\n",
              "SibSp         0\n",
              "Parch         0\n",
              "Fare          0\n",
              "Embarked      2\n",
              "dtype: int64"
            ]
          },
          "metadata": {},
          "execution_count": 9
        }
      ]
    },
    {
      "cell_type": "code",
      "source": [
        "mean_age = data['Age'].mean()\n",
        "mean_age = round(mean_age,2)\n",
        "mean_age"
      ],
      "metadata": {
        "colab": {
          "base_uri": "https://localhost:8080/"
        },
        "id": "TcUp3Fjes0PP",
        "outputId": "7f8c368f-fae0-4ffa-df7c-26fb93bc8836"
      },
      "execution_count": null,
      "outputs": [
        {
          "output_type": "execute_result",
          "data": {
            "text/plain": [
              "29.7"
            ]
          },
          "metadata": {},
          "execution_count": 10
        }
      ]
    },
    {
      "cell_type": "code",
      "source": [
        "data['Age'] = data['Age'].fillna(mean_age)"
      ],
      "metadata": {
        "id": "xLYblsictGn2"
      },
      "execution_count": null,
      "outputs": []
    },
    {
      "cell_type": "code",
      "source": [
        "data = data.dropna()"
      ],
      "metadata": {
        "id": "VzKObP6-tYMA"
      },
      "execution_count": null,
      "outputs": []
    },
    {
      "cell_type": "code",
      "source": [
        "data.isnull().sum()"
      ],
      "metadata": {
        "colab": {
          "base_uri": "https://localhost:8080/"
        },
        "id": "BEjKjHsMtQNR",
        "outputId": "62af0d85-0af3-4f87-9d5e-0e5ab182f56c"
      },
      "execution_count": null,
      "outputs": [
        {
          "output_type": "execute_result",
          "data": {
            "text/plain": [
              "Survived    0\n",
              "Pclass      0\n",
              "Sex         0\n",
              "Age         0\n",
              "SibSp       0\n",
              "Parch       0\n",
              "Fare        0\n",
              "Embarked    0\n",
              "dtype: int64"
            ]
          },
          "metadata": {},
          "execution_count": 13
        }
      ]
    },
    {
      "cell_type": "code",
      "source": [
        "data.shape"
      ],
      "metadata": {
        "colab": {
          "base_uri": "https://localhost:8080/"
        },
        "id": "nIK_PZpxtSzp",
        "outputId": "6122edc7-fa1c-45e6-a056-a4de11d5b686"
      },
      "execution_count": null,
      "outputs": [
        {
          "output_type": "execute_result",
          "data": {
            "text/plain": [
              "(889, 8)"
            ]
          },
          "metadata": {},
          "execution_count": 14
        }
      ]
    },
    {
      "cell_type": "code",
      "source": [
        "data.head()"
      ],
      "metadata": {
        "colab": {
          "base_uri": "https://localhost:8080/",
          "height": 206
        },
        "id": "L4jBevrRtdZu",
        "outputId": "b23b5047-c1a4-43f3-fce0-e324189bc3e9"
      },
      "execution_count": null,
      "outputs": [
        {
          "output_type": "execute_result",
          "data": {
            "text/plain": [
              "   Survived  Pclass     Sex   Age  SibSp  Parch     Fare Embarked\n",
              "0         0       3    male  22.0      1      0   7.2500        S\n",
              "1         1       1  female  38.0      1      0  71.2833        C\n",
              "2         1       3  female  26.0      0      0   7.9250        S\n",
              "3         1       1  female  35.0      1      0  53.1000        S\n",
              "4         0       3    male  35.0      0      0   8.0500        S"
            ],
            "text/html": [
              "\n",
              "  <div id=\"df-c19d9d17-32ce-44f6-a20b-dccccdd2d21e\">\n",
              "    <div class=\"colab-df-container\">\n",
              "      <div>\n",
              "<style scoped>\n",
              "    .dataframe tbody tr th:only-of-type {\n",
              "        vertical-align: middle;\n",
              "    }\n",
              "\n",
              "    .dataframe tbody tr th {\n",
              "        vertical-align: top;\n",
              "    }\n",
              "\n",
              "    .dataframe thead th {\n",
              "        text-align: right;\n",
              "    }\n",
              "</style>\n",
              "<table border=\"1\" class=\"dataframe\">\n",
              "  <thead>\n",
              "    <tr style=\"text-align: right;\">\n",
              "      <th></th>\n",
              "      <th>Survived</th>\n",
              "      <th>Pclass</th>\n",
              "      <th>Sex</th>\n",
              "      <th>Age</th>\n",
              "      <th>SibSp</th>\n",
              "      <th>Parch</th>\n",
              "      <th>Fare</th>\n",
              "      <th>Embarked</th>\n",
              "    </tr>\n",
              "  </thead>\n",
              "  <tbody>\n",
              "    <tr>\n",
              "      <th>0</th>\n",
              "      <td>0</td>\n",
              "      <td>3</td>\n",
              "      <td>male</td>\n",
              "      <td>22.0</td>\n",
              "      <td>1</td>\n",
              "      <td>0</td>\n",
              "      <td>7.2500</td>\n",
              "      <td>S</td>\n",
              "    </tr>\n",
              "    <tr>\n",
              "      <th>1</th>\n",
              "      <td>1</td>\n",
              "      <td>1</td>\n",
              "      <td>female</td>\n",
              "      <td>38.0</td>\n",
              "      <td>1</td>\n",
              "      <td>0</td>\n",
              "      <td>71.2833</td>\n",
              "      <td>C</td>\n",
              "    </tr>\n",
              "    <tr>\n",
              "      <th>2</th>\n",
              "      <td>1</td>\n",
              "      <td>3</td>\n",
              "      <td>female</td>\n",
              "      <td>26.0</td>\n",
              "      <td>0</td>\n",
              "      <td>0</td>\n",
              "      <td>7.9250</td>\n",
              "      <td>S</td>\n",
              "    </tr>\n",
              "    <tr>\n",
              "      <th>3</th>\n",
              "      <td>1</td>\n",
              "      <td>1</td>\n",
              "      <td>female</td>\n",
              "      <td>35.0</td>\n",
              "      <td>1</td>\n",
              "      <td>0</td>\n",
              "      <td>53.1000</td>\n",
              "      <td>S</td>\n",
              "    </tr>\n",
              "    <tr>\n",
              "      <th>4</th>\n",
              "      <td>0</td>\n",
              "      <td>3</td>\n",
              "      <td>male</td>\n",
              "      <td>35.0</td>\n",
              "      <td>0</td>\n",
              "      <td>0</td>\n",
              "      <td>8.0500</td>\n",
              "      <td>S</td>\n",
              "    </tr>\n",
              "  </tbody>\n",
              "</table>\n",
              "</div>\n",
              "      <button class=\"colab-df-convert\" onclick=\"convertToInteractive('df-c19d9d17-32ce-44f6-a20b-dccccdd2d21e')\"\n",
              "              title=\"Convert this dataframe to an interactive table.\"\n",
              "              style=\"display:none;\">\n",
              "        \n",
              "  <svg xmlns=\"http://www.w3.org/2000/svg\" height=\"24px\"viewBox=\"0 0 24 24\"\n",
              "       width=\"24px\">\n",
              "    <path d=\"M0 0h24v24H0V0z\" fill=\"none\"/>\n",
              "    <path d=\"M18.56 5.44l.94 2.06.94-2.06 2.06-.94-2.06-.94-.94-2.06-.94 2.06-2.06.94zm-11 1L8.5 8.5l.94-2.06 2.06-.94-2.06-.94L8.5 2.5l-.94 2.06-2.06.94zm10 10l.94 2.06.94-2.06 2.06-.94-2.06-.94-.94-2.06-.94 2.06-2.06.94z\"/><path d=\"M17.41 7.96l-1.37-1.37c-.4-.4-.92-.59-1.43-.59-.52 0-1.04.2-1.43.59L10.3 9.45l-7.72 7.72c-.78.78-.78 2.05 0 2.83L4 21.41c.39.39.9.59 1.41.59.51 0 1.02-.2 1.41-.59l7.78-7.78 2.81-2.81c.8-.78.8-2.07 0-2.86zM5.41 20L4 18.59l7.72-7.72 1.47 1.35L5.41 20z\"/>\n",
              "  </svg>\n",
              "      </button>\n",
              "      \n",
              "  <style>\n",
              "    .colab-df-container {\n",
              "      display:flex;\n",
              "      flex-wrap:wrap;\n",
              "      gap: 12px;\n",
              "    }\n",
              "\n",
              "    .colab-df-convert {\n",
              "      background-color: #E8F0FE;\n",
              "      border: none;\n",
              "      border-radius: 50%;\n",
              "      cursor: pointer;\n",
              "      display: none;\n",
              "      fill: #1967D2;\n",
              "      height: 32px;\n",
              "      padding: 0 0 0 0;\n",
              "      width: 32px;\n",
              "    }\n",
              "\n",
              "    .colab-df-convert:hover {\n",
              "      background-color: #E2EBFA;\n",
              "      box-shadow: 0px 1px 2px rgba(60, 64, 67, 0.3), 0px 1px 3px 1px rgba(60, 64, 67, 0.15);\n",
              "      fill: #174EA6;\n",
              "    }\n",
              "\n",
              "    [theme=dark] .colab-df-convert {\n",
              "      background-color: #3B4455;\n",
              "      fill: #D2E3FC;\n",
              "    }\n",
              "\n",
              "    [theme=dark] .colab-df-convert:hover {\n",
              "      background-color: #434B5C;\n",
              "      box-shadow: 0px 1px 3px 1px rgba(0, 0, 0, 0.15);\n",
              "      filter: drop-shadow(0px 1px 2px rgba(0, 0, 0, 0.3));\n",
              "      fill: #FFFFFF;\n",
              "    }\n",
              "  </style>\n",
              "\n",
              "      <script>\n",
              "        const buttonEl =\n",
              "          document.querySelector('#df-c19d9d17-32ce-44f6-a20b-dccccdd2d21e button.colab-df-convert');\n",
              "        buttonEl.style.display =\n",
              "          google.colab.kernel.accessAllowed ? 'block' : 'none';\n",
              "\n",
              "        async function convertToInteractive(key) {\n",
              "          const element = document.querySelector('#df-c19d9d17-32ce-44f6-a20b-dccccdd2d21e');\n",
              "          const dataTable =\n",
              "            await google.colab.kernel.invokeFunction('convertToInteractive',\n",
              "                                                     [key], {});\n",
              "          if (!dataTable) return;\n",
              "\n",
              "          const docLinkHtml = 'Like what you see? Visit the ' +\n",
              "            '<a target=\"_blank\" href=https://colab.research.google.com/notebooks/data_table.ipynb>data table notebook</a>'\n",
              "            + ' to learn more about interactive tables.';\n",
              "          element.innerHTML = '';\n",
              "          dataTable['output_type'] = 'display_data';\n",
              "          await google.colab.output.renderOutput(dataTable, element);\n",
              "          const docLink = document.createElement('div');\n",
              "          docLink.innerHTML = docLinkHtml;\n",
              "          element.appendChild(docLink);\n",
              "        }\n",
              "      </script>\n",
              "    </div>\n",
              "  </div>\n",
              "  "
            ]
          },
          "metadata": {},
          "execution_count": 15
        }
      ]
    },
    {
      "cell_type": "code",
      "source": [
        "from sklearn.preprocessing import LabelEncoder\n",
        "encoder = LabelEncoder()\n",
        "data['Sex'] = encoder.fit_transform(data['Sex'])\n",
        "data['Embarked'] = encoder.fit_transform(data['Embarked'])"
      ],
      "metadata": {
        "id": "865cwjkAtgx2"
      },
      "execution_count": null,
      "outputs": []
    },
    {
      "cell_type": "code",
      "source": [
        "data.head()"
      ],
      "metadata": {
        "colab": {
          "base_uri": "https://localhost:8080/",
          "height": 206
        },
        "id": "4JiLPqUUukHq",
        "outputId": "4a072715-8356-4b03-c9b8-0b8e285f7555"
      },
      "execution_count": null,
      "outputs": [
        {
          "output_type": "execute_result",
          "data": {
            "text/plain": [
              "   Survived  Pclass  Sex   Age  SibSp  Parch     Fare  Embarked\n",
              "0         0       3    1  22.0      1      0   7.2500         2\n",
              "1         1       1    0  38.0      1      0  71.2833         0\n",
              "2         1       3    0  26.0      0      0   7.9250         2\n",
              "3         1       1    0  35.0      1      0  53.1000         2\n",
              "4         0       3    1  35.0      0      0   8.0500         2"
            ],
            "text/html": [
              "\n",
              "  <div id=\"df-43edb619-1992-48df-baeb-e16658df4376\">\n",
              "    <div class=\"colab-df-container\">\n",
              "      <div>\n",
              "<style scoped>\n",
              "    .dataframe tbody tr th:only-of-type {\n",
              "        vertical-align: middle;\n",
              "    }\n",
              "\n",
              "    .dataframe tbody tr th {\n",
              "        vertical-align: top;\n",
              "    }\n",
              "\n",
              "    .dataframe thead th {\n",
              "        text-align: right;\n",
              "    }\n",
              "</style>\n",
              "<table border=\"1\" class=\"dataframe\">\n",
              "  <thead>\n",
              "    <tr style=\"text-align: right;\">\n",
              "      <th></th>\n",
              "      <th>Survived</th>\n",
              "      <th>Pclass</th>\n",
              "      <th>Sex</th>\n",
              "      <th>Age</th>\n",
              "      <th>SibSp</th>\n",
              "      <th>Parch</th>\n",
              "      <th>Fare</th>\n",
              "      <th>Embarked</th>\n",
              "    </tr>\n",
              "  </thead>\n",
              "  <tbody>\n",
              "    <tr>\n",
              "      <th>0</th>\n",
              "      <td>0</td>\n",
              "      <td>3</td>\n",
              "      <td>1</td>\n",
              "      <td>22.0</td>\n",
              "      <td>1</td>\n",
              "      <td>0</td>\n",
              "      <td>7.2500</td>\n",
              "      <td>2</td>\n",
              "    </tr>\n",
              "    <tr>\n",
              "      <th>1</th>\n",
              "      <td>1</td>\n",
              "      <td>1</td>\n",
              "      <td>0</td>\n",
              "      <td>38.0</td>\n",
              "      <td>1</td>\n",
              "      <td>0</td>\n",
              "      <td>71.2833</td>\n",
              "      <td>0</td>\n",
              "    </tr>\n",
              "    <tr>\n",
              "      <th>2</th>\n",
              "      <td>1</td>\n",
              "      <td>3</td>\n",
              "      <td>0</td>\n",
              "      <td>26.0</td>\n",
              "      <td>0</td>\n",
              "      <td>0</td>\n",
              "      <td>7.9250</td>\n",
              "      <td>2</td>\n",
              "    </tr>\n",
              "    <tr>\n",
              "      <th>3</th>\n",
              "      <td>1</td>\n",
              "      <td>1</td>\n",
              "      <td>0</td>\n",
              "      <td>35.0</td>\n",
              "      <td>1</td>\n",
              "      <td>0</td>\n",
              "      <td>53.1000</td>\n",
              "      <td>2</td>\n",
              "    </tr>\n",
              "    <tr>\n",
              "      <th>4</th>\n",
              "      <td>0</td>\n",
              "      <td>3</td>\n",
              "      <td>1</td>\n",
              "      <td>35.0</td>\n",
              "      <td>0</td>\n",
              "      <td>0</td>\n",
              "      <td>8.0500</td>\n",
              "      <td>2</td>\n",
              "    </tr>\n",
              "  </tbody>\n",
              "</table>\n",
              "</div>\n",
              "      <button class=\"colab-df-convert\" onclick=\"convertToInteractive('df-43edb619-1992-48df-baeb-e16658df4376')\"\n",
              "              title=\"Convert this dataframe to an interactive table.\"\n",
              "              style=\"display:none;\">\n",
              "        \n",
              "  <svg xmlns=\"http://www.w3.org/2000/svg\" height=\"24px\"viewBox=\"0 0 24 24\"\n",
              "       width=\"24px\">\n",
              "    <path d=\"M0 0h24v24H0V0z\" fill=\"none\"/>\n",
              "    <path d=\"M18.56 5.44l.94 2.06.94-2.06 2.06-.94-2.06-.94-.94-2.06-.94 2.06-2.06.94zm-11 1L8.5 8.5l.94-2.06 2.06-.94-2.06-.94L8.5 2.5l-.94 2.06-2.06.94zm10 10l.94 2.06.94-2.06 2.06-.94-2.06-.94-.94-2.06-.94 2.06-2.06.94z\"/><path d=\"M17.41 7.96l-1.37-1.37c-.4-.4-.92-.59-1.43-.59-.52 0-1.04.2-1.43.59L10.3 9.45l-7.72 7.72c-.78.78-.78 2.05 0 2.83L4 21.41c.39.39.9.59 1.41.59.51 0 1.02-.2 1.41-.59l7.78-7.78 2.81-2.81c.8-.78.8-2.07 0-2.86zM5.41 20L4 18.59l7.72-7.72 1.47 1.35L5.41 20z\"/>\n",
              "  </svg>\n",
              "      </button>\n",
              "      \n",
              "  <style>\n",
              "    .colab-df-container {\n",
              "      display:flex;\n",
              "      flex-wrap:wrap;\n",
              "      gap: 12px;\n",
              "    }\n",
              "\n",
              "    .colab-df-convert {\n",
              "      background-color: #E8F0FE;\n",
              "      border: none;\n",
              "      border-radius: 50%;\n",
              "      cursor: pointer;\n",
              "      display: none;\n",
              "      fill: #1967D2;\n",
              "      height: 32px;\n",
              "      padding: 0 0 0 0;\n",
              "      width: 32px;\n",
              "    }\n",
              "\n",
              "    .colab-df-convert:hover {\n",
              "      background-color: #E2EBFA;\n",
              "      box-shadow: 0px 1px 2px rgba(60, 64, 67, 0.3), 0px 1px 3px 1px rgba(60, 64, 67, 0.15);\n",
              "      fill: #174EA6;\n",
              "    }\n",
              "\n",
              "    [theme=dark] .colab-df-convert {\n",
              "      background-color: #3B4455;\n",
              "      fill: #D2E3FC;\n",
              "    }\n",
              "\n",
              "    [theme=dark] .colab-df-convert:hover {\n",
              "      background-color: #434B5C;\n",
              "      box-shadow: 0px 1px 3px 1px rgba(0, 0, 0, 0.15);\n",
              "      filter: drop-shadow(0px 1px 2px rgba(0, 0, 0, 0.3));\n",
              "      fill: #FFFFFF;\n",
              "    }\n",
              "  </style>\n",
              "\n",
              "      <script>\n",
              "        const buttonEl =\n",
              "          document.querySelector('#df-43edb619-1992-48df-baeb-e16658df4376 button.colab-df-convert');\n",
              "        buttonEl.style.display =\n",
              "          google.colab.kernel.accessAllowed ? 'block' : 'none';\n",
              "\n",
              "        async function convertToInteractive(key) {\n",
              "          const element = document.querySelector('#df-43edb619-1992-48df-baeb-e16658df4376');\n",
              "          const dataTable =\n",
              "            await google.colab.kernel.invokeFunction('convertToInteractive',\n",
              "                                                     [key], {});\n",
              "          if (!dataTable) return;\n",
              "\n",
              "          const docLinkHtml = 'Like what you see? Visit the ' +\n",
              "            '<a target=\"_blank\" href=https://colab.research.google.com/notebooks/data_table.ipynb>data table notebook</a>'\n",
              "            + ' to learn more about interactive tables.';\n",
              "          element.innerHTML = '';\n",
              "          dataTable['output_type'] = 'display_data';\n",
              "          await google.colab.output.renderOutput(dataTable, element);\n",
              "          const docLink = document.createElement('div');\n",
              "          docLink.innerHTML = docLinkHtml;\n",
              "          element.appendChild(docLink);\n",
              "        }\n",
              "      </script>\n",
              "    </div>\n",
              "  </div>\n",
              "  "
            ]
          },
          "metadata": {},
          "execution_count": 17
        }
      ]
    },
    {
      "cell_type": "code",
      "source": [
        "data.describe()"
      ],
      "metadata": {
        "colab": {
          "base_uri": "https://localhost:8080/",
          "height": 300
        },
        "id": "c9BEPDsFulJf",
        "outputId": "87caddae-cbb7-43ee-ccc9-2c11ea699e9f"
      },
      "execution_count": null,
      "outputs": [
        {
          "output_type": "execute_result",
          "data": {
            "text/plain": [
              "         Survived      Pclass         Sex         Age       SibSp       Parch  \\\n",
              "count  889.000000  889.000000  889.000000  889.000000  889.000000  889.000000   \n",
              "mean     0.382452    2.311586    0.649044   29.653622    0.524184    0.382452   \n",
              "std      0.486260    0.834700    0.477538   12.968367    1.103705    0.806761   \n",
              "min      0.000000    1.000000    0.000000    0.420000    0.000000    0.000000   \n",
              "25%      0.000000    2.000000    0.000000   22.000000    0.000000    0.000000   \n",
              "50%      0.000000    3.000000    1.000000   29.700000    0.000000    0.000000   \n",
              "75%      1.000000    3.000000    1.000000   35.000000    1.000000    0.000000   \n",
              "max      1.000000    3.000000    1.000000   80.000000    8.000000    6.000000   \n",
              "\n",
              "             Fare    Embarked  \n",
              "count  889.000000  889.000000  \n",
              "mean    32.096681    1.535433  \n",
              "std     49.697504    0.792088  \n",
              "min      0.000000    0.000000  \n",
              "25%      7.895800    1.000000  \n",
              "50%     14.454200    2.000000  \n",
              "75%     31.000000    2.000000  \n",
              "max    512.329200    2.000000  "
            ],
            "text/html": [
              "\n",
              "  <div id=\"df-ee82c6de-0863-49dc-b13d-28f5da18dda1\">\n",
              "    <div class=\"colab-df-container\">\n",
              "      <div>\n",
              "<style scoped>\n",
              "    .dataframe tbody tr th:only-of-type {\n",
              "        vertical-align: middle;\n",
              "    }\n",
              "\n",
              "    .dataframe tbody tr th {\n",
              "        vertical-align: top;\n",
              "    }\n",
              "\n",
              "    .dataframe thead th {\n",
              "        text-align: right;\n",
              "    }\n",
              "</style>\n",
              "<table border=\"1\" class=\"dataframe\">\n",
              "  <thead>\n",
              "    <tr style=\"text-align: right;\">\n",
              "      <th></th>\n",
              "      <th>Survived</th>\n",
              "      <th>Pclass</th>\n",
              "      <th>Sex</th>\n",
              "      <th>Age</th>\n",
              "      <th>SibSp</th>\n",
              "      <th>Parch</th>\n",
              "      <th>Fare</th>\n",
              "      <th>Embarked</th>\n",
              "    </tr>\n",
              "  </thead>\n",
              "  <tbody>\n",
              "    <tr>\n",
              "      <th>count</th>\n",
              "      <td>889.000000</td>\n",
              "      <td>889.000000</td>\n",
              "      <td>889.000000</td>\n",
              "      <td>889.000000</td>\n",
              "      <td>889.000000</td>\n",
              "      <td>889.000000</td>\n",
              "      <td>889.000000</td>\n",
              "      <td>889.000000</td>\n",
              "    </tr>\n",
              "    <tr>\n",
              "      <th>mean</th>\n",
              "      <td>0.382452</td>\n",
              "      <td>2.311586</td>\n",
              "      <td>0.649044</td>\n",
              "      <td>29.653622</td>\n",
              "      <td>0.524184</td>\n",
              "      <td>0.382452</td>\n",
              "      <td>32.096681</td>\n",
              "      <td>1.535433</td>\n",
              "    </tr>\n",
              "    <tr>\n",
              "      <th>std</th>\n",
              "      <td>0.486260</td>\n",
              "      <td>0.834700</td>\n",
              "      <td>0.477538</td>\n",
              "      <td>12.968367</td>\n",
              "      <td>1.103705</td>\n",
              "      <td>0.806761</td>\n",
              "      <td>49.697504</td>\n",
              "      <td>0.792088</td>\n",
              "    </tr>\n",
              "    <tr>\n",
              "      <th>min</th>\n",
              "      <td>0.000000</td>\n",
              "      <td>1.000000</td>\n",
              "      <td>0.000000</td>\n",
              "      <td>0.420000</td>\n",
              "      <td>0.000000</td>\n",
              "      <td>0.000000</td>\n",
              "      <td>0.000000</td>\n",
              "      <td>0.000000</td>\n",
              "    </tr>\n",
              "    <tr>\n",
              "      <th>25%</th>\n",
              "      <td>0.000000</td>\n",
              "      <td>2.000000</td>\n",
              "      <td>0.000000</td>\n",
              "      <td>22.000000</td>\n",
              "      <td>0.000000</td>\n",
              "      <td>0.000000</td>\n",
              "      <td>7.895800</td>\n",
              "      <td>1.000000</td>\n",
              "    </tr>\n",
              "    <tr>\n",
              "      <th>50%</th>\n",
              "      <td>0.000000</td>\n",
              "      <td>3.000000</td>\n",
              "      <td>1.000000</td>\n",
              "      <td>29.700000</td>\n",
              "      <td>0.000000</td>\n",
              "      <td>0.000000</td>\n",
              "      <td>14.454200</td>\n",
              "      <td>2.000000</td>\n",
              "    </tr>\n",
              "    <tr>\n",
              "      <th>75%</th>\n",
              "      <td>1.000000</td>\n",
              "      <td>3.000000</td>\n",
              "      <td>1.000000</td>\n",
              "      <td>35.000000</td>\n",
              "      <td>1.000000</td>\n",
              "      <td>0.000000</td>\n",
              "      <td>31.000000</td>\n",
              "      <td>2.000000</td>\n",
              "    </tr>\n",
              "    <tr>\n",
              "      <th>max</th>\n",
              "      <td>1.000000</td>\n",
              "      <td>3.000000</td>\n",
              "      <td>1.000000</td>\n",
              "      <td>80.000000</td>\n",
              "      <td>8.000000</td>\n",
              "      <td>6.000000</td>\n",
              "      <td>512.329200</td>\n",
              "      <td>2.000000</td>\n",
              "    </tr>\n",
              "  </tbody>\n",
              "</table>\n",
              "</div>\n",
              "      <button class=\"colab-df-convert\" onclick=\"convertToInteractive('df-ee82c6de-0863-49dc-b13d-28f5da18dda1')\"\n",
              "              title=\"Convert this dataframe to an interactive table.\"\n",
              "              style=\"display:none;\">\n",
              "        \n",
              "  <svg xmlns=\"http://www.w3.org/2000/svg\" height=\"24px\"viewBox=\"0 0 24 24\"\n",
              "       width=\"24px\">\n",
              "    <path d=\"M0 0h24v24H0V0z\" fill=\"none\"/>\n",
              "    <path d=\"M18.56 5.44l.94 2.06.94-2.06 2.06-.94-2.06-.94-.94-2.06-.94 2.06-2.06.94zm-11 1L8.5 8.5l.94-2.06 2.06-.94-2.06-.94L8.5 2.5l-.94 2.06-2.06.94zm10 10l.94 2.06.94-2.06 2.06-.94-2.06-.94-.94-2.06-.94 2.06-2.06.94z\"/><path d=\"M17.41 7.96l-1.37-1.37c-.4-.4-.92-.59-1.43-.59-.52 0-1.04.2-1.43.59L10.3 9.45l-7.72 7.72c-.78.78-.78 2.05 0 2.83L4 21.41c.39.39.9.59 1.41.59.51 0 1.02-.2 1.41-.59l7.78-7.78 2.81-2.81c.8-.78.8-2.07 0-2.86zM5.41 20L4 18.59l7.72-7.72 1.47 1.35L5.41 20z\"/>\n",
              "  </svg>\n",
              "      </button>\n",
              "      \n",
              "  <style>\n",
              "    .colab-df-container {\n",
              "      display:flex;\n",
              "      flex-wrap:wrap;\n",
              "      gap: 12px;\n",
              "    }\n",
              "\n",
              "    .colab-df-convert {\n",
              "      background-color: #E8F0FE;\n",
              "      border: none;\n",
              "      border-radius: 50%;\n",
              "      cursor: pointer;\n",
              "      display: none;\n",
              "      fill: #1967D2;\n",
              "      height: 32px;\n",
              "      padding: 0 0 0 0;\n",
              "      width: 32px;\n",
              "    }\n",
              "\n",
              "    .colab-df-convert:hover {\n",
              "      background-color: #E2EBFA;\n",
              "      box-shadow: 0px 1px 2px rgba(60, 64, 67, 0.3), 0px 1px 3px 1px rgba(60, 64, 67, 0.15);\n",
              "      fill: #174EA6;\n",
              "    }\n",
              "\n",
              "    [theme=dark] .colab-df-convert {\n",
              "      background-color: #3B4455;\n",
              "      fill: #D2E3FC;\n",
              "    }\n",
              "\n",
              "    [theme=dark] .colab-df-convert:hover {\n",
              "      background-color: #434B5C;\n",
              "      box-shadow: 0px 1px 3px 1px rgba(0, 0, 0, 0.15);\n",
              "      filter: drop-shadow(0px 1px 2px rgba(0, 0, 0, 0.3));\n",
              "      fill: #FFFFFF;\n",
              "    }\n",
              "  </style>\n",
              "\n",
              "      <script>\n",
              "        const buttonEl =\n",
              "          document.querySelector('#df-ee82c6de-0863-49dc-b13d-28f5da18dda1 button.colab-df-convert');\n",
              "        buttonEl.style.display =\n",
              "          google.colab.kernel.accessAllowed ? 'block' : 'none';\n",
              "\n",
              "        async function convertToInteractive(key) {\n",
              "          const element = document.querySelector('#df-ee82c6de-0863-49dc-b13d-28f5da18dda1');\n",
              "          const dataTable =\n",
              "            await google.colab.kernel.invokeFunction('convertToInteractive',\n",
              "                                                     [key], {});\n",
              "          if (!dataTable) return;\n",
              "\n",
              "          const docLinkHtml = 'Like what you see? Visit the ' +\n",
              "            '<a target=\"_blank\" href=https://colab.research.google.com/notebooks/data_table.ipynb>data table notebook</a>'\n",
              "            + ' to learn more about interactive tables.';\n",
              "          element.innerHTML = '';\n",
              "          dataTable['output_type'] = 'display_data';\n",
              "          await google.colab.output.renderOutput(dataTable, element);\n",
              "          const docLink = document.createElement('div');\n",
              "          docLink.innerHTML = docLinkHtml;\n",
              "          element.appendChild(docLink);\n",
              "        }\n",
              "      </script>\n",
              "    </div>\n",
              "  </div>\n",
              "  "
            ]
          },
          "metadata": {},
          "execution_count": 18
        }
      ]
    },
    {
      "cell_type": "code",
      "source": [
        "x = data.drop(['Survived'],axis=1)\n",
        "y = data['Survived']"
      ],
      "metadata": {
        "id": "d7CL88PwvJXw"
      },
      "execution_count": null,
      "outputs": []
    },
    {
      "cell_type": "code",
      "source": [
        "from sklearn.preprocessing import StandardScaler\n",
        "scaler = StandardScaler()\n",
        "x = scaler.fit_transform(x)"
      ],
      "metadata": {
        "id": "dGl2RCnuv6d5"
      },
      "execution_count": null,
      "outputs": []
    },
    {
      "cell_type": "code",
      "source": [
        "pd.DataFrame(x).describe()"
      ],
      "metadata": {
        "colab": {
          "base_uri": "https://localhost:8080/",
          "height": 300
        },
        "id": "trmgJGN4v8Qx",
        "outputId": "3d7e642e-3ad3-4425-8c35-6751f74cbd3d"
      },
      "execution_count": null,
      "outputs": [
        {
          "output_type": "execute_result",
          "data": {
            "text/plain": [
              "                  0             1             2             3             4  \\\n",
              "count  8.890000e+02  8.890000e+02  8.890000e+02  8.890000e+02  8.890000e+02   \n",
              "mean  -2.437745e-16  4.395934e-17 -5.994455e-17 -3.197043e-17 -4.795564e-17   \n",
              "std    1.000563e+00  1.000563e+00  1.000563e+00  1.000563e+00  1.000563e+00   \n",
              "min   -1.572211e+00 -1.359911e+00 -2.255494e+00 -4.751991e-01 -4.743259e-01   \n",
              "25%   -3.735013e-01 -1.359911e+00 -5.905085e-01 -4.751991e-01 -4.743259e-01   \n",
              "50%    8.252086e-01  7.353420e-01  3.578250e-03 -4.751991e-01 -4.743259e-01   \n",
              "75%    8.252086e-01  7.353420e-01  4.124951e-01  4.313502e-01 -4.743259e-01   \n",
              "max    8.252086e-01  7.353420e-01  3.884430e+00  6.777195e+00  6.967010e+00   \n",
              "\n",
              "                  5             6  \n",
              "count  8.890000e+02  8.890000e+02  \n",
              "mean   1.398706e-16  5.295102e-17  \n",
              "std    1.000563e+00  1.000563e+00  \n",
              "min   -6.462044e-01 -1.939555e+00  \n",
              "25%   -4.872378e-01 -6.763575e-01  \n",
              "50%   -3.551972e-01  5.868396e-01  \n",
              "75%   -2.207954e-02  5.868396e-01  \n",
              "max    9.668551e+00  5.868396e-01  "
            ],
            "text/html": [
              "\n",
              "  <div id=\"df-c63ffcd1-7b64-48b2-b6c0-73784e7077db\">\n",
              "    <div class=\"colab-df-container\">\n",
              "      <div>\n",
              "<style scoped>\n",
              "    .dataframe tbody tr th:only-of-type {\n",
              "        vertical-align: middle;\n",
              "    }\n",
              "\n",
              "    .dataframe tbody tr th {\n",
              "        vertical-align: top;\n",
              "    }\n",
              "\n",
              "    .dataframe thead th {\n",
              "        text-align: right;\n",
              "    }\n",
              "</style>\n",
              "<table border=\"1\" class=\"dataframe\">\n",
              "  <thead>\n",
              "    <tr style=\"text-align: right;\">\n",
              "      <th></th>\n",
              "      <th>0</th>\n",
              "      <th>1</th>\n",
              "      <th>2</th>\n",
              "      <th>3</th>\n",
              "      <th>4</th>\n",
              "      <th>5</th>\n",
              "      <th>6</th>\n",
              "    </tr>\n",
              "  </thead>\n",
              "  <tbody>\n",
              "    <tr>\n",
              "      <th>count</th>\n",
              "      <td>8.890000e+02</td>\n",
              "      <td>8.890000e+02</td>\n",
              "      <td>8.890000e+02</td>\n",
              "      <td>8.890000e+02</td>\n",
              "      <td>8.890000e+02</td>\n",
              "      <td>8.890000e+02</td>\n",
              "      <td>8.890000e+02</td>\n",
              "    </tr>\n",
              "    <tr>\n",
              "      <th>mean</th>\n",
              "      <td>-2.437745e-16</td>\n",
              "      <td>4.395934e-17</td>\n",
              "      <td>-5.994455e-17</td>\n",
              "      <td>-3.197043e-17</td>\n",
              "      <td>-4.795564e-17</td>\n",
              "      <td>1.398706e-16</td>\n",
              "      <td>5.295102e-17</td>\n",
              "    </tr>\n",
              "    <tr>\n",
              "      <th>std</th>\n",
              "      <td>1.000563e+00</td>\n",
              "      <td>1.000563e+00</td>\n",
              "      <td>1.000563e+00</td>\n",
              "      <td>1.000563e+00</td>\n",
              "      <td>1.000563e+00</td>\n",
              "      <td>1.000563e+00</td>\n",
              "      <td>1.000563e+00</td>\n",
              "    </tr>\n",
              "    <tr>\n",
              "      <th>min</th>\n",
              "      <td>-1.572211e+00</td>\n",
              "      <td>-1.359911e+00</td>\n",
              "      <td>-2.255494e+00</td>\n",
              "      <td>-4.751991e-01</td>\n",
              "      <td>-4.743259e-01</td>\n",
              "      <td>-6.462044e-01</td>\n",
              "      <td>-1.939555e+00</td>\n",
              "    </tr>\n",
              "    <tr>\n",
              "      <th>25%</th>\n",
              "      <td>-3.735013e-01</td>\n",
              "      <td>-1.359911e+00</td>\n",
              "      <td>-5.905085e-01</td>\n",
              "      <td>-4.751991e-01</td>\n",
              "      <td>-4.743259e-01</td>\n",
              "      <td>-4.872378e-01</td>\n",
              "      <td>-6.763575e-01</td>\n",
              "    </tr>\n",
              "    <tr>\n",
              "      <th>50%</th>\n",
              "      <td>8.252086e-01</td>\n",
              "      <td>7.353420e-01</td>\n",
              "      <td>3.578250e-03</td>\n",
              "      <td>-4.751991e-01</td>\n",
              "      <td>-4.743259e-01</td>\n",
              "      <td>-3.551972e-01</td>\n",
              "      <td>5.868396e-01</td>\n",
              "    </tr>\n",
              "    <tr>\n",
              "      <th>75%</th>\n",
              "      <td>8.252086e-01</td>\n",
              "      <td>7.353420e-01</td>\n",
              "      <td>4.124951e-01</td>\n",
              "      <td>4.313502e-01</td>\n",
              "      <td>-4.743259e-01</td>\n",
              "      <td>-2.207954e-02</td>\n",
              "      <td>5.868396e-01</td>\n",
              "    </tr>\n",
              "    <tr>\n",
              "      <th>max</th>\n",
              "      <td>8.252086e-01</td>\n",
              "      <td>7.353420e-01</td>\n",
              "      <td>3.884430e+00</td>\n",
              "      <td>6.777195e+00</td>\n",
              "      <td>6.967010e+00</td>\n",
              "      <td>9.668551e+00</td>\n",
              "      <td>5.868396e-01</td>\n",
              "    </tr>\n",
              "  </tbody>\n",
              "</table>\n",
              "</div>\n",
              "      <button class=\"colab-df-convert\" onclick=\"convertToInteractive('df-c63ffcd1-7b64-48b2-b6c0-73784e7077db')\"\n",
              "              title=\"Convert this dataframe to an interactive table.\"\n",
              "              style=\"display:none;\">\n",
              "        \n",
              "  <svg xmlns=\"http://www.w3.org/2000/svg\" height=\"24px\"viewBox=\"0 0 24 24\"\n",
              "       width=\"24px\">\n",
              "    <path d=\"M0 0h24v24H0V0z\" fill=\"none\"/>\n",
              "    <path d=\"M18.56 5.44l.94 2.06.94-2.06 2.06-.94-2.06-.94-.94-2.06-.94 2.06-2.06.94zm-11 1L8.5 8.5l.94-2.06 2.06-.94-2.06-.94L8.5 2.5l-.94 2.06-2.06.94zm10 10l.94 2.06.94-2.06 2.06-.94-2.06-.94-.94-2.06-.94 2.06-2.06.94z\"/><path d=\"M17.41 7.96l-1.37-1.37c-.4-.4-.92-.59-1.43-.59-.52 0-1.04.2-1.43.59L10.3 9.45l-7.72 7.72c-.78.78-.78 2.05 0 2.83L4 21.41c.39.39.9.59 1.41.59.51 0 1.02-.2 1.41-.59l7.78-7.78 2.81-2.81c.8-.78.8-2.07 0-2.86zM5.41 20L4 18.59l7.72-7.72 1.47 1.35L5.41 20z\"/>\n",
              "  </svg>\n",
              "      </button>\n",
              "      \n",
              "  <style>\n",
              "    .colab-df-container {\n",
              "      display:flex;\n",
              "      flex-wrap:wrap;\n",
              "      gap: 12px;\n",
              "    }\n",
              "\n",
              "    .colab-df-convert {\n",
              "      background-color: #E8F0FE;\n",
              "      border: none;\n",
              "      border-radius: 50%;\n",
              "      cursor: pointer;\n",
              "      display: none;\n",
              "      fill: #1967D2;\n",
              "      height: 32px;\n",
              "      padding: 0 0 0 0;\n",
              "      width: 32px;\n",
              "    }\n",
              "\n",
              "    .colab-df-convert:hover {\n",
              "      background-color: #E2EBFA;\n",
              "      box-shadow: 0px 1px 2px rgba(60, 64, 67, 0.3), 0px 1px 3px 1px rgba(60, 64, 67, 0.15);\n",
              "      fill: #174EA6;\n",
              "    }\n",
              "\n",
              "    [theme=dark] .colab-df-convert {\n",
              "      background-color: #3B4455;\n",
              "      fill: #D2E3FC;\n",
              "    }\n",
              "\n",
              "    [theme=dark] .colab-df-convert:hover {\n",
              "      background-color: #434B5C;\n",
              "      box-shadow: 0px 1px 3px 1px rgba(0, 0, 0, 0.15);\n",
              "      filter: drop-shadow(0px 1px 2px rgba(0, 0, 0, 0.3));\n",
              "      fill: #FFFFFF;\n",
              "    }\n",
              "  </style>\n",
              "\n",
              "      <script>\n",
              "        const buttonEl =\n",
              "          document.querySelector('#df-c63ffcd1-7b64-48b2-b6c0-73784e7077db button.colab-df-convert');\n",
              "        buttonEl.style.display =\n",
              "          google.colab.kernel.accessAllowed ? 'block' : 'none';\n",
              "\n",
              "        async function convertToInteractive(key) {\n",
              "          const element = document.querySelector('#df-c63ffcd1-7b64-48b2-b6c0-73784e7077db');\n",
              "          const dataTable =\n",
              "            await google.colab.kernel.invokeFunction('convertToInteractive',\n",
              "                                                     [key], {});\n",
              "          if (!dataTable) return;\n",
              "\n",
              "          const docLinkHtml = 'Like what you see? Visit the ' +\n",
              "            '<a target=\"_blank\" href=https://colab.research.google.com/notebooks/data_table.ipynb>data table notebook</a>'\n",
              "            + ' to learn more about interactive tables.';\n",
              "          element.innerHTML = '';\n",
              "          dataTable['output_type'] = 'display_data';\n",
              "          await google.colab.output.renderOutput(dataTable, element);\n",
              "          const docLink = document.createElement('div');\n",
              "          docLink.innerHTML = docLinkHtml;\n",
              "          element.appendChild(docLink);\n",
              "        }\n",
              "      </script>\n",
              "    </div>\n",
              "  </div>\n",
              "  "
            ]
          },
          "metadata": {},
          "execution_count": 21
        }
      ]
    },
    {
      "cell_type": "code",
      "source": [
        "### split into train and test"
      ],
      "metadata": {
        "id": "wjtfnhNRwXWr"
      },
      "execution_count": null,
      "outputs": []
    },
    {
      "cell_type": "code",
      "source": [
        "y.value_counts()"
      ],
      "metadata": {
        "colab": {
          "base_uri": "https://localhost:8080/"
        },
        "id": "Hg7DYKJHyGUY",
        "outputId": "5ea5d04c-c904-42c2-b138-01aa48aa94a6"
      },
      "execution_count": null,
      "outputs": [
        {
          "output_type": "execute_result",
          "data": {
            "text/plain": [
              "0    549\n",
              "1    340\n",
              "Name: Survived, dtype: int64"
            ]
          },
          "metadata": {},
          "execution_count": 23
        }
      ]
    },
    {
      "cell_type": "code",
      "source": [
        "from sklearn.model_selection import train_test_split\n",
        "xtrain,xtest,ytrain,ytest = train_test_split(x,y,train_size=0.85,random_state=3)"
      ],
      "metadata": {
        "id": "S04KUlXBxyHS"
      },
      "execution_count": null,
      "outputs": []
    },
    {
      "cell_type": "code",
      "source": [
        "ytrain.value_counts()"
      ],
      "metadata": {
        "colab": {
          "base_uri": "https://localhost:8080/"
        },
        "id": "YhH2GYZFzEzx",
        "outputId": "a64f41f3-a557-4f18-e59d-052b4a345b2e"
      },
      "execution_count": null,
      "outputs": [
        {
          "output_type": "execute_result",
          "data": {
            "text/plain": [
              "0    467\n",
              "1    288\n",
              "Name: Survived, dtype: int64"
            ]
          },
          "metadata": {},
          "execution_count": 25
        }
      ]
    },
    {
      "cell_type": "code",
      "source": [
        "0.85 *549"
      ],
      "metadata": {
        "colab": {
          "base_uri": "https://localhost:8080/"
        },
        "id": "uLpIM5Qwyo4z",
        "outputId": "c5777d95-5e0b-4ec0-9494-968a36915f54"
      },
      "execution_count": null,
      "outputs": [
        {
          "output_type": "execute_result",
          "data": {
            "text/plain": [
              "466.65"
            ]
          },
          "metadata": {},
          "execution_count": 26
        }
      ]
    },
    {
      "cell_type": "code",
      "source": [
        "### Build the model\n",
        "from sklearn.linear_model import LogisticRegression\n",
        "model = LogisticRegression()"
      ],
      "metadata": {
        "id": "neam-78_zA86"
      },
      "execution_count": null,
      "outputs": []
    },
    {
      "cell_type": "code",
      "source": [
        "model.fit(xtrain,ytrain)"
      ],
      "metadata": {
        "colab": {
          "base_uri": "https://localhost:8080/"
        },
        "id": "9blUVR8F4AOh",
        "outputId": "9262fbd1-a002-4153-ea4c-df0b7c71b5a3"
      },
      "execution_count": null,
      "outputs": [
        {
          "output_type": "execute_result",
          "data": {
            "text/plain": [
              "LogisticRegression()"
            ]
          },
          "metadata": {},
          "execution_count": 28
        }
      ]
    },
    {
      "cell_type": "code",
      "source": [
        "ypred = model.predict(xtest)\n",
        "ypred"
      ],
      "metadata": {
        "colab": {
          "base_uri": "https://localhost:8080/"
        },
        "id": "_k-n5Z4W4CFM",
        "outputId": "1733b35f-7bf6-40b2-cd13-225005b46a7c"
      },
      "execution_count": null,
      "outputs": [
        {
          "output_type": "execute_result",
          "data": {
            "text/plain": [
              "array([1, 0, 0, 1, 0, 0, 0, 0, 1, 0, 0, 0, 1, 0, 1, 0, 1, 0, 0, 0, 1, 1,\n",
              "       0, 0, 0, 1, 0, 0, 0, 0, 1, 1, 1, 0, 0, 0, 0, 0, 0, 0, 0, 0, 0, 0,\n",
              "       1, 1, 1, 0, 0, 0, 0, 1, 1, 1, 0, 1, 1, 0, 1, 0, 0, 0, 1, 0, 0, 0,\n",
              "       0, 0, 0, 0, 0, 0, 0, 1, 0, 0, 0, 1, 0, 0, 0, 0, 0, 0, 0, 0, 0, 1,\n",
              "       1, 0, 0, 0, 0, 1, 0, 0, 0, 1, 0, 0, 0, 0, 0, 0, 0, 0, 0, 0, 0, 0,\n",
              "       1, 1, 0, 0, 0, 1, 0, 1, 1, 1, 1, 0, 0, 0, 0, 0, 1, 0, 0, 0, 0, 1,\n",
              "       0, 1])"
            ]
          },
          "metadata": {},
          "execution_count": 29
        }
      ]
    },
    {
      "cell_type": "code",
      "source": [
        "ytest.values"
      ],
      "metadata": {
        "colab": {
          "base_uri": "https://localhost:8080/"
        },
        "id": "6yWIEPfF4jO2",
        "outputId": "3171cfcd-f922-4e8c-a5bf-c9a18c36f556"
      },
      "execution_count": null,
      "outputs": [
        {
          "output_type": "execute_result",
          "data": {
            "text/plain": [
              "array([1, 0, 0, 1, 1, 0, 0, 0, 1, 0, 0, 1, 1, 0, 1, 0, 0, 0, 0, 0, 1, 1,\n",
              "       1, 0, 0, 1, 0, 0, 0, 0, 1, 1, 1, 0, 0, 0, 0, 0, 1, 0, 1, 0, 0, 0,\n",
              "       0, 1, 1, 0, 0, 0, 1, 0, 1, 1, 0, 1, 1, 0, 0, 0, 0, 1, 0, 0, 0, 0,\n",
              "       0, 1, 0, 1, 0, 0, 1, 1, 0, 1, 0, 1, 0, 0, 1, 1, 1, 1, 1, 1, 0, 0,\n",
              "       1, 0, 0, 0, 0, 0, 0, 0, 1, 1, 0, 1, 1, 0, 0, 1, 0, 0, 0, 0, 0, 0,\n",
              "       1, 1, 1, 0, 0, 0, 0, 1, 0, 1, 0, 1, 0, 0, 0, 0, 1, 0, 0, 0, 1, 1,\n",
              "       0, 1])"
            ]
          },
          "metadata": {},
          "execution_count": 30
        }
      ]
    },
    {
      "cell_type": "code",
      "source": [
        "### Confusion Matrix"
      ],
      "metadata": {
        "id": "ugQoobjH4lLY"
      },
      "execution_count": null,
      "outputs": []
    },
    {
      "cell_type": "code",
      "source": [
        "from sklearn.metrics import *\n",
        "cm = confusion_matrix(ytest,ypred)\n",
        "cm"
      ],
      "metadata": {
        "colab": {
          "base_uri": "https://localhost:8080/"
        },
        "id": "sBCtOdDD5fbw",
        "outputId": "ec38199d-4ada-4c19-b3e8-d65ded38cabc"
      },
      "execution_count": null,
      "outputs": [
        {
          "output_type": "execute_result",
          "data": {
            "text/plain": [
              "array([[72, 10],\n",
              "       [24, 28]])"
            ]
          },
          "metadata": {},
          "execution_count": 35
        }
      ]
    },
    {
      "cell_type": "code",
      "source": [
        "28/(24+28)"
      ],
      "metadata": {
        "colab": {
          "base_uri": "https://localhost:8080/"
        },
        "id": "TmdGxOTk5LA4",
        "outputId": "3ad48f22-bbe1-4af9-d138-5a66bc84fb78"
      },
      "execution_count": null,
      "outputs": [
        {
          "output_type": "execute_result",
          "data": {
            "text/plain": [
              "0.5384615384615384"
            ]
          },
          "metadata": {},
          "execution_count": 52
        }
      ]
    },
    {
      "cell_type": "code",
      "source": [
        "ac = accuracy_score(ytest,ypred)\n",
        "ac"
      ],
      "metadata": {
        "colab": {
          "base_uri": "https://localhost:8080/"
        },
        "id": "IXmpqkuO5tj_",
        "outputId": "c6c51b45-efe7-4d6c-be72-ab67c29dc190"
      },
      "execution_count": null,
      "outputs": [
        {
          "output_type": "execute_result",
          "data": {
            "text/plain": [
              "0.746268656716418"
            ]
          },
          "metadata": {},
          "execution_count": 36
        }
      ]
    },
    {
      "cell_type": "code",
      "source": [
        "1 - ac"
      ],
      "metadata": {
        "colab": {
          "base_uri": "https://localhost:8080/"
        },
        "id": "Wsw2a11w8WYI",
        "outputId": "8c22a3f6-5150-42b7-e5cf-588771b7c2a6"
      },
      "execution_count": null,
      "outputs": [
        {
          "output_type": "execute_result",
          "data": {
            "text/plain": [
              "0.25373134328358204"
            ]
          },
          "metadata": {},
          "execution_count": 37
        }
      ]
    },
    {
      "cell_type": "code",
      "source": [
        "precision_score(ytest,ypred)"
      ],
      "metadata": {
        "id": "xIzfxOlg9WWH",
        "colab": {
          "base_uri": "https://localhost:8080/"
        },
        "outputId": "07bc22e9-17f7-46b9-bc85-4364c634a022"
      },
      "execution_count": null,
      "outputs": [
        {
          "output_type": "execute_result",
          "data": {
            "text/plain": [
              "0.7368421052631579"
            ]
          },
          "metadata": {},
          "execution_count": 38
        }
      ]
    },
    {
      "cell_type": "code",
      "source": [
        "recall_score(ytest,ypred)"
      ],
      "metadata": {
        "colab": {
          "base_uri": "https://localhost:8080/"
        },
        "id": "nZuoWVXX3PMy",
        "outputId": "af50505d-8228-42e0-be77-b5e3d05637a3"
      },
      "execution_count": null,
      "outputs": [
        {
          "output_type": "execute_result",
          "data": {
            "text/plain": [
              "0.5384615384615384"
            ]
          },
          "metadata": {},
          "execution_count": 39
        }
      ]
    },
    {
      "cell_type": "code",
      "source": [
        "f1_score(ytest,ypred)"
      ],
      "metadata": {
        "colab": {
          "base_uri": "https://localhost:8080/"
        },
        "id": "vGkT8tPh3Sfl",
        "outputId": "d761365d-e70b-4096-d75e-43b1f26f827a"
      },
      "execution_count": null,
      "outputs": [
        {
          "output_type": "execute_result",
          "data": {
            "text/plain": [
              "0.6222222222222222"
            ]
          },
          "metadata": {},
          "execution_count": 40
        }
      ]
    },
    {
      "cell_type": "code",
      "source": [
        "cm.shape"
      ],
      "metadata": {
        "colab": {
          "base_uri": "https://localhost:8080/"
        },
        "id": "Vpid90Ee374Y",
        "outputId": "0d8d5ca3-975c-4b43-d893-3c8543fa1cb5"
      },
      "execution_count": null,
      "outputs": [
        {
          "output_type": "execute_result",
          "data": {
            "text/plain": [
              "(2, 2)"
            ]
          },
          "metadata": {},
          "execution_count": 42
        }
      ]
    },
    {
      "cell_type": "code",
      "source": [
        "len(cm)"
      ],
      "metadata": {
        "colab": {
          "base_uri": "https://localhost:8080/"
        },
        "id": "i9Jp_peo4EYc",
        "outputId": "72b25a4f-f602-487a-806c-1bb702701c77"
      },
      "execution_count": null,
      "outputs": [
        {
          "output_type": "execute_result",
          "data": {
            "text/plain": [
              "2"
            ]
          },
          "metadata": {},
          "execution_count": 44
        }
      ]
    },
    {
      "cell_type": "code",
      "source": [
        "cm[len(cm)-1,len(cm)-1]"
      ],
      "metadata": {
        "colab": {
          "base_uri": "https://localhost:8080/"
        },
        "id": "jso6v2M34NJe",
        "outputId": "498f68b0-434f-4bd5-e392-0822e959202e"
      },
      "execution_count": null,
      "outputs": [
        {
          "output_type": "execute_result",
          "data": {
            "text/plain": [
              "28"
            ]
          },
          "metadata": {},
          "execution_count": 47
        }
      ]
    },
    {
      "cell_type": "code",
      "source": [
        "cm[len(cm)-1,len(cm)-2]"
      ],
      "metadata": {
        "colab": {
          "base_uri": "https://localhost:8080/"
        },
        "id": "fyGMWZ6W41gn",
        "outputId": "d45164a3-6c90-45e1-cd98-9638e3783148"
      },
      "execution_count": null,
      "outputs": [
        {
          "output_type": "execute_result",
          "data": {
            "text/plain": [
              "24"
            ]
          },
          "metadata": {},
          "execution_count": 48
        }
      ]
    },
    {
      "cell_type": "code",
      "source": [
        "def ps(yt,yp):\n",
        "  cm = confusion_matrix(yt,yp)\n",
        "  tp = cm[len(cm)-1,len(cm)-1]\n",
        "  fp = cm[len(cm)-1,len(cm)-2]\n",
        "  ps = tp / (fp + tp)\n",
        "  return ps"
      ],
      "metadata": {
        "id": "PUdrll8i3UQc"
      },
      "execution_count": null,
      "outputs": []
    },
    {
      "cell_type": "code",
      "source": [
        "ps(ytest,ypred)"
      ],
      "metadata": {
        "colab": {
          "base_uri": "https://localhost:8080/"
        },
        "id": "tiGiuvVC4Mh8",
        "outputId": "1d10e635-69a9-4e2b-c6ff-7bde3690342d"
      },
      "execution_count": null,
      "outputs": [
        {
          "output_type": "execute_result",
          "data": {
            "text/plain": [
              "0.5384615384615384"
            ]
          },
          "metadata": {},
          "execution_count": 50
        }
      ]
    },
    {
      "cell_type": "code",
      "source": [
        "### ROC CURVE"
      ],
      "metadata": {
        "id": "Zyfnn7GW7cJH"
      },
      "execution_count": null,
      "outputs": []
    },
    {
      "cell_type": "code",
      "source": [
        "xtest"
      ],
      "metadata": {
        "id": "HnqbGTJu9_c8",
        "outputId": "04501999-123f-4e7a-85aa-65d76085f9c5",
        "colab": {
          "base_uri": "https://localhost:8080/"
        }
      },
      "execution_count": null,
      "outputs": [
        {
          "output_type": "execute_result",
          "data": {
            "text/plain": [
              "array([[-1.57221121e+00, -1.35991138e+00, -8.99124923e-01,\n",
              "        -4.75199081e-01,  2.00611934e+00,  9.57393893e-01,\n",
              "         5.86839577e-01],\n",
              "       [-1.57221121e+00,  7.35342031e-01,  1.26119036e+00,\n",
              "         4.31350239e-01, -4.74325852e-01,  5.85435584e-01,\n",
              "         5.86839577e-01],\n",
              "       [ 8.25208629e-01,  7.35342031e-01,  3.57825001e-03,\n",
              "        -4.75199081e-01, -4.74325852e-01, -4.71801802e-01,\n",
              "         5.86839577e-01],\n",
              "       [ 8.25208629e-01, -1.35991138e+00,  3.57825001e-03,\n",
              "        -4.75199081e-01, -4.74325852e-01, -4.90424884e-01,\n",
              "        -6.76357478e-01],\n",
              "       [-1.57221121e+00,  7.35342031e-01,  1.03878603e-01,\n",
              "         4.31350239e-01, -4.74325852e-01,  5.01380052e-01,\n",
              "         5.86839577e-01],\n",
              "       [ 8.25208629e-01,  7.35342031e-01,  3.57825001e-03,\n",
              "        -4.75199081e-01, -4.74325852e-01, -4.87237820e-01,\n",
              "         5.86839577e-01],\n",
              "       [-3.73501291e-01,  7.35342031e-01,  1.56980683e+00,\n",
              "        -4.75199081e-01, -4.74325852e-01, -3.84474648e-01,\n",
              "         5.86839577e-01],\n",
              "       [ 8.25208629e-01,  7.35342031e-01,  1.81032720e-01,\n",
              "        -4.75199081e-01, -4.74325852e-01, -4.77841720e-01,\n",
              "         5.86839577e-01],\n",
              "       [-1.57221121e+00, -1.35991138e+00, -9.76279041e-01,\n",
              "         4.31350239e-01, -4.74325852e-01,  5.01380052e-01,\n",
              "         5.86839577e-01],\n",
              "       [-3.73501291e-01,  7.35342031e-01, -8.21970806e-01,\n",
              "         4.31350239e-01,  7.65896744e-01,  9.36855595e-02,\n",
              "         5.86839577e-01],\n",
              "       [ 8.25208629e-01,  7.35342031e-01,  3.57825001e-03,\n",
              "         6.77719548e+00,  2.00611934e+00,  7.54049973e-01,\n",
              "         5.86839577e-01],\n",
              "       [ 8.25208629e-01,  7.35342031e-01, -2.04737867e-01,\n",
              "        -4.75199081e-01, -4.74325852e-01, -4.89251126e-01,\n",
              "         5.86839577e-01],\n",
              "       [-1.57221121e+00, -1.35991138e+00,  6.43957424e-01,\n",
              "        -4.75199081e-01, -4.74325852e-01,  3.93457034e+00,\n",
              "        -1.93955453e+00],\n",
              "       [-3.73501291e-01,  7.35342031e-01,  2.58186837e-01,\n",
              "        -4.75199081e-01, -4.74325852e-01, -3.99071118e-01,\n",
              "         5.86839577e-01],\n",
              "       [-3.73501291e-01, -1.35991138e+00, -1.27583750e-01,\n",
              "         4.31350239e-01, -4.74325852e-01, -1.63010973e-01,\n",
              "        -1.93955453e+00],\n",
              "       [ 8.25208629e-01,  7.35342031e-01,  2.58186837e-01,\n",
              "        -4.75199081e-01, -4.74325852e-01, -4.54940363e-01,\n",
              "         5.86839577e-01],\n",
              "       [ 8.25208629e-01, -1.35991138e+00,  3.57825001e-03,\n",
              "         4.31350239e-01, -4.74325852e-01, -3.55197150e-01,\n",
              "        -1.93955453e+00],\n",
              "       [-3.73501291e-01,  7.35342031e-01, -8.99124923e-01,\n",
              "        -4.75199081e-01, -4.74325852e-01, -4.14674240e-01,\n",
              "         5.86839577e-01],\n",
              "       [ 8.25208629e-01,  7.35342031e-01, -1.27583750e-01,\n",
              "         1.33789956e+00, -4.74325852e-01, -4.86649935e-01,\n",
              "         5.86839577e-01],\n",
              "       [-1.57221121e+00,  7.35342031e-01, -8.21970806e-01,\n",
              "         2.24444888e+00,  2.00611934e+00,  4.64879070e+00,\n",
              "         5.86839577e-01],\n",
              "       [-3.73501291e-01, -1.35991138e+00, -5.04296322e-02,\n",
              "        -4.75199081e-01, -4.74325852e-01, -4.34807302e-01,\n",
              "         5.86839577e-01],\n",
              "       [ 8.25208629e-01, -1.35991138e+00, -1.90212845e+00,\n",
              "         1.33789956e+00,  7.65896744e-01, -2.58475910e-01,\n",
              "        -1.93955453e+00],\n",
              "       [-3.73501291e-01,  7.35342031e-01,  3.57825001e-03,\n",
              "        -4.75199081e-01, -4.74325852e-01, -3.67109883e-01,\n",
              "        -1.93955453e+00],\n",
              "       [ 8.25208629e-01,  7.35342031e-01, -4.36200219e-01,\n",
              "        -4.75199081e-01, -4.74325852e-01, -4.54940363e-01,\n",
              "         5.86839577e-01],\n",
              "       [ 8.25208629e-01,  7.35342031e-01, -6.67662571e-01,\n",
              "        -4.75199081e-01, -4.74325852e-01, -4.89166567e-01,\n",
              "         5.86839577e-01],\n",
              "       [ 8.25208629e-01, -1.35991138e+00,  3.57825001e-03,\n",
              "        -4.75199081e-01, -4.74325852e-01, -4.90173220e-01,\n",
              "        -6.76357478e-01],\n",
              "       [-1.57221121e+00,  7.35342031e-01,  3.57825001e-03,\n",
              "        -4.75199081e-01, -4.74325852e-01, -2.20795434e-02,\n",
              "         5.86839577e-01],\n",
              "       [-1.57221121e+00,  7.35342031e-01,  1.33834448e+00,\n",
              "        -4.75199081e-01, -4.74325852e-01,  1.28918417e-01,\n",
              "         5.86839577e-01],\n",
              "       [-3.73501291e-01,  7.35342031e-01,  3.57825001e-03,\n",
              "        -4.75199081e-01, -4.74325852e-01, -3.43201872e-01,\n",
              "        -1.93955453e+00],\n",
              "       [ 8.25208629e-01,  7.35342031e-01, -2.13359080e+00,\n",
              "         3.15099820e+00,  7.65896744e-01,  1.52826427e-01,\n",
              "         5.86839577e-01],\n",
              "       [-3.73501291e-01, -1.35991138e+00,  3.35340955e-01,\n",
              "         4.31350239e-01,  7.65896744e-01,  8.12004865e-03,\n",
              "         5.86839577e-01],\n",
              "       [-3.73501291e-01, -1.35991138e+00, -1.28489551e+00,\n",
              "        -4.75199081e-01,  7.65896744e-01, -2.53609749e-01,\n",
              "         5.86839577e-01],\n",
              "       [ 8.25208629e-01, -1.35991138e+00,  3.57825001e-03,\n",
              "        -4.75199081e-01, -4.74325852e-01, -4.89418231e-01,\n",
              "        -6.76357478e-01],\n",
              "       [-1.57221121e+00,  7.35342031e-01,  1.18403625e+00,\n",
              "         4.31350239e-01, -4.74325852e-01,  1.03440285e+00,\n",
              "         5.86839577e-01],\n",
              "       [ 8.25208629e-01,  7.35342031e-01,  3.57825001e-03,\n",
              "         1.33789956e+00, -4.74325852e-01, -2.09735782e-01,\n",
              "        -1.93955453e+00],\n",
              "       [ 8.25208629e-01,  7.35342031e-01,  5.66803307e-01,\n",
              "         1.33789956e+00, -4.74325852e-01, -4.86649935e-01,\n",
              "         5.86839577e-01],\n",
              "       [-1.57221121e+00,  7.35342031e-01,  2.41850212e+00,\n",
              "        -4.75199081e-01, -4.74325852e-01,  4.51220405e-03,\n",
              "         5.86839577e-01],\n",
              "       [-1.57221121e+00,  7.35342031e-01,  3.57825001e-03,\n",
              "        -4.75199081e-01, -4.74325852e-01, -6.46204446e-01,\n",
              "         5.86839577e-01],\n",
              "       [ 8.25208629e-01,  7.35342031e-01, -3.59046102e-01,\n",
              "         4.31350239e-01, -4.74325852e-01, -4.89669894e-01,\n",
              "         5.86839577e-01],\n",
              "       [ 8.25208629e-01,  7.35342031e-01,  3.35340955e-01,\n",
              "        -4.75199081e-01, -4.74325852e-01, -5.15424106e-01,\n",
              "         5.86839577e-01],\n",
              "       [ 8.25208629e-01,  7.35342031e-01, -2.25549431e+00,\n",
              "        -4.75199081e-01,  7.65896744e-01, -4.74737202e-01,\n",
              "        -1.93955453e+00],\n",
              "       [ 8.25208629e-01,  7.35342031e-01,  3.57825001e-03,\n",
              "        -4.75199081e-01, -4.74325852e-01, -4.87237820e-01,\n",
              "         5.86839577e-01],\n",
              "       [ 8.25208629e-01,  7.35342031e-01, -9.76279041e-01,\n",
              "        -4.75199081e-01, -4.74325852e-01, -4.71801802e-01,\n",
              "         5.86839577e-01],\n",
              "       [-3.73501291e-01,  7.35342031e-01,  4.89649190e-01,\n",
              "        -4.75199081e-01, -4.74325852e-01, -4.34807302e-01,\n",
              "         5.86839577e-01],\n",
              "       [-1.57221121e+00,  7.35342031e-01,  3.57825001e-03,\n",
              "        -4.75199081e-01, -4.74325852e-01,  3.81888980e+00,\n",
              "         5.86839577e-01],\n",
              "       [ 8.25208629e-01, -1.35991138e+00,  3.57825001e-03,\n",
              "        -4.75199081e-01, -4.74325852e-01, -4.87572029e-01,\n",
              "        -6.76357478e-01],\n",
              "       [ 8.25208629e-01, -1.35991138e+00, -1.97928257e+00,\n",
              "         4.31350239e-01,  7.65896744e-01, -3.09982321e-01,\n",
              "         5.86839577e-01],\n",
              "       [ 8.25208629e-01,  7.35342031e-01,  4.89649190e-01,\n",
              "         4.31350239e-01,  7.65896744e-01, -1.59991014e-01,\n",
              "         5.86839577e-01],\n",
              "       [ 8.25208629e-01,  7.35342031e-01, -3.59046102e-01,\n",
              "        -4.75199081e-01, -4.74325852e-01, -5.00743078e-01,\n",
              "        -1.93955453e+00],\n",
              "       [ 8.25208629e-01,  7.35342031e-01, -5.90508454e-01,\n",
              "        -4.75199081e-01, -4.74325852e-01, -4.84133302e-01,\n",
              "         5.86839577e-01],\n",
              "       [ 8.25208629e-01,  7.35342031e-01,  1.81032720e-01,\n",
              "        -4.75199081e-01, -4.74325852e-01, -4.88075355e-01,\n",
              "         5.86839577e-01],\n",
              "       [-1.57221121e+00,  7.35342031e-01, -6.67662571e-01,\n",
              "        -4.75199081e-01,  7.65896744e-01,  9.09829535e-01,\n",
              "         5.86839577e-01],\n",
              "       [-1.57221121e+00, -1.35991138e+00,  2.58186837e-01,\n",
              "         4.31350239e-01, -4.74325852e-01,  1.16577108e+00,\n",
              "        -6.76357478e-01],\n",
              "       [ 8.25208629e-01, -1.35991138e+00, -1.28489551e+00,\n",
              "        -4.75199081e-01, -4.74325852e-01, -5.00658519e-01,\n",
              "        -1.93955453e+00],\n",
              "       [ 8.25208629e-01,  7.35342031e-01,  1.81032720e-01,\n",
              "        -4.75199081e-01, -4.74325852e-01, -4.86649935e-01,\n",
              "         5.86839577e-01],\n",
              "       [ 8.25208629e-01, -1.35991138e+00,  3.57825001e-03,\n",
              "        -4.75199081e-01, -4.74325852e-01, -4.87572029e-01,\n",
              "        -6.76357478e-01],\n",
              "       [-3.73501291e-01, -1.35991138e+00,  2.67244852e-02,\n",
              "         2.24444888e+00, -4.74325852e-01, -2.23410157e-01,\n",
              "         5.86839577e-01],\n",
              "       [-3.73501291e-01,  7.35342031e-01,  5.66803307e-01,\n",
              "         4.31350239e-01, -4.74325852e-01, -1.22744850e-01,\n",
              "         5.86839577e-01],\n",
              "       [ 8.25208629e-01, -1.35991138e+00, -1.27583750e-01,\n",
              "        -4.75199081e-01, -4.74325852e-01, -4.87237820e-01,\n",
              "         5.86839577e-01],\n",
              "       [-3.73501291e-01,  7.35342031e-01,  9.52573894e-01,\n",
              "         4.31350239e-01, -4.74325852e-01, -1.02611789e-01,\n",
              "         5.86839577e-01],\n",
              "       [ 8.25208629e-01,  7.35342031e-01, -6.67662571e-01,\n",
              "        -4.75199081e-01, -4.74325852e-01, -5.00239751e-01,\n",
              "         5.86839577e-01],\n",
              "       [ 8.25208629e-01,  7.35342031e-01, -4.36200219e-01,\n",
              "        -4.75199081e-01, -4.74325852e-01, -5.02420162e-01,\n",
              "         5.86839577e-01],\n",
              "       [-1.57221121e+00,  7.35342031e-01,  7.98265659e-01,\n",
              "        -4.75199081e-01, -4.74325852e-01, -8.80998783e-02,\n",
              "        -1.93955453e+00],\n",
              "       [ 8.25208629e-01,  7.35342031e-01, -7.44816689e-01,\n",
              "        -4.75199081e-01, -4.74325852e-01, -4.71801802e-01,\n",
              "         5.86839577e-01],\n",
              "       [ 8.25208629e-01,  7.35342031e-01, -1.05343316e+00,\n",
              "         4.31350239e-01,  3.24634193e+00,  4.58695387e-02,\n",
              "         5.86839577e-01],\n",
              "       [-3.73501291e-01,  7.35342031e-01,  2.19609779e-01,\n",
              "         4.31350239e-01, -4.74325852e-01, -4.07871840e-02,\n",
              "        -1.93955453e+00],\n",
              "       [ 8.25208629e-01,  7.35342031e-01, -8.21970806e-01,\n",
              "        -4.75199081e-01, -4.74325852e-01, -6.46204446e-01,\n",
              "         5.86839577e-01],\n",
              "       [ 8.25208629e-01,  7.35342031e-01,  1.81032720e-01,\n",
              "        -4.75199081e-01, -4.74325852e-01,  4.91228963e-01,\n",
              "         5.86839577e-01],\n",
              "       [ 8.25208629e-01,  7.35342031e-01,  2.67244852e-02,\n",
              "        -4.75199081e-01, -4.74325852e-01, -5.00658519e-01,\n",
              "        -1.93955453e+00],\n",
              "       [ 8.25208629e-01,  7.35342031e-01, -3.59046102e-01,\n",
              "        -4.75199081e-01, -4.74325852e-01, -6.46204446e-01,\n",
              "         5.86839577e-01],\n",
              "       [ 8.25208629e-01,  7.35342031e-01, -8.21970806e-01,\n",
              "        -4.75199081e-01, -4.74325852e-01, -4.87237820e-01,\n",
              "         5.86839577e-01],\n",
              "       [ 8.25208629e-01,  7.35342031e-01,  6.53015439e-02,\n",
              "        -4.75199081e-01, -4.74325852e-01, -4.84133302e-01,\n",
              "         5.86839577e-01],\n",
              "       [-1.57221121e+00,  7.35342031e-01, -2.04737867e-01,\n",
              "         4.31350239e-01, -4.74325852e-01,  4.22861113e-01,\n",
              "         5.86839577e-01],\n",
              "       [-3.73501291e-01, -1.35991138e+00, -4.36200219e-01,\n",
              "         4.31350239e-01,  2.00611934e+00,  6.62444543e-01,\n",
              "         5.86839577e-01],\n",
              "       [ 8.25208629e-01, -1.35991138e+00,  3.57825001e-03,\n",
              "         4.31350239e-01,  2.00611934e+00, -1.74084157e-01,\n",
              "         5.86839577e-01],\n",
              "       [-1.57221121e+00,  7.35342031e-01,  1.41549860e+00,\n",
              "         4.31350239e-01, -4.74325852e-01,  4.00714745e-01,\n",
              "         5.86839577e-01],\n",
              "       [ 8.25208629e-01,  7.35342031e-01,  3.57825001e-03,\n",
              "        -4.75199081e-01, -4.74325852e-01, -5.00658519e-01,\n",
              "        -1.93955453e+00],\n",
              "       [-3.73501291e-01, -1.35991138e+00,  1.81032720e-01,\n",
              "        -4.75199081e-01, -4.74325852e-01, -3.84474648e-01,\n",
              "         5.86839577e-01],\n",
              "       [ 8.25208629e-01,  7.35342031e-01, -2.04737867e-01,\n",
              "         4.31350239e-01, -4.74325852e-01, -3.55197150e-01,\n",
              "        -1.93955453e+00],\n",
              "       [ 8.25208629e-01,  7.35342031e-01,  3.57825001e-03,\n",
              "         2.24444888e+00,  7.65896744e-01, -1.33481812e-01,\n",
              "         5.86839577e-01],\n",
              "       [ 8.25208629e-01,  7.35342031e-01,  7.21111542e-01,\n",
              "        -4.75199081e-01, -4.74325852e-01, -4.86649935e-01,\n",
              "         5.86839577e-01],\n",
              "       [-1.57221121e+00,  7.35342031e-01,  1.72411507e+00,\n",
              "        -4.75199081e-01, -4.74325852e-01, -3.21460741e-02,\n",
              "         5.86839577e-01],\n",
              "       [ 8.25208629e-01,  7.35342031e-01, -2.21074492e+00,\n",
              "         4.31350239e-01,  2.00611934e+00, -2.31966708e-01,\n",
              "         5.86839577e-01],\n",
              "       [-1.57221121e+00,  7.35342031e-01,  2.34134801e+00,\n",
              "         4.31350239e-01,  7.65896744e-01,  9.48334015e-01,\n",
              "        -1.93955453e+00],\n",
              "       [-3.73501291e-01,  7.35342031e-01, -2.05643668e+00,\n",
              "         4.31350239e-01,  7.65896744e-01, -1.22744850e-01,\n",
              "         5.86839577e-01],\n",
              "       [ 8.25208629e-01,  7.35342031e-01, -1.36204963e+00,\n",
              "         4.31350239e-01, -4.74325852e-01, -4.19874610e-01,\n",
              "        -1.93955453e+00],\n",
              "       [ 8.25208629e-01,  7.35342031e-01,  3.57825001e-03,\n",
              "        -4.75199081e-01, -4.74325852e-01, -4.84133302e-01,\n",
              "         5.86839577e-01],\n",
              "       [-1.57221121e+00,  7.35342031e-01,  3.57825001e-03,\n",
              "        -4.75199081e-01, -4.74325852e-01,  3.93457034e+00,\n",
              "        -1.93955453e+00],\n",
              "       [ 8.25208629e-01, -1.35991138e+00, -2.81891984e-01,\n",
              "        -4.75199081e-01, -4.74325852e-01, -4.88075355e-01,\n",
              "         5.86839577e-01],\n",
              "       [ 8.25208629e-01,  7.35342031e-01, -1.27583750e-01,\n",
              "        -4.75199081e-01, -4.74325852e-01, -4.54940363e-01,\n",
              "         5.86839577e-01],\n",
              "       [-3.73501291e-01,  7.35342031e-01,  4.12495072e-01,\n",
              "        -4.75199081e-01, -4.74325852e-01, -4.34807302e-01,\n",
              "         5.86839577e-01],\n",
              "       [-3.73501291e-01,  7.35342031e-01,  2.67244852e-02,\n",
              "        -4.75199081e-01, -4.74325852e-01, -3.84474648e-01,\n",
              "         5.86839577e-01],\n",
              "       [ 8.25208629e-01,  7.35342031e-01, -3.59046102e-01,\n",
              "        -4.75199081e-01, -4.74325852e-01, -4.87237820e-01,\n",
              "         5.86839577e-01],\n",
              "       [ 8.25208629e-01, -1.35991138e+00, -8.99124923e-01,\n",
              "        -4.75199081e-01, -4.74325852e-01, -5.10306282e-01,\n",
              "        -6.76357478e-01],\n",
              "       [-1.57221121e+00,  7.35342031e-01,  3.57825001e-03,\n",
              "        -4.75199081e-01, -4.74325852e-01,  5.84527021e-02,\n",
              "         5.86839577e-01],\n",
              "       [-3.73501291e-01,  7.35342031e-01, -2.04737867e-01,\n",
              "        -4.75199081e-01, -4.74325852e-01, -1.22744850e-01,\n",
              "         5.86839577e-01],\n",
              "       [ 8.25208629e-01,  7.35342031e-01, -2.04737867e-01,\n",
              "        -4.75199081e-01, -4.74325852e-01, -5.05776343e-01,\n",
              "         5.86839577e-01],\n",
              "       [ 8.25208629e-01, -1.35991138e+00, -1.05343316e+00,\n",
              "        -4.75199081e-01, -4.74325852e-01, -4.90509443e-01,\n",
              "        -6.76357478e-01],\n",
              "       [ 8.25208629e-01,  7.35342031e-01, -6.67662571e-01,\n",
              "        -4.75199081e-01, -4.74325852e-01, -3.22062158e-01,\n",
              "         5.86839577e-01],\n",
              "       [ 8.25208629e-01, -1.35991138e+00,  4.89649190e-01,\n",
              "         4.31350239e-01, -4.74325852e-01, -2.95889178e-01,\n",
              "         5.86839577e-01],\n",
              "       [ 8.25208629e-01,  7.35342031e-01, -5.04296322e-02,\n",
              "        -4.75199081e-01, -4.74325852e-01, -4.54940363e-01,\n",
              "         5.86839577e-01],\n",
              "       [ 8.25208629e-01,  7.35342031e-01,  3.57825001e-03,\n",
              "        -4.75199081e-01, -4.74325852e-01, -5.00658519e-01,\n",
              "        -1.93955453e+00],\n",
              "       [ 8.25208629e-01,  7.35342031e-01, -7.44816689e-01,\n",
              "        -4.75199081e-01, -4.74325852e-01, -5.65420537e-01,\n",
              "        -1.93955453e+00],\n",
              "       [-1.57221121e+00,  7.35342031e-01,  3.88443035e+00,\n",
              "        -4.75199081e-01, -4.74325852e-01, -4.22126048e-02,\n",
              "         5.86839577e-01],\n",
              "       [ 8.25208629e-01,  7.35342031e-01, -5.90508454e-01,\n",
              "        -4.75199081e-01, -4.74325852e-01, -5.00239751e-01,\n",
              "         5.86839577e-01],\n",
              "       [ 8.25208629e-01,  7.35342031e-01, -3.59046102e-01,\n",
              "        -4.75199081e-01, -4.74325852e-01, -5.04266363e-01,\n",
              "         5.86839577e-01],\n",
              "       [ 8.25208629e-01,  7.35342031e-01,  7.98265659e-01,\n",
              "         4.31350239e-01,  4.48656453e+00, -8.44920337e-02,\n",
              "         5.86839577e-01],\n",
              "       [ 8.25208629e-01,  7.35342031e-01,  4.12495072e-01,\n",
              "        -4.75199081e-01, -4.74325852e-01, -4.84133302e-01,\n",
              "         5.86839577e-01],\n",
              "       [-3.73501291e-01,  7.35342031e-01, -5.13354336e-01,\n",
              "        -4.75199081e-01, -4.74325852e-01, -4.34807302e-01,\n",
              "         5.86839577e-01],\n",
              "       [ 8.25208629e-01,  7.35342031e-01,  1.81032720e-01,\n",
              "        -4.75199081e-01, -4.74325852e-01, -4.87237820e-01,\n",
              "         5.86839577e-01],\n",
              "       [ 8.25208629e-01, -1.35991138e+00,  3.57825001e-03,\n",
              "         4.31350239e-01, -4.74325852e-01, -1.59991014e-01,\n",
              "        -6.76357478e-01],\n",
              "       [-1.57221121e+00,  7.35342031e-01,  4.89649190e-01,\n",
              "        -4.75199081e-01,  7.65896744e-01,  9.66855078e+00,\n",
              "        -1.93955453e+00],\n",
              "       [ 8.25208629e-01, -1.35991138e+00, -1.90212845e+00,\n",
              "         3.15099820e+00,  2.00611934e+00, -1.42779821e-02,\n",
              "         5.86839577e-01],\n",
              "       [ 8.25208629e-01,  7.35342031e-01,  4.12495072e-01,\n",
              "        -4.75199081e-01, -4.74325852e-01, -5.02756384e-01,\n",
              "         5.86839577e-01],\n",
              "       [-3.73501291e-01,  7.35342031e-01,  3.11288918e+00,\n",
              "        -4.75199081e-01, -4.74325852e-01, -4.34807302e-01,\n",
              "         5.86839577e-01],\n",
              "       [-1.57221121e+00,  7.35342031e-01,  3.57825001e-03,\n",
              "        -4.75199081e-01, -4.74325852e-01, -8.80998783e-02,\n",
              "        -1.93955453e+00],\n",
              "       [-3.73501291e-01,  7.35342031e-01, -5.13354336e-01,\n",
              "        -4.75199081e-01, -4.74325852e-01, -3.84474648e-01,\n",
              "         5.86839577e-01],\n",
              "       [-3.73501291e-01, -1.35991138e+00, -1.90212845e+00,\n",
              "         4.31350239e-01,  2.00611934e+00, -8.75119929e-02,\n",
              "         5.86839577e-01],\n",
              "       [-3.73501291e-01, -1.35991138e+00,  6.43957424e-01,\n",
              "        -4.75199081e-01, -4.74325852e-01, -3.84474648e-01,\n",
              "         5.86839577e-01],\n",
              "       [ 8.25208629e-01, -1.35991138e+00,  3.57825001e-03,\n",
              "        -4.75199081e-01,  2.00611934e+00, -1.96063420e-01,\n",
              "        -1.93955453e+00],\n",
              "       [-3.73501291e-01, -1.35991138e+00, -2.04737867e-01,\n",
              "         4.31350239e-01, -4.74325852e-01, -2.23410157e-01,\n",
              "         5.86839577e-01],\n",
              "       [ 8.25208629e-01,  7.35342031e-01, -1.59351198e+00,\n",
              "        -4.75199081e-01,  2.00611934e+00, -2.32973361e-01,\n",
              "         5.86839577e-01],\n",
              "       [ 8.25208629e-01,  7.35342031e-01, -2.81891984e-01,\n",
              "         4.31350239e-01,  2.00611934e+00, -2.31966708e-01,\n",
              "         5.86839577e-01],\n",
              "       [-1.57221121e+00,  7.35342031e-01,  6.43957424e-01,\n",
              "        -4.75199081e-01, -4.74325852e-01, -6.46204446e-01,\n",
              "         5.86839577e-01],\n",
              "       [ 8.25208629e-01,  7.35342031e-01, -3.97623160e-01,\n",
              "        -4.75199081e-01, -4.74325852e-01, -4.84133302e-01,\n",
              "         5.86839577e-01],\n",
              "       [-3.73501291e-01,  7.35342031e-01,  3.57825001e-03,\n",
              "        -4.75199081e-01, -4.74325852e-01, -6.46204446e-01,\n",
              "         5.86839577e-01],\n",
              "       [-1.57221121e+00, -1.35991138e+00, -8.21970806e-01,\n",
              "         4.31350239e-01, -4.74325852e-01,  1.18749868e+00,\n",
              "        -1.93955453e+00],\n",
              "       [ 8.25208629e-01,  7.35342031e-01,  2.67244852e-02,\n",
              "        -4.75199081e-01, -4.74325852e-01, -5.00743078e-01,\n",
              "        -1.93955453e+00],\n",
              "       [ 8.25208629e-01,  7.35342031e-01,  3.57825001e-03,\n",
              "        -4.75199081e-01, -4.74325852e-01, -4.84133302e-01,\n",
              "         5.86839577e-01],\n",
              "       [ 8.25208629e-01,  7.35342031e-01,  3.73918013e-01,\n",
              "        -4.75199081e-01, -4.74325852e-01, -5.16597863e-01,\n",
              "        -1.93955453e+00],\n",
              "       [ 8.25208629e-01,  7.35342031e-01,  1.81032720e-01,\n",
              "        -4.75199081e-01, -4.74325852e-01, -4.86649935e-01,\n",
              "         5.86839577e-01],\n",
              "       [-1.57221121e+00,  7.35342031e-01, -2.04737867e-01,\n",
              "        -4.75199081e-01, -4.74325852e-01, -3.21460741e-02,\n",
              "         5.86839577e-01],\n",
              "       [ 8.25208629e-01,  7.35342031e-01,  3.57825001e-03,\n",
              "         4.31350239e-01, -4.74325852e-01, -2.44213649e-01,\n",
              "         5.86839577e-01],\n",
              "       [-1.57221121e+00, -1.35991138e+00,  2.18703977e+00,\n",
              "        -4.75199081e-01, -4.74325852e-01,  2.30370781e+00,\n",
              "        -1.93955453e+00]])"
            ]
          },
          "metadata": {},
          "execution_count": 70
        }
      ]
    },
    {
      "cell_type": "code",
      "source": [
        "ypred"
      ],
      "metadata": {
        "colab": {
          "base_uri": "https://localhost:8080/"
        },
        "id": "wGttm7Ee5CaL",
        "outputId": "7312b362-a400-48c5-cb54-13641ab6d483"
      },
      "execution_count": null,
      "outputs": [
        {
          "output_type": "execute_result",
          "data": {
            "text/plain": [
              "array([1, 0, 0, 1, 0, 0, 0, 0, 1, 0, 0, 0, 1, 0, 1, 0, 1, 0, 0, 0, 1, 1,\n",
              "       0, 0, 0, 1, 0, 0, 0, 0, 1, 1, 1, 0, 0, 0, 0, 0, 0, 0, 0, 0, 0, 0,\n",
              "       1, 1, 1, 0, 0, 0, 0, 1, 1, 1, 0, 1, 1, 0, 1, 0, 0, 0, 1, 0, 0, 0,\n",
              "       0, 0, 0, 0, 0, 0, 0, 1, 0, 0, 0, 1, 0, 0, 0, 0, 0, 0, 0, 0, 0, 1,\n",
              "       1, 0, 0, 0, 0, 1, 0, 0, 0, 1, 0, 0, 0, 0, 0, 0, 0, 0, 0, 0, 0, 0,\n",
              "       1, 1, 0, 0, 0, 1, 0, 1, 1, 1, 1, 0, 0, 0, 0, 0, 1, 0, 0, 0, 0, 1,\n",
              "       0, 1])"
            ]
          },
          "metadata": {},
          "execution_count": 53
        }
      ]
    },
    {
      "cell_type": "code",
      "source": [
        "ypred_new = model.predict_proba(xtest)[:,1]\n",
        "ypred_new"
      ],
      "metadata": {
        "colab": {
          "base_uri": "https://localhost:8080/"
        },
        "id": "DNyChOI37anD",
        "outputId": "39ef1007-1bf0-4874-9222-0cd31b22e2dd"
      },
      "execution_count": null,
      "outputs": [
        {
          "output_type": "execute_result",
          "data": {
            "text/plain": [
              "array([0.95730426, 0.27426655, 0.07704325, 0.63310284, 0.41039718,\n",
              "       0.07693244, 0.10884925, 0.07051684, 0.95347916, 0.22317469,\n",
              "       0.00465011, 0.08521487, 0.96428311, 0.19746597, 0.85084421,\n",
              "       0.06800494, 0.60867516, 0.31334342, 0.04304089, 0.40286096,\n",
              "       0.82691083, 0.73074769, 0.30776312, 0.09567798, 0.10661391,\n",
              "       0.63310874, 0.4955013 , 0.32806645, 0.30827788, 0.05841566,\n",
              "       0.71695777, 0.89220546, 0.63312646, 0.2918438 , 0.06346656,\n",
              "       0.03008564, 0.2129094 , 0.47975054, 0.06694911, 0.06506196,\n",
              "       0.27851343, 0.07693244, 0.12358425, 0.17804229, 0.59146034,\n",
              "       0.63316978, 0.71624094, 0.03974947, 0.13705593, 0.10279205,\n",
              "       0.07044911, 0.57592087, 0.93418779, 0.81153605, 0.07045854,\n",
              "       0.63316978, 0.62559074, 0.13204858, 0.59627825, 0.11033256,\n",
              "       0.10650742, 0.0952638 , 0.50056603, 0.11078306, 0.06935426,\n",
              "       0.22499954, 0.11313594, 0.07720911, 0.11441981, 0.09056123,\n",
              "       0.1147572 , 0.07464128, 0.44889851, 0.78229552, 0.43767106,\n",
              "       0.25458453, 0.11568076, 0.80924695, 0.09523196, 0.02636725,\n",
              "       0.05372524, 0.28097509, 0.13282479, 0.23299064, 0.35238073,\n",
              "       0.16264927, 0.07695472, 0.69716582, 0.61596668, 0.08231276,\n",
              "       0.18416432, 0.21808118, 0.09189251, 0.73624798, 0.49753497,\n",
              "       0.2447901 , 0.08508484, 0.75233861, 0.10823243, 0.43425938,\n",
              "       0.07924761, 0.11568076, 0.16245448, 0.10942972, 0.10264209,\n",
              "       0.09174907, 0.02343349, 0.06278111, 0.27032292, 0.07045465,\n",
              "       0.55857787, 0.73569692, 0.43895778, 0.06267051, 0.05053175,\n",
              "       0.60527228, 0.27132699, 0.87950161, 0.76806632, 0.63247401,\n",
              "       0.78989176, 0.13434908, 0.05174514, 0.39563324, 0.09365621,\n",
              "       0.21569416, 0.96950156, 0.11441894, 0.07695472, 0.09676007,\n",
              "       0.07045854, 0.52309674, 0.05712115, 0.90931924])"
            ]
          },
          "metadata": {},
          "execution_count": 69
        }
      ]
    },
    {
      "cell_type": "code",
      "source": [
        "a = np.where(ypred_new >=0.2,1,0)\n",
        "a"
      ],
      "metadata": {
        "colab": {
          "base_uri": "https://localhost:8080/"
        },
        "id": "UeYZa1l_7ksK",
        "outputId": "a000f77a-7781-4899-8954-051c9934bb13"
      },
      "execution_count": null,
      "outputs": [
        {
          "output_type": "execute_result",
          "data": {
            "text/plain": [
              "array([1, 1, 0, 1, 1, 0, 0, 0, 1, 1, 0, 0, 1, 0, 1, 0, 1, 1, 0, 1, 1, 1,\n",
              "       1, 0, 0, 1, 1, 1, 1, 0, 1, 1, 1, 1, 0, 0, 1, 1, 0, 0, 1, 0, 0, 0,\n",
              "       1, 1, 1, 0, 0, 0, 0, 1, 1, 1, 0, 1, 1, 0, 1, 0, 0, 0, 1, 0, 0, 1,\n",
              "       0, 0, 0, 0, 0, 0, 1, 1, 1, 1, 0, 1, 0, 0, 0, 1, 0, 1, 1, 0, 0, 1,\n",
              "       1, 0, 0, 1, 0, 1, 1, 1, 0, 1, 0, 1, 0, 0, 0, 0, 0, 0, 0, 0, 1, 0,\n",
              "       1, 1, 1, 0, 0, 1, 1, 1, 1, 1, 1, 0, 0, 1, 0, 1, 1, 0, 0, 0, 0, 1,\n",
              "       0, 1])"
            ]
          },
          "metadata": {},
          "execution_count": 59
        }
      ]
    },
    {
      "cell_type": "code",
      "source": [
        "from sklearn.metrics import roc_curve\n",
        "fpr,tpr,thresholds = roc_curve(ytest,ypred_new)\n",
        "df = pd.DataFrame()\n",
        "df['FPR'] = fpr\n",
        "df['TPR'] = tpr\n",
        "df['Thresholds'] = thresholds\n",
        "df"
      ],
      "metadata": {
        "colab": {
          "base_uri": "https://localhost:8080/",
          "height": 1000
        },
        "id": "7dZJicCq8bL1",
        "outputId": "8b1fe4d1-db56-4319-86b5-32661587157a"
      },
      "execution_count": null,
      "outputs": [
        {
          "output_type": "execute_result",
          "data": {
            "text/plain": [
              "         FPR       TPR  Thresholds\n",
              "0   0.000000  0.000000    1.969502\n",
              "1   0.000000  0.019231    0.969502\n",
              "2   0.000000  0.230769    0.809247\n",
              "3   0.012195  0.230769    0.789892\n",
              "4   0.012195  0.250000    0.782296\n",
              "5   0.024390  0.250000    0.768066\n",
              "6   0.024390  0.269231    0.752339\n",
              "7   0.036585  0.269231    0.736248\n",
              "8   0.036585  0.346154    0.716241\n",
              "9   0.048780  0.346154    0.697166\n",
              "10  0.048780  0.384615    0.633170\n",
              "11  0.048780  0.500000    0.615967\n",
              "12  0.109756  0.500000    0.575921\n",
              "13  0.109756  0.538462    0.523097\n",
              "14  0.158537  0.538462    0.479751\n",
              "15  0.158537  0.576923    0.438958\n",
              "16  0.170732  0.576923    0.437671\n",
              "17  0.170732  0.615385    0.410397\n",
              "18  0.195122  0.615385    0.395633\n",
              "19  0.195122  0.634615    0.352381\n",
              "20  0.231707  0.634615    0.308278\n",
              "21  0.231707  0.653846    0.307763\n",
              "22  0.243902  0.653846    0.291844\n",
              "23  0.243902  0.692308    0.278513\n",
              "24  0.280488  0.692308    0.270323\n",
              "25  0.280488  0.711538    0.254585\n",
              "26  0.292683  0.711538    0.244790\n",
              "27  0.292683  0.730769    0.232991\n",
              "28  0.390244  0.730769    0.178042\n",
              "29  0.390244  0.750000    0.162649\n",
              "30  0.414634  0.750000    0.137056\n",
              "31  0.414634  0.788462    0.132825\n",
              "32  0.439024  0.788462    0.123584\n",
              "33  0.463415  0.788462    0.115681\n",
              "34  0.536585  0.788462    0.110333\n",
              "35  0.536585  0.807692    0.109430\n",
              "36  0.634146  0.807692    0.095678\n",
              "37  0.634146  0.826923    0.095264\n",
              "38  0.682927  0.826923    0.091749\n",
              "39  0.682927  0.884615    0.085085\n",
              "40  0.695122  0.884615    0.082313\n",
              "41  0.695122  0.923077    0.077209\n",
              "42  0.707317  0.923077    0.077043\n",
              "43  0.756098  0.923077    0.076932\n",
              "44  0.780488  0.923077    0.070517\n",
              "45  0.792683  0.942308    0.070459\n",
              "46  0.804878  0.942308    0.070455\n",
              "47  0.804878  0.961538    0.070449\n",
              "48  0.829268  0.961538    0.068005\n",
              "49  0.829268  0.980769    0.066949\n",
              "50  0.902439  0.980769    0.057121\n",
              "51  0.902439  1.000000    0.053725\n",
              "52  1.000000  1.000000    0.004650"
            ],
            "text/html": [
              "\n",
              "  <div id=\"df-20c2d804-8ade-436d-ae14-61b105bd21c7\">\n",
              "    <div class=\"colab-df-container\">\n",
              "      <div>\n",
              "<style scoped>\n",
              "    .dataframe tbody tr th:only-of-type {\n",
              "        vertical-align: middle;\n",
              "    }\n",
              "\n",
              "    .dataframe tbody tr th {\n",
              "        vertical-align: top;\n",
              "    }\n",
              "\n",
              "    .dataframe thead th {\n",
              "        text-align: right;\n",
              "    }\n",
              "</style>\n",
              "<table border=\"1\" class=\"dataframe\">\n",
              "  <thead>\n",
              "    <tr style=\"text-align: right;\">\n",
              "      <th></th>\n",
              "      <th>FPR</th>\n",
              "      <th>TPR</th>\n",
              "      <th>Thresholds</th>\n",
              "    </tr>\n",
              "  </thead>\n",
              "  <tbody>\n",
              "    <tr>\n",
              "      <th>0</th>\n",
              "      <td>0.000000</td>\n",
              "      <td>0.000000</td>\n",
              "      <td>1.969502</td>\n",
              "    </tr>\n",
              "    <tr>\n",
              "      <th>1</th>\n",
              "      <td>0.000000</td>\n",
              "      <td>0.019231</td>\n",
              "      <td>0.969502</td>\n",
              "    </tr>\n",
              "    <tr>\n",
              "      <th>2</th>\n",
              "      <td>0.000000</td>\n",
              "      <td>0.230769</td>\n",
              "      <td>0.809247</td>\n",
              "    </tr>\n",
              "    <tr>\n",
              "      <th>3</th>\n",
              "      <td>0.012195</td>\n",
              "      <td>0.230769</td>\n",
              "      <td>0.789892</td>\n",
              "    </tr>\n",
              "    <tr>\n",
              "      <th>4</th>\n",
              "      <td>0.012195</td>\n",
              "      <td>0.250000</td>\n",
              "      <td>0.782296</td>\n",
              "    </tr>\n",
              "    <tr>\n",
              "      <th>5</th>\n",
              "      <td>0.024390</td>\n",
              "      <td>0.250000</td>\n",
              "      <td>0.768066</td>\n",
              "    </tr>\n",
              "    <tr>\n",
              "      <th>6</th>\n",
              "      <td>0.024390</td>\n",
              "      <td>0.269231</td>\n",
              "      <td>0.752339</td>\n",
              "    </tr>\n",
              "    <tr>\n",
              "      <th>7</th>\n",
              "      <td>0.036585</td>\n",
              "      <td>0.269231</td>\n",
              "      <td>0.736248</td>\n",
              "    </tr>\n",
              "    <tr>\n",
              "      <th>8</th>\n",
              "      <td>0.036585</td>\n",
              "      <td>0.346154</td>\n",
              "      <td>0.716241</td>\n",
              "    </tr>\n",
              "    <tr>\n",
              "      <th>9</th>\n",
              "      <td>0.048780</td>\n",
              "      <td>0.346154</td>\n",
              "      <td>0.697166</td>\n",
              "    </tr>\n",
              "    <tr>\n",
              "      <th>10</th>\n",
              "      <td>0.048780</td>\n",
              "      <td>0.384615</td>\n",
              "      <td>0.633170</td>\n",
              "    </tr>\n",
              "    <tr>\n",
              "      <th>11</th>\n",
              "      <td>0.048780</td>\n",
              "      <td>0.500000</td>\n",
              "      <td>0.615967</td>\n",
              "    </tr>\n",
              "    <tr>\n",
              "      <th>12</th>\n",
              "      <td>0.109756</td>\n",
              "      <td>0.500000</td>\n",
              "      <td>0.575921</td>\n",
              "    </tr>\n",
              "    <tr>\n",
              "      <th>13</th>\n",
              "      <td>0.109756</td>\n",
              "      <td>0.538462</td>\n",
              "      <td>0.523097</td>\n",
              "    </tr>\n",
              "    <tr>\n",
              "      <th>14</th>\n",
              "      <td>0.158537</td>\n",
              "      <td>0.538462</td>\n",
              "      <td>0.479751</td>\n",
              "    </tr>\n",
              "    <tr>\n",
              "      <th>15</th>\n",
              "      <td>0.158537</td>\n",
              "      <td>0.576923</td>\n",
              "      <td>0.438958</td>\n",
              "    </tr>\n",
              "    <tr>\n",
              "      <th>16</th>\n",
              "      <td>0.170732</td>\n",
              "      <td>0.576923</td>\n",
              "      <td>0.437671</td>\n",
              "    </tr>\n",
              "    <tr>\n",
              "      <th>17</th>\n",
              "      <td>0.170732</td>\n",
              "      <td>0.615385</td>\n",
              "      <td>0.410397</td>\n",
              "    </tr>\n",
              "    <tr>\n",
              "      <th>18</th>\n",
              "      <td>0.195122</td>\n",
              "      <td>0.615385</td>\n",
              "      <td>0.395633</td>\n",
              "    </tr>\n",
              "    <tr>\n",
              "      <th>19</th>\n",
              "      <td>0.195122</td>\n",
              "      <td>0.634615</td>\n",
              "      <td>0.352381</td>\n",
              "    </tr>\n",
              "    <tr>\n",
              "      <th>20</th>\n",
              "      <td>0.231707</td>\n",
              "      <td>0.634615</td>\n",
              "      <td>0.308278</td>\n",
              "    </tr>\n",
              "    <tr>\n",
              "      <th>21</th>\n",
              "      <td>0.231707</td>\n",
              "      <td>0.653846</td>\n",
              "      <td>0.307763</td>\n",
              "    </tr>\n",
              "    <tr>\n",
              "      <th>22</th>\n",
              "      <td>0.243902</td>\n",
              "      <td>0.653846</td>\n",
              "      <td>0.291844</td>\n",
              "    </tr>\n",
              "    <tr>\n",
              "      <th>23</th>\n",
              "      <td>0.243902</td>\n",
              "      <td>0.692308</td>\n",
              "      <td>0.278513</td>\n",
              "    </tr>\n",
              "    <tr>\n",
              "      <th>24</th>\n",
              "      <td>0.280488</td>\n",
              "      <td>0.692308</td>\n",
              "      <td>0.270323</td>\n",
              "    </tr>\n",
              "    <tr>\n",
              "      <th>25</th>\n",
              "      <td>0.280488</td>\n",
              "      <td>0.711538</td>\n",
              "      <td>0.254585</td>\n",
              "    </tr>\n",
              "    <tr>\n",
              "      <th>26</th>\n",
              "      <td>0.292683</td>\n",
              "      <td>0.711538</td>\n",
              "      <td>0.244790</td>\n",
              "    </tr>\n",
              "    <tr>\n",
              "      <th>27</th>\n",
              "      <td>0.292683</td>\n",
              "      <td>0.730769</td>\n",
              "      <td>0.232991</td>\n",
              "    </tr>\n",
              "    <tr>\n",
              "      <th>28</th>\n",
              "      <td>0.390244</td>\n",
              "      <td>0.730769</td>\n",
              "      <td>0.178042</td>\n",
              "    </tr>\n",
              "    <tr>\n",
              "      <th>29</th>\n",
              "      <td>0.390244</td>\n",
              "      <td>0.750000</td>\n",
              "      <td>0.162649</td>\n",
              "    </tr>\n",
              "    <tr>\n",
              "      <th>30</th>\n",
              "      <td>0.414634</td>\n",
              "      <td>0.750000</td>\n",
              "      <td>0.137056</td>\n",
              "    </tr>\n",
              "    <tr>\n",
              "      <th>31</th>\n",
              "      <td>0.414634</td>\n",
              "      <td>0.788462</td>\n",
              "      <td>0.132825</td>\n",
              "    </tr>\n",
              "    <tr>\n",
              "      <th>32</th>\n",
              "      <td>0.439024</td>\n",
              "      <td>0.788462</td>\n",
              "      <td>0.123584</td>\n",
              "    </tr>\n",
              "    <tr>\n",
              "      <th>33</th>\n",
              "      <td>0.463415</td>\n",
              "      <td>0.788462</td>\n",
              "      <td>0.115681</td>\n",
              "    </tr>\n",
              "    <tr>\n",
              "      <th>34</th>\n",
              "      <td>0.536585</td>\n",
              "      <td>0.788462</td>\n",
              "      <td>0.110333</td>\n",
              "    </tr>\n",
              "    <tr>\n",
              "      <th>35</th>\n",
              "      <td>0.536585</td>\n",
              "      <td>0.807692</td>\n",
              "      <td>0.109430</td>\n",
              "    </tr>\n",
              "    <tr>\n",
              "      <th>36</th>\n",
              "      <td>0.634146</td>\n",
              "      <td>0.807692</td>\n",
              "      <td>0.095678</td>\n",
              "    </tr>\n",
              "    <tr>\n",
              "      <th>37</th>\n",
              "      <td>0.634146</td>\n",
              "      <td>0.826923</td>\n",
              "      <td>0.095264</td>\n",
              "    </tr>\n",
              "    <tr>\n",
              "      <th>38</th>\n",
              "      <td>0.682927</td>\n",
              "      <td>0.826923</td>\n",
              "      <td>0.091749</td>\n",
              "    </tr>\n",
              "    <tr>\n",
              "      <th>39</th>\n",
              "      <td>0.682927</td>\n",
              "      <td>0.884615</td>\n",
              "      <td>0.085085</td>\n",
              "    </tr>\n",
              "    <tr>\n",
              "      <th>40</th>\n",
              "      <td>0.695122</td>\n",
              "      <td>0.884615</td>\n",
              "      <td>0.082313</td>\n",
              "    </tr>\n",
              "    <tr>\n",
              "      <th>41</th>\n",
              "      <td>0.695122</td>\n",
              "      <td>0.923077</td>\n",
              "      <td>0.077209</td>\n",
              "    </tr>\n",
              "    <tr>\n",
              "      <th>42</th>\n",
              "      <td>0.707317</td>\n",
              "      <td>0.923077</td>\n",
              "      <td>0.077043</td>\n",
              "    </tr>\n",
              "    <tr>\n",
              "      <th>43</th>\n",
              "      <td>0.756098</td>\n",
              "      <td>0.923077</td>\n",
              "      <td>0.076932</td>\n",
              "    </tr>\n",
              "    <tr>\n",
              "      <th>44</th>\n",
              "      <td>0.780488</td>\n",
              "      <td>0.923077</td>\n",
              "      <td>0.070517</td>\n",
              "    </tr>\n",
              "    <tr>\n",
              "      <th>45</th>\n",
              "      <td>0.792683</td>\n",
              "      <td>0.942308</td>\n",
              "      <td>0.070459</td>\n",
              "    </tr>\n",
              "    <tr>\n",
              "      <th>46</th>\n",
              "      <td>0.804878</td>\n",
              "      <td>0.942308</td>\n",
              "      <td>0.070455</td>\n",
              "    </tr>\n",
              "    <tr>\n",
              "      <th>47</th>\n",
              "      <td>0.804878</td>\n",
              "      <td>0.961538</td>\n",
              "      <td>0.070449</td>\n",
              "    </tr>\n",
              "    <tr>\n",
              "      <th>48</th>\n",
              "      <td>0.829268</td>\n",
              "      <td>0.961538</td>\n",
              "      <td>0.068005</td>\n",
              "    </tr>\n",
              "    <tr>\n",
              "      <th>49</th>\n",
              "      <td>0.829268</td>\n",
              "      <td>0.980769</td>\n",
              "      <td>0.066949</td>\n",
              "    </tr>\n",
              "    <tr>\n",
              "      <th>50</th>\n",
              "      <td>0.902439</td>\n",
              "      <td>0.980769</td>\n",
              "      <td>0.057121</td>\n",
              "    </tr>\n",
              "    <tr>\n",
              "      <th>51</th>\n",
              "      <td>0.902439</td>\n",
              "      <td>1.000000</td>\n",
              "      <td>0.053725</td>\n",
              "    </tr>\n",
              "    <tr>\n",
              "      <th>52</th>\n",
              "      <td>1.000000</td>\n",
              "      <td>1.000000</td>\n",
              "      <td>0.004650</td>\n",
              "    </tr>\n",
              "  </tbody>\n",
              "</table>\n",
              "</div>\n",
              "      <button class=\"colab-df-convert\" onclick=\"convertToInteractive('df-20c2d804-8ade-436d-ae14-61b105bd21c7')\"\n",
              "              title=\"Convert this dataframe to an interactive table.\"\n",
              "              style=\"display:none;\">\n",
              "        \n",
              "  <svg xmlns=\"http://www.w3.org/2000/svg\" height=\"24px\"viewBox=\"0 0 24 24\"\n",
              "       width=\"24px\">\n",
              "    <path d=\"M0 0h24v24H0V0z\" fill=\"none\"/>\n",
              "    <path d=\"M18.56 5.44l.94 2.06.94-2.06 2.06-.94-2.06-.94-.94-2.06-.94 2.06-2.06.94zm-11 1L8.5 8.5l.94-2.06 2.06-.94-2.06-.94L8.5 2.5l-.94 2.06-2.06.94zm10 10l.94 2.06.94-2.06 2.06-.94-2.06-.94-.94-2.06-.94 2.06-2.06.94z\"/><path d=\"M17.41 7.96l-1.37-1.37c-.4-.4-.92-.59-1.43-.59-.52 0-1.04.2-1.43.59L10.3 9.45l-7.72 7.72c-.78.78-.78 2.05 0 2.83L4 21.41c.39.39.9.59 1.41.59.51 0 1.02-.2 1.41-.59l7.78-7.78 2.81-2.81c.8-.78.8-2.07 0-2.86zM5.41 20L4 18.59l7.72-7.72 1.47 1.35L5.41 20z\"/>\n",
              "  </svg>\n",
              "      </button>\n",
              "      \n",
              "  <style>\n",
              "    .colab-df-container {\n",
              "      display:flex;\n",
              "      flex-wrap:wrap;\n",
              "      gap: 12px;\n",
              "    }\n",
              "\n",
              "    .colab-df-convert {\n",
              "      background-color: #E8F0FE;\n",
              "      border: none;\n",
              "      border-radius: 50%;\n",
              "      cursor: pointer;\n",
              "      display: none;\n",
              "      fill: #1967D2;\n",
              "      height: 32px;\n",
              "      padding: 0 0 0 0;\n",
              "      width: 32px;\n",
              "    }\n",
              "\n",
              "    .colab-df-convert:hover {\n",
              "      background-color: #E2EBFA;\n",
              "      box-shadow: 0px 1px 2px rgba(60, 64, 67, 0.3), 0px 1px 3px 1px rgba(60, 64, 67, 0.15);\n",
              "      fill: #174EA6;\n",
              "    }\n",
              "\n",
              "    [theme=dark] .colab-df-convert {\n",
              "      background-color: #3B4455;\n",
              "      fill: #D2E3FC;\n",
              "    }\n",
              "\n",
              "    [theme=dark] .colab-df-convert:hover {\n",
              "      background-color: #434B5C;\n",
              "      box-shadow: 0px 1px 3px 1px rgba(0, 0, 0, 0.15);\n",
              "      filter: drop-shadow(0px 1px 2px rgba(0, 0, 0, 0.3));\n",
              "      fill: #FFFFFF;\n",
              "    }\n",
              "  </style>\n",
              "\n",
              "      <script>\n",
              "        const buttonEl =\n",
              "          document.querySelector('#df-20c2d804-8ade-436d-ae14-61b105bd21c7 button.colab-df-convert');\n",
              "        buttonEl.style.display =\n",
              "          google.colab.kernel.accessAllowed ? 'block' : 'none';\n",
              "\n",
              "        async function convertToInteractive(key) {\n",
              "          const element = document.querySelector('#df-20c2d804-8ade-436d-ae14-61b105bd21c7');\n",
              "          const dataTable =\n",
              "            await google.colab.kernel.invokeFunction('convertToInteractive',\n",
              "                                                     [key], {});\n",
              "          if (!dataTable) return;\n",
              "\n",
              "          const docLinkHtml = 'Like what you see? Visit the ' +\n",
              "            '<a target=\"_blank\" href=https://colab.research.google.com/notebooks/data_table.ipynb>data table notebook</a>'\n",
              "            + ' to learn more about interactive tables.';\n",
              "          element.innerHTML = '';\n",
              "          dataTable['output_type'] = 'display_data';\n",
              "          await google.colab.output.renderOutput(dataTable, element);\n",
              "          const docLink = document.createElement('div');\n",
              "          docLink.innerHTML = docLinkHtml;\n",
              "          element.appendChild(docLink);\n",
              "        }\n",
              "      </script>\n",
              "    </div>\n",
              "  </div>\n",
              "  "
            ]
          },
          "metadata": {},
          "execution_count": 60
        }
      ]
    },
    {
      "cell_type": "code",
      "source": [
        "sns.lineplot(x=fpr,y=tpr,color='blue');\n",
        "sns.lineplot(x=[0,1],y=[0,1]);"
      ],
      "metadata": {
        "colab": {
          "base_uri": "https://localhost:8080/",
          "height": 265
        },
        "id": "4-F7Muhi8MlF",
        "outputId": "5bef60b7-97dc-4d51-9182-2e384fc50670"
      },
      "execution_count": null,
      "outputs": [
        {
          "output_type": "display_data",
          "data": {
            "text/plain": [
              "<Figure size 432x288 with 1 Axes>"
            ],
            "image/png": "[encoded data removed]"
          },
          "metadata": {
            "needs_background": "light"
          }
        }
      ]
    },
    {
      "cell_type": "code",
      "source": [],
      "metadata": {
        "id": "OBY8TOkS9CuE"
      },
      "execution_count": null,
      "outputs": []
    }
  ]
}