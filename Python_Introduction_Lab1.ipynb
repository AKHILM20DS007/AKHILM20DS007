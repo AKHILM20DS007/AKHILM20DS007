{
  "nbformat": 4,
  "nbformat_minor": 0,
  "metadata": {
    "colab": {
      "name": "Python Introduction Lab1.ipynb",
      "provenance": [],
      "include_colab_link": true
    },
    "kernelspec": {
      "name": "python3",
      "display_name": "Python 3"
    }
  },
  "cells": [
    {
      "cell_type": "markdown",
      "metadata": {
        "id": "view-in-github",
        "colab_type": "text"
      },
      "source": [
        "<a href=\"https://colab.research.google.com/github/AKHILM20DS007/AKHILM20DS007/blob/main/Python_Introduction_Lab1.ipynb\" target=\"_parent\"><img src=\"https://colab.research.google.com/assets/colab-badge.svg\" alt=\"Open In Colab\"/></a>"
      ]
    },
    {
      "cell_type": "code",
      "metadata": {
        "id": "k_qE8895Xhyj"
      },
      "source": [
        "#           Python Introduction Lab1"
      ],
      "execution_count": null,
      "outputs": []
    },
    {
      "cell_type": "code",
      "metadata": {
        "colab": {
          "base_uri": "https://localhost:8080/"
        },
        "id": "JCNLBmsaX8t_",
        "outputId": "0b686395-1e0e-4534-b2b2-9dd31daa6849"
      },
      "source": [
        "a=8\n",
        "type(a)"
      ],
      "execution_count": null,
      "outputs": [
        {
          "output_type": "execute_result",
          "data": {
            "text/plain": [
              "int"
            ]
          },
          "metadata": {
            "tags": []
          },
          "execution_count": 1
        }
      ]
    },
    {
      "cell_type": "code",
      "metadata": {
        "colab": {
          "base_uri": "https://localhost:8080/"
        },
        "id": "yfu4wR9IG4lO",
        "outputId": "c5f279d9-4c8c-41a5-f130-6a7010cf7068"
      },
      "source": [
        "a=7\n",
        "type(a) # to identify data type of a variable"
      ],
      "execution_count": null,
      "outputs": [
        {
          "output_type": "execute_result",
          "data": {
            "text/plain": [
              "int"
            ]
          },
          "metadata": {
            "tags": []
          },
          "execution_count": 1
        }
      ]
    },
    {
      "cell_type": "code",
      "metadata": {
        "colab": {
          "base_uri": "https://localhost:8080/"
        },
        "id": "FFWapWz6YI6P",
        "outputId": "cdbd0678-5799-4ed6-89b3-d6b73b181616"
      },
      "source": [
        "a=\"xyz\"\n",
        "type(a)"
      ],
      "execution_count": null,
      "outputs": [
        {
          "output_type": "execute_result",
          "data": {
            "text/plain": [
              "str"
            ]
          },
          "metadata": {
            "tags": []
          },
          "execution_count": 2
        }
      ]
    },
    {
      "cell_type": "markdown",
      "metadata": {
        "id": "86kY2KVMXTmk"
      },
      "source": [
        "Data types in Python\n",
        "1.Numeric -- int, float, complex\n",
        "2.None\n",
        "3.sequences-list,tuple,range, str, bytes, bytearray\n",
        "4.Sets\n",
        "5.Dictionaries"
      ]
    },
    {
      "cell_type": "code",
      "metadata": {
        "colab": {
          "base_uri": "https://localhost:8080/"
        },
        "id": "5gs5e2XVYqNd",
        "outputId": "aa523df6-032d-466d-8b68-f8d55a02d74a"
      },
      "source": [
        "s='Welcome'\n",
        "type(s)"
      ],
      "execution_count": null,
      "outputs": [
        {
          "output_type": "execute_result",
          "data": {
            "text/plain": [
              "str"
            ]
          },
          "metadata": {
            "tags": []
          },
          "execution_count": 3
        }
      ]
    },
    {
      "cell_type": "code",
      "metadata": {
        "colab": {
          "base_uri": "https://localhost:8080/"
        },
        "id": "HzVddo2WY7_J",
        "outputId": "d3c75372-be09-43cc-ee24-82a35190fd4f"
      },
      "source": [
        "id(s)    #to identify address location of a variable\n"
      ],
      "execution_count": null,
      "outputs": [
        {
          "output_type": "execute_result",
          "data": {
            "text/plain": [
              "139916878115760"
            ]
          },
          "metadata": {
            "tags": []
          },
          "execution_count": 6
        }
      ]
    },
    {
      "cell_type": "code",
      "metadata": {
        "colab": {
          "base_uri": "https://localhost:8080/"
        },
        "id": "zWUZYCNNZC79",
        "outputId": "d1580d3e-76af-4c6e-ad36-f94f643f6068"
      },
      "source": [
        "id(a)"
      ],
      "execution_count": null,
      "outputs": [
        {
          "output_type": "execute_result",
          "data": {
            "text/plain": [
              "139916906054744"
            ]
          },
          "metadata": {
            "tags": []
          },
          "execution_count": 7
        }
      ]
    },
    {
      "cell_type": "code",
      "metadata": {
        "colab": {
          "base_uri": "https://localhost:8080/"
        },
        "id": "mGKR40LOZGYz",
        "outputId": "574838f6-ed44-4d38-8373-5487e3c06e35"
      },
      "source": [
        "x=4.5\n",
        "y=x\n",
        "id(x)"
      ],
      "execution_count": null,
      "outputs": [
        {
          "output_type": "execute_result",
          "data": {
            "text/plain": [
              "140137256293424"
            ]
          },
          "metadata": {
            "tags": []
          },
          "execution_count": 7
        }
      ]
    },
    {
      "cell_type": "code",
      "metadata": {
        "colab": {
          "base_uri": "https://localhost:8080/"
        },
        "id": "5zkhWUmgZQ9X",
        "outputId": "5c71cdbd-15bb-41a2-941b-ca19dc83e82a"
      },
      "source": [
        "id(y)\n"
      ],
      "execution_count": null,
      "outputs": [
        {
          "output_type": "execute_result",
          "data": {
            "text/plain": [
              "140137256293424"
            ]
          },
          "metadata": {
            "tags": []
          },
          "execution_count": 8
        }
      ]
    },
    {
      "cell_type": "code",
      "metadata": {
        "colab": {
          "base_uri": "https://localhost:8080/"
        },
        "id": "dWMPepooZTfU",
        "outputId": "19b042c6-ea0f-45b4-fffa-3f4aa52a5799"
      },
      "source": [
        "y=10\n",
        "id(y)"
      ],
      "execution_count": null,
      "outputs": [
        {
          "output_type": "execute_result",
          "data": {
            "text/plain": [
              "94523619732256"
            ]
          },
          "metadata": {
            "tags": []
          },
          "execution_count": 9
        }
      ]
    },
    {
      "cell_type": "code",
      "metadata": {
        "id": "-lCOL63gZfRp"
      },
      "source": [
        ""
      ],
      "execution_count": null,
      "outputs": []
    },
    {
      "cell_type": "markdown",
      "metadata": {
        "id": "5T4LU27gZqMD"
      },
      "source": [
        "sharing of same value and memory -feature"
      ]
    },
    {
      "cell_type": "code",
      "metadata": {
        "id": "RH6SiS87ipi-"
      },
      "source": [
        ""
      ],
      "execution_count": null,
      "outputs": []
    },
    {
      "cell_type": "code",
      "metadata": {
        "colab": {
          "base_uri": "https://localhost:8080/"
        },
        "id": "kBNoEpK2ZxJS",
        "outputId": "89effaa5-0d49-432f-a0f8-ec0ca166be4e"
      },
      "source": [
        "str='Welcome'\n",
        "len(str)"
      ],
      "execution_count": null,
      "outputs": [
        {
          "output_type": "execute_result",
          "data": {
            "text/plain": [
              "7"
            ]
          },
          "metadata": {
            "tags": []
          },
          "execution_count": 6
        }
      ]
    },
    {
      "cell_type": "code",
      "metadata": {
        "colab": {
          "base_uri": "https://localhost:8080/"
        },
        "id": "N_KZNcyRaC0n",
        "outputId": "788eeef1-acfb-4e0d-9590-f97dfc7897f1"
      },
      "source": [
        "print(str[0])"
      ],
      "execution_count": null,
      "outputs": [
        {
          "output_type": "stream",
          "text": [
            "W\n"
          ],
          "name": "stdout"
        }
      ]
    },
    {
      "cell_type": "code",
      "metadata": {
        "colab": {
          "base_uri": "https://localhost:8080/"
        },
        "id": "YwbyOzb1bhBA",
        "outputId": "c3244136-94e1-41ee-cc48-94ba0ace5cad"
      },
      "source": [
        "print(str[-7])"
      ],
      "execution_count": null,
      "outputs": [
        {
          "output_type": "stream",
          "text": [
            "W\n"
          ],
          "name": "stdout"
        }
      ]
    },
    {
      "cell_type": "markdown",
      "metadata": {
        "id": "4QkKOHExaup4"
      },
      "source": [
        "w(-7)    e(-6)    l(-5)   c(-4)     o(-3)    m(-2)     e(-1)<----\n",
        "--->w(0)     e(1)     l(2)   c(3)    o(4)     m(5)       e(6)"
      ]
    },
    {
      "cell_type": "code",
      "metadata": {
        "id": "OfBorfUgeWyE"
      },
      "source": [
        ""
      ],
      "execution_count": null,
      "outputs": []
    },
    {
      "cell_type": "markdown",
      "metadata": {
        "id": "6WaECGBCaMk9"
      },
      "source": [
        "forward (index is from 0 to len(str)-1)\n",
        "reverse ---   (index is from -1 to len(str))"
      ]
    },
    {
      "cell_type": "code",
      "metadata": {
        "colab": {
          "base_uri": "https://localhost:8080/"
        },
        "id": "05qIbDo-eN9a",
        "outputId": "bd19ef61-28b5-4172-99af-524cb32c7279"
      },
      "source": [
        "print(str[1 : ])"
      ],
      "execution_count": null,
      "outputs": [
        {
          "output_type": "stream",
          "text": [
            "elcome\n"
          ],
          "name": "stdout"
        }
      ]
    },
    {
      "cell_type": "code",
      "metadata": {
        "colab": {
          "base_uri": "https://localhost:8080/"
        },
        "id": "ucpxqkz_ekgU",
        "outputId": "bb57ce26-2236-48c7-ee87-a12b8708fc55"
      },
      "source": [
        "print(str[:-3])"
      ],
      "execution_count": null,
      "outputs": [
        {
          "output_type": "stream",
          "text": [
            "Welc\n"
          ],
          "name": "stdout"
        }
      ]
    },
    {
      "cell_type": "code",
      "metadata": {
        "colab": {
          "base_uri": "https://localhost:8080/"
        },
        "id": "Iqtv2YFJasNr",
        "outputId": "3f76af60-ff09-4beb-d8e1-3b643156f3e4"
      },
      "source": [
        "print(str[-3])\n",
        "\n"
      ],
      "execution_count": null,
      "outputs": [
        {
          "output_type": "stream",
          "text": [
            "o\n"
          ],
          "name": "stdout"
        }
      ]
    },
    {
      "cell_type": "code",
      "metadata": {
        "id": "_AXhPBGleilM"
      },
      "source": [
        ""
      ],
      "execution_count": null,
      "outputs": []
    },
    {
      "cell_type": "code",
      "metadata": {
        "colab": {
          "base_uri": "https://localhost:8080/"
        },
        "id": "uVxdDqpAavUq",
        "outputId": "8703d0a3-8a66-47d4-aa78-e02781673f34"
      },
      "source": [
        "print(str[0:3])   #slicing technique"
      ],
      "execution_count": null,
      "outputs": [
        {
          "output_type": "stream",
          "text": [
            "Wel\n"
          ],
          "name": "stdout"
        }
      ]
    },
    {
      "cell_type": "code",
      "metadata": {
        "colab": {
          "base_uri": "https://localhost:8080/"
        },
        "id": "U0JoaKXQbLC1",
        "outputId": "10c76122-9b1c-407e-eafc-9ad78011ea4d"
      },
      "source": [
        "print(str[0:])"
      ],
      "execution_count": null,
      "outputs": [
        {
          "output_type": "stream",
          "text": [
            "Welcome\n"
          ],
          "name": "stdout"
        }
      ]
    },
    {
      "cell_type": "code",
      "metadata": {
        "colab": {
          "base_uri": "https://localhost:8080/"
        },
        "id": "9xfuzVIxbjfI",
        "outputId": "40c0f8c1-109f-4d2b-cfcc-f2e9a162358b"
      },
      "source": [
        "print(str[:4])"
      ],
      "execution_count": null,
      "outputs": [
        {
          "output_type": "stream",
          "text": [
            "Welc\n"
          ],
          "name": "stdout"
        }
      ]
    },
    {
      "cell_type": "code",
      "metadata": {
        "id": "cop_KML5bwtN",
        "colab": {
          "base_uri": "https://localhost:8080/"
        },
        "outputId": "0bf29f9c-cfcf-4687-90e4-a7689d72ab10"
      },
      "source": [
        "print(str[:-3])"
      ],
      "execution_count": null,
      "outputs": [
        {
          "output_type": "stream",
          "text": [
            "Welco\n"
          ],
          "name": "stdout"
        }
      ]
    },
    {
      "cell_type": "code",
      "metadata": {
        "id": "Fi3v4vSLHUC9"
      },
      "source": [
        ""
      ],
      "execution_count": null,
      "outputs": []
    },
    {
      "cell_type": "code",
      "metadata": {
        "id": "Su40H1ZRJGMf"
      },
      "source": [
        ""
      ],
      "execution_count": null,
      "outputs": []
    }
  ]
}