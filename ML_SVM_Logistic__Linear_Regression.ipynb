{
  "nbformat": 4,
  "nbformat_minor": 0,
  "metadata": {
    "colab": {
      "name": "ML_SVM_Logistic _Linear Regression.ipynb",
      "provenance": [],
      "include_colab_link": true
    },
    "kernelspec": {
      "display_name": "Python 3",
      "name": "python3"
    },
    "language_info": {
      "name": "python"
    }
  },
  "cells": [
    {
      "cell_type": "markdown",
      "metadata": {
        "id": "view-in-github",
        "colab_type": "text"
      },
      "source": [
        "<a href=\"https://colab.research.google.com/github/AKHILM20DS007/AKHILM20DS007/blob/main/ML_SVM_Logistic__Linear_Regression.ipynb\" target=\"_parent\"><img src=\"https://colab.research.google.com/assets/colab-badge.svg\" alt=\"Open In Colab\"/></a>"
      ]
    },
    {
      "cell_type": "code",
      "metadata": {
        "colab": {
          "background_save": true,
          "base_uri": "https://localhost:8080/"
        },
        "id": "8tELQ2v6XRPo",
        "outputId": "e7b954b4-420b-4f5b-cf24-60dd3bc1806c"
      },
      "source": [
        "       # Program on Support Vector Machine#\n",
        "\n",
        "# Importing the Library\n",
        "import numpy as np\n",
        "import matplotlib.pyplot as plt\n",
        "import pandas as pd\n",
        "\n",
        "# Importing the Database\n",
        "dataset=pd.read_csv('LoR_Social_Network_Ads.csv')\n",
        "\n",
        "# Identify the Independent and Depenedent Variables\n",
        "X= dataset.iloc[:,:-1].values # row, col - Age and Salary - Independent Variables\n",
        "Y= dataset.iloc[:,-1].values # row, col -  Purchased - Dependent Variable\n",
        "\n",
        "# Splitting the dataset into Train and Test Datasets\n",
        "from sklearn.model_selection import train_test_split\n",
        "X_train,X_test,Y_train,Y_test=train_test_split(X,Y,test_size=0.2,random_state=0)\n",
        "\n",
        "#print(X_train)\n",
        "#print(X_test)\n",
        "#print(Y_train)\n",
        "#print(Y_test)\n",
        "\n",
        "# Feature Scaling, Encoding data, Missing Data\n",
        "# Feature Scaling\n",
        "from sklearn.preprocessing import StandardScaler\n",
        "sc=StandardScaler()\n",
        "X_train = sc.fit_transform(X_train)\n",
        "X_test = sc.fit_transform(X_test)\n",
        "\n",
        "print (X_train)\n",
        "#print (X_test)\n",
        "\n",
        "# Training the model for SVM\n",
        "from sklearn.svm import SVC\n",
        "classifier=SVC(kernel='linear',random_state=0)\n",
        "classifier.fit(X_train,Y_train) # Training dataset only\n",
        "\n",
        "#Test the model\n",
        "print(classifier.predict(sc.transform([[30,87000]])))\n",
        "\n",
        "# Accuracy of the Model, (Y_pred, Y_test)\n",
        "Y_pred=classifier.predict(X_test) # passing X Test Dataset\n",
        "\n",
        "from sklearn.metrics import accuracy_score\n",
        "accuracy_score(Y_test,Y_pred)"
      ],
      "execution_count": null,
      "outputs": [
        {
          "output_type": "stream",
          "text": [
            "[0]\n"
          ],
          "name": "stdout"
        },
        {
          "output_type": "execute_result",
          "data": {
            "text/plain": [
              "0.8875"
            ]
          },
          "metadata": {
            "tags": []
          },
          "execution_count": 0
        }
      ]
    },
    {
      "cell_type": "markdown",
      "metadata": {
        "id": "G04ZsXdzI40B"
      },
      "source": [
        ""
      ]
    },
    {
      "cell_type": "code",
      "metadata": {
        "id": "FNJ7UgFTaDUF"
      },
      "source": [
        ""
      ],
      "execution_count": null,
      "outputs": []
    },
    {
      "cell_type": "markdown",
      "metadata": {
        "id": "9xIa85lYaEBn"
      },
      "source": [
        ""
      ]
    },
    {
      "cell_type": "code",
      "metadata": {
        "colab": {
          "base_uri": "https://localhost:8080/"
        },
        "id": "zn9uK1fWaEnx",
        "outputId": "19e1dc36-871d-4c46-9052-34ef50a904c7"
      },
      "source": [
        "# Logistic Regression\n",
        "\n",
        "import numpy as np\n",
        "import matplotlib.pyplot as plt\n",
        "import pandas as pd\n",
        "\n",
        "dataset=pd.read_csv('LoR_Social_Network_Ads.csv')\n",
        "#print (dataset)\n",
        "\n",
        "X=dataset.iloc[:,:-1].values\n",
        "Y=dataset.iloc[:,-1].values\n",
        "\n",
        "#print(X,Y)\n",
        "\n",
        "# Splitting the dataset into Test and Train\n",
        "from sklearn.model_selection import train_test_split\n",
        "\n",
        "X_train,X_test,Y_train,Y_test=train_test_split(X,Y,test_size=0.2,random_state=0)\n",
        "\n",
        "#print (X_train)\n",
        "#print (X_test)\n",
        "#print (Y_train)\n",
        "#print (Y_test)\n",
        "\n",
        "# Feature Scaling\n",
        "from sklearn.preprocessing import StandardScaler\n",
        "sc=StandardScaler()\n",
        "\n",
        "X_train=sc.fit_transform(X_train)\n",
        "X_test=sc.fit_transform(X_test)\n",
        "\n",
        "#print (X_train)\n",
        "#print (X_test)\n",
        "\n",
        "# Training the model (Logistic Regression)\n",
        "from sklearn.linear_model import LogisticRegression\n",
        "classifier=LogisticRegression(random_state=0)\n",
        "classifier.fit(X_train, Y_train)\n",
        "\n",
        "# Predicting a result\n",
        "print(classifier.predict(sc.transform([[30,87000]])))\n",
        "\n",
        "# Find the accuracy (Accuracy b/n Y_test and predictive values of y)\n",
        "Y_pred=classifier.predict(X_test) # Y_test, Y_pred\n",
        "\n",
        "from sklearn.metrics import accuracy_score\n",
        "accuracy_score(Y_test,Y_pred) \n",
        "\n"
      ],
      "execution_count": null,
      "outputs": [
        {
          "output_type": "stream",
          "text": [
            "[0]\n"
          ],
          "name": "stdout"
        },
        {
          "output_type": "execute_result",
          "data": {
            "text/plain": [
              "0.8875"
            ]
          },
          "metadata": {
            "tags": []
          },
          "execution_count": 3
        }
      ]
    },
    {
      "cell_type": "markdown",
      "metadata": {
        "id": "Jhavfs2JXUjO"
      },
      "source": [
        ""
      ]
    },
    {
      "cell_type": "markdown",
      "metadata": {
        "id": "8Mhi3ogOXSQ6"
      },
      "source": [
        ""
      ]
    }
  ]
}