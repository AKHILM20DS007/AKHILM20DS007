{
  "cells": [
    {
      "cell_type": "markdown",
      "metadata": {
        "id": "view-in-github",
        "colab_type": "text"
      },
      "source": [
        "<a href=\"https://colab.research.google.com/github/AKHILM20DS007/AKHILM20DS007/blob/main/Linear_Regression_Salary_Prediction.ipynb\" target=\"_parent\"><img src=\"https://colab.research.google.com/assets/colab-badge.svg\" alt=\"Open In Colab\"/></a>"
      ]
    },
    {
      "cell_type": "code",
      "execution_count": null,
      "metadata": {
        "id": "X41s5iAJ0jNk"
      },
      "outputs": [],
      "source": [
        "import pandas as pd\n",
        "import numpy as np\n",
        "import matplotlib.pyplot as plt"
      ]
    },
    {
      "cell_type": "code",
      "execution_count": null,
      "metadata": {
        "colab": {
          "base_uri": "https://localhost:8080/"
        },
        "id": "RGTu0wGOvGkS",
        "outputId": "d1764d97-96c1-4def-ad19-0858683a53c9"
      },
      "outputs": [
        {
          "name": "stdout",
          "output_type": "stream",
          "text": [
            "Mounted at /content/drive\n"
          ]
        }
      ],
      "source": [
        "from google.colab import drive\n",
        "drive.mount('/content/drive')"
      ]
    },
    {
      "cell_type": "code",
      "execution_count": null,
      "metadata": {
        "colab": {
          "base_uri": "https://localhost:8080/",
          "height": 206
        },
        "id": "tyUWz5zz1AvQ",
        "outputId": "38e635de-e10f-4e06-c24c-c73401f53efa"
      },
      "outputs": [
        {
          "data": {
            "text/html": [
              "<div>\n",
              "<style scoped>\n",
              "    .dataframe tbody tr th:only-of-type {\n",
              "        vertical-align: middle;\n",
              "    }\n",
              "\n",
              "    .dataframe tbody tr th {\n",
              "        vertical-align: top;\n",
              "    }\n",
              "\n",
              "    .dataframe thead th {\n",
              "        text-align: right;\n",
              "    }\n",
              "</style>\n",
              "<table border=\"1\" class=\"dataframe\">\n",
              "  <thead>\n",
              "    <tr style=\"text-align: right;\">\n",
              "      <th></th>\n",
              "      <th>YearsExperience</th>\n",
              "      <th>Salary</th>\n",
              "    </tr>\n",
              "  </thead>\n",
              "  <tbody>\n",
              "    <tr>\n",
              "      <th>0</th>\n",
              "      <td>1.1</td>\n",
              "      <td>39343.0</td>\n",
              "    </tr>\n",
              "    <tr>\n",
              "      <th>1</th>\n",
              "      <td>1.3</td>\n",
              "      <td>46205.0</td>\n",
              "    </tr>\n",
              "    <tr>\n",
              "      <th>2</th>\n",
              "      <td>1.5</td>\n",
              "      <td>37731.0</td>\n",
              "    </tr>\n",
              "    <tr>\n",
              "      <th>3</th>\n",
              "      <td>2.0</td>\n",
              "      <td>43525.0</td>\n",
              "    </tr>\n",
              "    <tr>\n",
              "      <th>4</th>\n",
              "      <td>2.2</td>\n",
              "      <td>39891.0</td>\n",
              "    </tr>\n",
              "  </tbody>\n",
              "</table>\n",
              "</div>"
            ],
            "text/plain": [
              "   YearsExperience   Salary\n",
              "0              1.1  39343.0\n",
              "1              1.3  46205.0\n",
              "2              1.5  37731.0\n",
              "3              2.0  43525.0\n",
              "4              2.2  39891.0"
            ]
          },
          "execution_count": 4,
          "metadata": {},
          "output_type": "execute_result"
        }
      ],
      "source": [
        "data = pd.read_csv(\"/Salary_Data (1).csv\")\n",
        "data.head()"
      ]
    },
    {
      "cell_type": "code",
      "execution_count": null,
      "metadata": {
        "id": "HRtdCM0g1I_Z"
      },
      "outputs": [],
      "source": [
        "x = np.array(data[['YearsExperience']])  ## feature"
      ]
    },
    {
      "cell_type": "code",
      "execution_count": null,
      "metadata": {
        "colab": {
          "base_uri": "https://localhost:8080/"
        },
        "id": "WWDMRPSA4FQP",
        "outputId": "d46dad63-0097-4102-8004-ddb2cf50bdd5"
      },
      "outputs": [
        {
          "data": {
            "text/plain": [
              "(30, 1)"
            ]
          },
          "execution_count": 6,
          "metadata": {},
          "output_type": "execute_result"
        }
      ],
      "source": [
        "x.shape"
      ]
    },
    {
      "cell_type": "code",
      "execution_count": null,
      "metadata": {
        "id": "2qpgtZjU4dda"
      },
      "outputs": [],
      "source": [
        "y = np.array(data['Salary'])   ## target"
      ]
    },
    {
      "cell_type": "code",
      "execution_count": null,
      "metadata": {
        "colab": {
          "base_uri": "https://localhost:8080/"
        },
        "id": "c2KmerwJ4p6z",
        "outputId": "1a19b015-4ef6-4577-ea5c-1d6af46d8561"
      },
      "outputs": [
        {
          "data": {
            "text/plain": [
              "(30,)"
            ]
          },
          "execution_count": 8,
          "metadata": {},
          "output_type": "execute_result"
        }
      ],
      "source": [
        "y.shape"
      ]
    },
    {
      "cell_type": "code",
      "execution_count": null,
      "metadata": {
        "colab": {
          "base_uri": "https://localhost:8080/"
        },
        "id": "wasDdRIM6T_f",
        "outputId": "d0ce59a7-cfad-425c-90f8-6e68a86d40e8"
      },
      "outputs": [
        {
          "data": {
            "text/plain": [
              "YearsExperience    0\n",
              "Salary             0\n",
              "dtype: int64"
            ]
          },
          "execution_count": 9,
          "metadata": {},
          "output_type": "execute_result"
        }
      ],
      "source": [
        "data.isnull().sum() # checking null values"
      ]
    },
    {
      "cell_type": "code",
      "execution_count": null,
      "metadata": {
        "id": "9_-HPW8a4qdx"
      },
      "outputs": [],
      "source": [
        "### Split the data into training and testing"
      ]
    },
    {
      "cell_type": "code",
      "execution_count": null,
      "metadata": {
        "id": "mKpivODp6Xdr"
      },
      "outputs": [],
      "source": [
        "from sklearn.model_selection import train_test_split\n",
        "xtrain,xtest,ytrain,ytest = train_test_split(x,y,train_size=0.8,random_state=9014)"
      ]
    },
    {
      "cell_type": "code",
      "execution_count": null,
      "metadata": {
        "colab": {
          "base_uri": "https://localhost:8080/"
        },
        "id": "x8ZmHfiu6_em",
        "outputId": "8472029f-c88f-4c09-80e5-fd28cd360741"
      },
      "outputs": [
        {
          "data": {
            "text/plain": [
              "array([[ 3.2],\n",
              "       [ 7.9],\n",
              "       [ 2. ],\n",
              "       [ 3.9],\n",
              "       [10.3],\n",
              "       [ 9.5]])"
            ]
          },
          "execution_count": 13,
          "metadata": {},
          "output_type": "execute_result"
        }
      ],
      "source": [
        "xtest"
      ]
    },
    {
      "cell_type": "code",
      "execution_count": null,
      "metadata": {
        "id": "x1BhBG_D7BmB"
      },
      "outputs": [],
      "source": [
        "### Build the model\n",
        "from sklearn.linear_model import LinearRegression\n",
        "model = LinearRegression()"
      ]
    },
    {
      "cell_type": "code",
      "execution_count": null,
      "metadata": {
        "colab": {
          "base_uri": "https://localhost:8080/"
        },
        "id": "jF3fNAeF700m",
        "outputId": "b5a26d12-ae35-4fa7-819e-6fe13bc52699"
      },
      "outputs": [
        {
          "data": {
            "text/plain": [
              "LinearRegression()"
            ]
          },
          "execution_count": 15,
          "metadata": {},
          "output_type": "execute_result"
        }
      ],
      "source": [
        "### Train the model\n",
        "model.fit(xtrain,ytrain)"
      ]
    },
    {
      "cell_type": "code",
      "execution_count": null,
      "metadata": {
        "colab": {
          "base_uri": "https://localhost:8080/"
        },
        "id": "876frpR08DUx",
        "outputId": "cbc96127-9e23-42e3-f346-6542c978415f"
      },
      "outputs": [
        {
          "data": {
            "text/plain": [
              "array([ 56182.55053157, 100294.69682063,  44919.8748833 ,  62752.44465973,\n",
              "       122820.04811718, 115311.59768499])"
            ]
          },
          "execution_count": 16,
          "metadata": {},
          "output_type": "execute_result"
        }
      ],
      "source": [
        "### Prediction / Testing\n",
        "ypred = model.predict(xtest)\n",
        "ypred"
      ]
    },
    {
      "cell_type": "code",
      "execution_count": null,
      "metadata": {
        "colab": {
          "base_uri": "https://localhost:8080/"
        },
        "id": "q-chceAH8oIE",
        "outputId": "064e42ff-7dbe-43ef-d730-6805c38c0683"
      },
      "outputs": [
        {
          "data": {
            "text/plain": [
              "array([[ 3.2],\n",
              "       [ 7.9],\n",
              "       [ 2. ],\n",
              "       [ 3.9],\n",
              "       [10.3],\n",
              "       [ 9.5]])"
            ]
          },
          "execution_count": 17,
          "metadata": {},
          "output_type": "execute_result"
        }
      ],
      "source": [
        "xtest"
      ]
    },
    {
      "cell_type": "code",
      "execution_count": null,
      "metadata": {
        "colab": {
          "base_uri": "https://localhost:8080/"
        },
        "id": "IRIx1iBa81lR",
        "outputId": "451af471-b72a-4f42-e836-407aac9b9bc9"
      },
      "outputs": [
        {
          "data": {
            "text/plain": [
              "array([ 54445., 101302.,  43525.,  63218., 122391., 116969.])"
            ]
          },
          "execution_count": 18,
          "metadata": {},
          "output_type": "execute_result"
        }
      ],
      "source": [
        "ytest"
      ]
    },
    {
      "cell_type": "code",
      "execution_count": null,
      "metadata": {
        "colab": {
          "base_uri": "https://localhost:8080/"
        },
        "id": "oDNQZ-V49HCt",
        "outputId": "f2ec24f8-3c1d-49ab-f84e-b7811cd90abf"
      },
      "outputs": [
        {
          "data": {
            "text/plain": [
              "99.842716176972"
            ]
          },
          "execution_count": 19,
          "metadata": {},
          "output_type": "execute_result"
        }
      ],
      "source": [
        "### R-Square (R2 Score)\n",
        "from sklearn.metrics import r2_score\n",
        "score = r2_score(ytest,ypred)\n",
        "score*100"
      ]
    },
    {
      "cell_type": "code",
      "execution_count": null,
      "metadata": {
        "colab": {
          "base_uri": "https://localhost:8080/",
          "height": 265
        },
        "id": "n_Gkjum_9g_7",
        "outputId": "009d7825-5947-4637-b9c7-9320ebf239c5"
      },
      "outputs": [
        {
          "data": {
            "image/png": "[encoded data removed]",
            "text/plain": [
              "<Figure size 432x288 with 1 Axes>"
            ]
          },
          "metadata": {},
          "output_type": "display_data"
        }
      ],
      "source": [
        "### Line of Regression (Training Samples)\n",
        "plt.scatter(xtrain,ytrain,color=\"blue\",label=\"Actual Samples\",s=100)\n",
        "plt.scatter(xtrain,model.predict(xtrain),color=\"red\",label=\"Predicted Samples\",s=100)\n",
        "plt.plot(xtrain,model.predict(xtrain),color=\"orange\",label=\"Line of Regression\")\n",
        "plt.legend()\n",
        "plt.show()"
      ]
    },
    {
      "cell_type": "code",
      "execution_count": null,
      "metadata": {
        "colab": {
          "base_uri": "https://localhost:8080/",
          "height": 265
        },
        "id": "vTWsxfoF_Tn3",
        "outputId": "fc0ae5ad-71bf-40ee-f291-f89ba05deb77"
      },
      "outputs": [
        {
          "data": {
            "image/png": "[encoded data removed]",
            "text/plain": [
              "<Figure size 432x288 with 1 Axes>"
            ]
          },
          "metadata": {},
          "output_type": "display_data"
        }
      ],
      "source": [
        "### Line of Regression (Testing Samples)\n",
        "plt.scatter(xtest,ytest,color=\"blue\",label=\"Actual Samples\",s=100)\n",
        "plt.scatter(xtest,model.predict(xtest),color=\"red\",label=\"Predicted Samples\",s=100)\n",
        "plt.plot(xtest,model.predict(xtest),color=\"orange\",label=\"Line of Regression\")\n",
        "plt.legend()\n",
        "plt.show()"
      ]
    },
    {
      "cell_type": "code",
      "execution_count": null,
      "metadata": {
        "id": "yDMEJfSWAFOf"
      },
      "outputs": [],
      "source": [
        "### Increase Accuracy\n",
        "### Cross Validation"
      ]
    },
    {
      "cell_type": "code",
      "execution_count": null,
      "metadata": {
        "id": "-dIcBOzsD8lD"
      },
      "outputs": [],
      "source": [
        "accuracy = []\n",
        "for i in range(10000):\n",
        "  xtrain1,xtest1,ytrain1,ytest1 = train_test_split(x,y,train_size=0.8,random_state=i)\n",
        "  model1 = LinearRegression()\n",
        "  model1.fit(xtrain1,ytrain1)\n",
        "  ypred1 = model1.predict(xtest1)\n",
        "  score1 = r2_score(ytest1,ypred1)\n",
        "  accuracy.append(score1)"
      ]
    },
    {
      "cell_type": "code",
      "execution_count": null,
      "metadata": {
        "colab": {
          "base_uri": "https://localhost:8080/"
        },
        "id": "3G50YBc9F6Af",
        "outputId": "f0de29cf-7f01-47ce-a243-4e07f7a8bbad"
      },
      "outputs": [
        {
          "data": {
            "text/plain": [
              "0.99842716176972"
            ]
          },
          "execution_count": 21,
          "metadata": {},
          "output_type": "execute_result"
        }
      ],
      "source": [
        "np.max(accuracy)"
      ]
    },
    {
      "cell_type": "code",
      "execution_count": null,
      "metadata": {
        "colab": {
          "base_uri": "https://localhost:8080/"
        },
        "id": "5CF46v9oGAeM",
        "outputId": "10747126-3f8b-4df1-9403-c00a5768ae4f"
      },
      "outputs": [
        {
          "data": {
            "text/plain": [
              "9014"
            ]
          },
          "execution_count": 24,
          "metadata": {},
          "output_type": "execute_result"
        }
      ],
      "source": [
        "np.argmax(accuracy)"
      ]
    },
    {
      "cell_type": "code",
      "execution_count": null,
      "metadata": {
        "id": "4XygnPd6Rk2J"
      },
      "outputs": [],
      "source": [
        "### Creating Web Application"
      ]
    },
    {
      "cell_type": "code",
      "execution_count": null,
      "metadata": {
        "colab": {
          "base_uri": "https://localhost:8080/"
        },
        "id": "XT6Tr3mQGK5a",
        "outputId": "c9931902-0e3c-4d49-9d9a-7f7f1c4529c5"
      },
      "outputs": [
        {
          "data": {
            "text/plain": [
              "['salary.pkl']"
            ]
          },
          "execution_count": 26,
          "metadata": {},
          "output_type": "execute_result"
        }
      ],
      "source": [
        "### Save the model\n",
        "import joblib\n",
        "joblib.dump(model,\"salary.pkl\")"
      ]
    },
    {
      "cell_type": "code",
      "execution_count": null,
      "metadata": {
        "id": "K19drMHRInOE"
      },
      "outputs": [],
      "source": [
        "mymodel = joblib.load(\"/content/salary.pkl\")"
      ]
    },
    {
      "cell_type": "code",
      "execution_count": null,
      "metadata": {
        "colab": {
          "base_uri": "https://localhost:8080/"
        },
        "id": "5G5BPbTlI3hZ",
        "outputId": "6764a839-ef47-47cf-ebf3-a2750a179b94"
      },
      "outputs": [
        {
          "data": {
            "text/plain": [
              "array([120004.37920511])"
            ]
          },
          "execution_count": 25,
          "metadata": {},
          "output_type": "execute_result"
        }
      ],
      "source": [
        "mymodel.predict([[10]])"
      ]
    },
    {
      "cell_type": "code",
      "execution_count": null,
      "metadata": {
        "colab": {
          "base_uri": "https://localhost:8080/"
        },
        "id": "a9qlZktZLBl-",
        "outputId": "ba83ae74-ddcf-48ab-927e-9ac71c2e8011"
      },
      "outputs": [
        {
          "data": {
            "text/plain": [
              "120004.38"
            ]
          },
          "execution_count": 28,
          "metadata": {},
          "output_type": "execute_result"
        }
      ],
      "source": [
        "round(mymodel.predict([[10]])[0],2)"
      ]
    },
    {
      "cell_type": "code",
      "execution_count": null,
      "metadata": {
        "colab": {
          "base_uri": "https://localhost:8080/"
        },
        "id": "XJ8ikefvI6cm",
        "outputId": "1b344bb2-b37b-4bab-c62a-48d91c40d773"
      },
      "outputs": [
        {
          "name": "stdout",
          "output_type": "stream",
          "text": [
            "\u001b[K     |████████████████████████████████| 9.1 MB 5.2 MB/s \n",
            "\u001b[K     |████████████████████████████████| 76 kB 4.8 MB/s \n",
            "\u001b[K     |████████████████████████████████| 180 kB 39.8 MB/s \n",
            "\u001b[K     |████████████████████████████████| 178 kB 57.4 MB/s \n",
            "\u001b[K     |████████████████████████████████| 4.3 MB 35.0 MB/s \n",
            "\u001b[K     |████████████████████████████████| 111 kB 75.1 MB/s \n",
            "\u001b[K     |████████████████████████████████| 63 kB 1.6 MB/s \n",
            "\u001b[K     |████████████████████████████████| 125 kB 37.6 MB/s \n",
            "\u001b[K     |████████████████████████████████| 791 kB 43.6 MB/s \n",
            "\u001b[K     |████████████████████████████████| 374 kB 61.8 MB/s \n",
            "\u001b[?25h  Building wheel for pympler (setup.py) ... \u001b[?25l\u001b[?25hdone\n",
            "  Building wheel for blinker (setup.py) ... \u001b[?25l\u001b[?25hdone\n",
            "\u001b[31mERROR: pip's dependency resolver does not currently take into account all the packages that are installed. This behaviour is the source of the following dependency conflicts.\n",
            "jupyter-console 5.2.0 requires prompt-toolkit<2.0.0,>=1.0.0, but you have prompt-toolkit 3.0.23 which is incompatible.\n",
            "google-colab 1.0.0 requires ipykernel~=4.10, but you have ipykernel 6.5.1 which is incompatible.\n",
            "google-colab 1.0.0 requires ipython~=5.5.0, but you have ipython 7.30.0 which is incompatible.\u001b[0m\n"
          ]
        }
      ],
      "source": [
        "!pip install streamlit --quiet"
      ]
    },
    {
      "cell_type": "code",
      "execution_count": null,
      "metadata": {
        "colab": {
          "background_save": true,
          "base_uri": "https://localhost:8080/"
        },
        "id": "l3hGdxbOJDxf",
        "outputId": "2f4610fc-5cd8-4701-dc30-a8256b01ead2"
      },
      "outputs": [
        {
          "name": "stdout",
          "output_type": "stream",
          "text": [
            "  Building wheel for pyngrok (setup.py) ... \u001b[?25l\u001b[?25hdone\n"
          ]
        }
      ],
      "source": [
        "!pip install pyngrok==4.1.1 --quiet"
      ]
    },
    {
      "cell_type": "code",
      "execution_count": null,
      "metadata": {
        "id": "7Eqv5eJuLqNM"
      },
      "outputs": [],
      "source": [
        "from pyngrok import ngrok"
      ]
    },
    {
      "cell_type": "code",
      "execution_count": null,
      "metadata": {
        "colab": {
          "base_uri": "https://localhost:8080/"
        },
        "id": "1YB5BCJaLvVP",
        "outputId": "1c24b679-68eb-4e74-8f45-046988479661"
      },
      "outputs": [
        {
          "name": "stdout",
          "output_type": "stream",
          "text": [
            "nohup: appending output to 'nohup.out'\n"
          ]
        }
      ],
      "source": [
        "!nohup streamlit run app.py &"
      ]
    },
    {
      "cell_type": "code",
      "execution_count": null,
      "metadata": {
        "colab": {
          "base_uri": "https://localhost:8080/"
        },
        "id": "uDMqBdb8MSIK",
        "outputId": "a18484d1-90be-4a40-b186-27d4118fb714"
      },
      "outputs": [
        {
          "name": "stdout",
          "output_type": "stream",
          "text": [
            "http://f73b-35-194-72-206.ngrok.io\n"
          ]
        }
      ],
      "source": [
        "public_url = ngrok.connect(port = \"8501\")\n",
        "print(public_url)"
      ]
    },
    {
      "cell_type": "code",
      "execution_count": null,
      "metadata": {
        "id": "PCR1UGZQMrnC"
      },
      "outputs": [],
      "source": [
        ""
      ]
    }
  ],
  "metadata": {
    "colab": {
      "collapsed_sections": [],
      "name": "20th Oct - Linear Regression - Salary Prediction.ipynb",
      "provenance": [],
      "include_colab_link": true
    },
    "kernelspec": {
      "display_name": "Python 3",
      "name": "python3"
    },
    "language_info": {
      "name": "python"
    }
  },
  "nbformat": 4,
  "nbformat_minor": 0
}