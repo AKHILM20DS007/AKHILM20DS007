{
  "nbformat": 4,
  "nbformat_minor": 0,
  "metadata": {
    "colab": {
      "name": "18th Oct - Numpy - Basics.ipynb",
      "provenance": [],
      "collapsed_sections": [],
      "include_colab_link": true
    },
    "kernelspec": {
      "name": "python3",
      "display_name": "Python 3"
    },
    "language_info": {
      "name": "python"
    }
  },
  "cells": [
    {
      "cell_type": "markdown",
      "metadata": {
        "id": "view-in-github",
        "colab_type": "text"
      },
      "source": [
        "<a href=\"https://colab.research.google.com/github/AKHILM20DS007/AKHILM20DS007/blob/main/18th_Oct_Numpy_Basics.ipynb\" target=\"_parent\"><img src=\"https://colab.research.google.com/assets/colab-badge.svg\" alt=\"Open In Colab\"/></a>"
      ]
    },
    {
      "cell_type": "code",
      "metadata": {
        "colab": {
          "base_uri": "https://localhost:8080/"
        },
        "id": "Ws2KE51hlzx6",
        "outputId": "9f3bb02b-1dc1-4d50-cacf-9002999ba9c1"
      },
      "source": [
        "print(\"We are learning Numpy\")  ## press shift + enter"
      ],
      "execution_count": null,
      "outputs": [
        {
          "output_type": "stream",
          "name": "stdout",
          "text": [
            "We are learning Numpy\n"
          ]
        }
      ]
    },
    {
      "cell_type": "code",
      "metadata": {
        "id": "Sc5wF9J5mdRn"
      },
      "source": [
        "import numpy as np"
      ],
      "execution_count": null,
      "outputs": []
    },
    {
      "cell_type": "code",
      "metadata": {
        "id": "lCBF3LkknqOZ"
      },
      "source": [
        "### Create an array using Numpy\n",
        "### Array - Collection of homogenous(similar) data"
      ],
      "execution_count": null,
      "outputs": []
    },
    {
      "cell_type": "code",
      "metadata": {
        "colab": {
          "base_uri": "https://localhost:8080/"
        },
        "id": "eyhpGdx5nmwo",
        "outputId": "868c861b-0c6b-427f-b24d-883c7599f28e"
      },
      "source": [
        "data = [1,4,56,3,6,4,6,4]\n",
        "a1 = np.array(data)   ## 1d array\n",
        "a1"
      ],
      "execution_count": null,
      "outputs": [
        {
          "output_type": "execute_result",
          "data": {
            "text/plain": [
              "array([ 1,  4, 56,  3,  6,  4,  6,  4])"
            ]
          },
          "metadata": {},
          "execution_count": 6
        }
      ]
    },
    {
      "cell_type": "code",
      "metadata": {
        "id": "kD3XWCoMomjS"
      },
      "source": [
        "a1 = np.array([1,4,56,3,6,4,6,4])   ## 1d array\n",
        "a2 = np.array([[1,4,56,3,6,4,6,4]])  ## 2d array\n",
        "a3 = np.array([[1,4,56,3,6,4,6,4],\n",
        "               [16,4,556,35,65,45,65,45],\n",
        "               [1,44,546,43,64,4,64,44],\n",
        "               [31,434,5436,433,634,34,3643,344]])  ## 2d array\n",
        "a4 = np.array([[[1,4,56,3,6,4,6,4],\n",
        "               [16,4,556,35,65,45,65,45],\n",
        "               [1,44,546,43,64,4,64,44],\n",
        "               [31,434,5436,433,634,34,3643,344]]])  ## 3d array\n",
        "a5 = np.array([[[1,4,56,3,6,4,6,4],\n",
        "               [16,4,556,35,65,45,65,45],\n",
        "               [1,44,546,43,64,4,64,44],\n",
        "               [31,434,5436,433,634,34,3643,344]],\n",
        "               \n",
        "               [[1,4,56,3,6,4,6,4],\n",
        "               [16,4,556,35,65,45,65,45],\n",
        "               [1,44,546,43,64,4,64,44],\n",
        "               [31,434,5436,433,634,34,3643,344]]]) ### 3d array"
      ],
      "execution_count": null,
      "outputs": []
    },
    {
      "cell_type": "code",
      "metadata": {
        "colab": {
          "base_uri": "https://localhost:8080/"
        },
        "id": "5dH7Dbt7p4W9",
        "outputId": "da8f89aa-2000-45bc-dfdc-9213766137f9"
      },
      "source": [
        "a1"
      ],
      "execution_count": null,
      "outputs": [
        {
          "output_type": "execute_result",
          "data": {
            "text/plain": [
              "array([ 1,  4, 56,  3,  6,  4,  6,  4])"
            ]
          },
          "metadata": {},
          "execution_count": 8
        }
      ]
    },
    {
      "cell_type": "code",
      "metadata": {
        "colab": {
          "base_uri": "https://localhost:8080/"
        },
        "id": "hCd2mmdfp5R2",
        "outputId": "8a38739e-0ae4-49c7-f65e-dc57790b4911"
      },
      "source": [
        "a2"
      ],
      "execution_count": null,
      "outputs": [
        {
          "output_type": "execute_result",
          "data": {
            "text/plain": [
              "array([[ 1,  4, 56,  3,  6,  4,  6,  4]])"
            ]
          },
          "metadata": {},
          "execution_count": 9
        }
      ]
    },
    {
      "cell_type": "code",
      "metadata": {
        "colab": {
          "base_uri": "https://localhost:8080/"
        },
        "id": "Y1DES9vWp55Q",
        "outputId": "08d63298-3676-4b92-d316-c155ce74c7d7"
      },
      "source": [
        "a3"
      ],
      "execution_count": null,
      "outputs": [
        {
          "output_type": "execute_result",
          "data": {
            "text/plain": [
              "array([[   1,    4,   56,    3,    6,    4,    6,    4],\n",
              "       [  16,    4,  556,   35,   65,   45,   65,   45],\n",
              "       [   1,   44,  546,   43,   64,    4,   64,   44],\n",
              "       [  31,  434, 5436,  433,  634,   34, 3643,  344]])"
            ]
          },
          "metadata": {},
          "execution_count": 10
        }
      ]
    },
    {
      "cell_type": "code",
      "metadata": {
        "colab": {
          "base_uri": "https://localhost:8080/"
        },
        "id": "IobsFDolp6Z0",
        "outputId": "d69883f8-737b-4671-f91f-b6e2ba92e8b8"
      },
      "source": [
        "a4"
      ],
      "execution_count": null,
      "outputs": [
        {
          "output_type": "execute_result",
          "data": {
            "text/plain": [
              "array([[[   1,    4,   56,    3,    6,    4,    6,    4],\n",
              "        [  16,    4,  556,   35,   65,   45,   65,   45],\n",
              "        [   1,   44,  546,   43,   64,    4,   64,   44],\n",
              "        [  31,  434, 5436,  433,  634,   34, 3643,  344]]])"
            ]
          },
          "metadata": {},
          "execution_count": 11
        }
      ]
    },
    {
      "cell_type": "code",
      "metadata": {
        "colab": {
          "base_uri": "https://localhost:8080/"
        },
        "id": "JY93TU5gp7T3",
        "outputId": "e9be3a72-0279-4dd3-86b5-3590f0d0461d"
      },
      "source": [
        "a5"
      ],
      "execution_count": null,
      "outputs": [
        {
          "output_type": "execute_result",
          "data": {
            "text/plain": [
              "array([[[   1,    4,   56,    3,    6,    4,    6,    4],\n",
              "        [  16,    4,  556,   35,   65,   45,   65,   45],\n",
              "        [   1,   44,  546,   43,   64,    4,   64,   44],\n",
              "        [  31,  434, 5436,  433,  634,   34, 3643,  344]],\n",
              "\n",
              "       [[   1,    4,   56,    3,    6,    4,    6,    4],\n",
              "        [  16,    4,  556,   35,   65,   45,   65,   45],\n",
              "        [   1,   44,  546,   43,   64,    4,   64,   44],\n",
              "        [  31,  434, 5436,  433,  634,   34, 3643,  344]]])"
            ]
          },
          "metadata": {},
          "execution_count": 12
        }
      ]
    },
    {
      "cell_type": "code",
      "metadata": {
        "colab": {
          "base_uri": "https://localhost:8080/"
        },
        "id": "_lRcFRl9p8Pa",
        "outputId": "d2c3737a-0c60-439f-8937-fad9784450fa"
      },
      "source": [
        "print(len(a1))\n",
        "print(len(a2))\n",
        "print(len(a3))\n",
        "print(len(a4))\n",
        "print(len(a5))"
      ],
      "execution_count": null,
      "outputs": [
        {
          "output_type": "stream",
          "name": "stdout",
          "text": [
            "8\n",
            "1\n",
            "4\n",
            "1\n",
            "2\n"
          ]
        }
      ]
    },
    {
      "cell_type": "code",
      "metadata": {
        "colab": {
          "base_uri": "https://localhost:8080/"
        },
        "id": "cXO-nQInqocq",
        "outputId": "da845d1a-b00e-4574-ad4a-9c8d88a18f95"
      },
      "source": [
        "print(a1.shape)\n",
        "print(a2.shape)  ### 1 1d array of shape (8)\n",
        "print(a3.shape)  ### 4 1d array of shape (8)\n",
        "print(a4.shape)  ### 1 2d array of shape (4,8)\n",
        "print(a5.shape)  ### 2 2d array of shapee (4,8)"
      ],
      "execution_count": null,
      "outputs": [
        {
          "output_type": "stream",
          "name": "stdout",
          "text": [
            "(8,)\n",
            "(1, 8)\n",
            "(4, 8)\n",
            "(1, 4, 8)\n",
            "(2, 4, 8)\n"
          ]
        }
      ]
    },
    {
      "cell_type": "code",
      "metadata": {
        "colab": {
          "base_uri": "https://localhost:8080/"
        },
        "id": "9fEdtP6ErmNu",
        "outputId": "54db604e-7849-4bd4-d99c-fc297b8172a7"
      },
      "source": [
        "print(a1.dtype)\n",
        "print(a2.dtype)\n",
        "print(a3.dtype)\n",
        "print(a4.dtype)\n",
        "print(a5.dtype)"
      ],
      "execution_count": null,
      "outputs": [
        {
          "output_type": "stream",
          "name": "stdout",
          "text": [
            "int64\n",
            "int64\n",
            "int64\n",
            "int64\n",
            "int64\n"
          ]
        }
      ]
    },
    {
      "cell_type": "code",
      "metadata": {
        "colab": {
          "base_uri": "https://localhost:8080/"
        },
        "id": "k1JKSYnKsTj4",
        "outputId": "da1ea329-1c11-4989-a12e-0b874fff0f25"
      },
      "source": [
        "print(a1.ndim)\n",
        "print(a2.ndim)\n",
        "print(a3.ndim)\n",
        "print(a4.ndim)\n",
        "print(a5.ndim)"
      ],
      "execution_count": null,
      "outputs": [
        {
          "output_type": "stream",
          "name": "stdout",
          "text": [
            "1\n",
            "2\n",
            "2\n",
            "3\n",
            "3\n"
          ]
        }
      ]
    },
    {
      "cell_type": "code",
      "metadata": {
        "id": "DHHaVN_DscNS"
      },
      "source": [
        "### Slicing of Array"
      ],
      "execution_count": null,
      "outputs": []
    },
    {
      "cell_type": "code",
      "metadata": {
        "colab": {
          "base_uri": "https://localhost:8080/"
        },
        "id": "gpobvUwIwk4p",
        "outputId": "aa91af0f-9e4a-4fa7-bab8-953673b6c0e4"
      },
      "source": [
        "a3"
      ],
      "execution_count": null,
      "outputs": [
        {
          "output_type": "execute_result",
          "data": {
            "text/plain": [
              "array([[   1,    4,   56,    3,    6,    4,    6,    4],\n",
              "       [  16,    4,  556,   35,   65,   45,   65,   45],\n",
              "       [   1,   44,  546,   43,   64,    4,   64,   44],\n",
              "       [  31,  434, 5436,  433,  634,   34, 3643,  344]])"
            ]
          },
          "metadata": {},
          "execution_count": 23
        }
      ]
    },
    {
      "cell_type": "code",
      "metadata": {
        "colab": {
          "base_uri": "https://localhost:8080/"
        },
        "id": "_HEiBwSGwtJi",
        "outputId": "79affe3a-27f3-4953-d12d-9798c1181d0d"
      },
      "source": [
        "a3[:,:]    # row,column"
      ],
      "execution_count": null,
      "outputs": [
        {
          "output_type": "execute_result",
          "data": {
            "text/plain": [
              "array([[   1,    4,   56,    3,    6,    4,    6,    4],\n",
              "       [  16,    4,  556,   35,   65,   45,   65,   45],\n",
              "       [   1,   44,  546,   43,   64,    4,   64,   44],\n",
              "       [  31,  434, 5436,  433,  634,   34, 3643,  344]])"
            ]
          },
          "metadata": {},
          "execution_count": 24
        }
      ]
    },
    {
      "cell_type": "code",
      "metadata": {
        "colab": {
          "base_uri": "https://localhost:8080/"
        },
        "id": "f-A1wOdjwzRX",
        "outputId": "856e0240-02da-40c5-dcf6-cd3349c6aa2e"
      },
      "source": [
        "a3[2]"
      ],
      "execution_count": null,
      "outputs": [
        {
          "output_type": "execute_result",
          "data": {
            "text/plain": [
              "array([  1,  44, 546,  43,  64,   4,  64,  44])"
            ]
          },
          "metadata": {},
          "execution_count": 25
        }
      ]
    },
    {
      "cell_type": "code",
      "metadata": {
        "colab": {
          "base_uri": "https://localhost:8080/"
        },
        "id": "rWyn7wo2xAIZ",
        "outputId": "085f09a5-a371-475a-e784-a1188bf602ec"
      },
      "source": [
        "a3[1:3,:]"
      ],
      "execution_count": null,
      "outputs": [
        {
          "output_type": "execute_result",
          "data": {
            "text/plain": [
              "array([[ 16,   4, 556,  35,  65,  45,  65,  45],\n",
              "       [  1,  44, 546,  43,  64,   4,  64,  44]])"
            ]
          },
          "metadata": {},
          "execution_count": 26
        }
      ]
    },
    {
      "cell_type": "code",
      "metadata": {
        "colab": {
          "base_uri": "https://localhost:8080/"
        },
        "id": "DH-xwKVUxNof",
        "outputId": "f5163eeb-f5b1-4c59-c1ea-3954d88ee2c0"
      },
      "source": [
        "a3[1:,:]"
      ],
      "execution_count": null,
      "outputs": [
        {
          "output_type": "execute_result",
          "data": {
            "text/plain": [
              "array([[  16,    4,  556,   35,   65,   45,   65,   45],\n",
              "       [   1,   44,  546,   43,   64,    4,   64,   44],\n",
              "       [  31,  434, 5436,  433,  634,   34, 3643,  344]])"
            ]
          },
          "metadata": {},
          "execution_count": 27
        }
      ]
    },
    {
      "cell_type": "code",
      "metadata": {
        "colab": {
          "base_uri": "https://localhost:8080/"
        },
        "id": "UoJ_FR1vxT1d",
        "outputId": "a26856eb-1d8e-4896-a410-e6efca754fdd"
      },
      "source": [
        "a3[:3,:]"
      ],
      "execution_count": null,
      "outputs": [
        {
          "output_type": "execute_result",
          "data": {
            "text/plain": [
              "array([[  1,   4,  56,   3,   6,   4,   6,   4],\n",
              "       [ 16,   4, 556,  35,  65,  45,  65,  45],\n",
              "       [  1,  44, 546,  43,  64,   4,  64,  44]])"
            ]
          },
          "metadata": {},
          "execution_count": 28
        }
      ]
    },
    {
      "cell_type": "code",
      "metadata": {
        "colab": {
          "base_uri": "https://localhost:8080/"
        },
        "id": "mZS0Ruawxakm",
        "outputId": "6a435b01-3e4b-4fa9-e629-83c45e322d54"
      },
      "source": [
        "a3[1:3,2:5]"
      ],
      "execution_count": null,
      "outputs": [
        {
          "output_type": "execute_result",
          "data": {
            "text/plain": [
              "array([[556,  35,  65],\n",
              "       [546,  43,  64]])"
            ]
          },
          "metadata": {},
          "execution_count": 31
        }
      ]
    },
    {
      "cell_type": "code",
      "metadata": {
        "id": "gDl37DE4xpzB"
      },
      "source": [
        "#### Array Functions"
      ],
      "execution_count": null,
      "outputs": []
    },
    {
      "cell_type": "code",
      "metadata": {
        "colab": {
          "base_uri": "https://localhost:8080/"
        },
        "id": "vC4NbT8IyS2T",
        "outputId": "c4ab692c-141d-46e6-d36a-b0c4c743f391"
      },
      "source": [
        "a3"
      ],
      "execution_count": null,
      "outputs": [
        {
          "output_type": "execute_result",
          "data": {
            "text/plain": [
              "array([[   1,    4,   56,    3,    6,    4,    6,    4],\n",
              "       [  16,    4,  556,   35,   65,   45,   65,   45],\n",
              "       [   1,   44,  546,   43,   64,    4,   64,   44],\n",
              "       [  31,  434, 5436,  433,  634,   34, 3643,  344]])"
            ]
          },
          "metadata": {},
          "execution_count": 33
        }
      ]
    },
    {
      "cell_type": "code",
      "metadata": {
        "colab": {
          "base_uri": "https://localhost:8080/"
        },
        "id": "VFdCq6XuyjOF",
        "outputId": "12bf81c9-3dea-410a-e491-da335c99f3e5"
      },
      "source": [
        "a3.sum()"
      ],
      "execution_count": null,
      "outputs": [
        {
          "output_type": "execute_result",
          "data": {
            "text/plain": [
              "12714"
            ]
          },
          "metadata": {},
          "execution_count": 34
        }
      ]
    },
    {
      "cell_type": "code",
      "metadata": {
        "colab": {
          "base_uri": "https://localhost:8080/"
        },
        "id": "LMUAy8T6yk_S",
        "outputId": "c10ba070-395b-4b1a-8102-8c5f0cb5db33"
      },
      "source": [
        "a3.sum(axis=0)"
      ],
      "execution_count": null,
      "outputs": [
        {
          "output_type": "execute_result",
          "data": {
            "text/plain": [
              "array([  49,  486, 6594,  514,  769,   87, 3778,  437])"
            ]
          },
          "metadata": {},
          "execution_count": 35
        }
      ]
    },
    {
      "cell_type": "code",
      "metadata": {
        "colab": {
          "base_uri": "https://localhost:8080/"
        },
        "id": "fX7uQdMEypgw",
        "outputId": "605b48c0-94bb-4473-bb22-0fbe6d2770f8"
      },
      "source": [
        "a3.sum(axis=1)"
      ],
      "execution_count": null,
      "outputs": [
        {
          "output_type": "execute_result",
          "data": {
            "text/plain": [
              "array([   84,   831,   810, 10989])"
            ]
          },
          "metadata": {},
          "execution_count": 36
        }
      ]
    },
    {
      "cell_type": "code",
      "metadata": {
        "colab": {
          "base_uri": "https://localhost:8080/"
        },
        "id": "_yVq3K2hyrFt",
        "outputId": "411b7064-6d6b-41a4-f313-bdff6d85aa23"
      },
      "source": [
        "a3.mean()"
      ],
      "execution_count": null,
      "outputs": [
        {
          "output_type": "execute_result",
          "data": {
            "text/plain": [
              "397.3125"
            ]
          },
          "metadata": {},
          "execution_count": 37
        }
      ]
    },
    {
      "cell_type": "code",
      "metadata": {
        "colab": {
          "base_uri": "https://localhost:8080/"
        },
        "id": "WGoPvU0Oy38u",
        "outputId": "9e784c83-c775-48c9-9fce-419e6fe48a08"
      },
      "source": [
        "a3.max()"
      ],
      "execution_count": null,
      "outputs": [
        {
          "output_type": "execute_result",
          "data": {
            "text/plain": [
              "5436"
            ]
          },
          "metadata": {},
          "execution_count": 38
        }
      ]
    },
    {
      "cell_type": "code",
      "metadata": {
        "colab": {
          "base_uri": "https://localhost:8080/"
        },
        "id": "XlxMzF7szAfz",
        "outputId": "ffbff49c-5feb-4361-a4da-ab518e94c84c"
      },
      "source": [
        "a3.min()"
      ],
      "execution_count": null,
      "outputs": [
        {
          "output_type": "execute_result",
          "data": {
            "text/plain": [
              "1"
            ]
          },
          "metadata": {},
          "execution_count": 39
        }
      ]
    },
    {
      "cell_type": "code",
      "metadata": {
        "colab": {
          "base_uri": "https://localhost:8080/"
        },
        "id": "rx7iLk_qzC-i",
        "outputId": "b57bd157-d12d-4cee-9471-9f6ac7aaafe2"
      },
      "source": [
        "a3"
      ],
      "execution_count": null,
      "outputs": [
        {
          "output_type": "execute_result",
          "data": {
            "text/plain": [
              "array([[   1,    4,   56,    3,    6,    4,    6,    4],\n",
              "       [  16,    4,  556,   35,   65,   45,   65,   45],\n",
              "       [   1,   44,  546,   43,   64,    4,   64,   44],\n",
              "       [  31,  434, 5436,  433,  634,   34, 3643,  344]])"
            ]
          },
          "metadata": {},
          "execution_count": 41
        }
      ]
    },
    {
      "cell_type": "code",
      "metadata": {
        "colab": {
          "base_uri": "https://localhost:8080/"
        },
        "id": "H4SCWeVhzHP1",
        "outputId": "6aee6317-9214-4ccb-c524-a763030cbac2"
      },
      "source": [
        "a3.argmax()"
      ],
      "execution_count": null,
      "outputs": [
        {
          "output_type": "execute_result",
          "data": {
            "text/plain": [
              "26"
            ]
          },
          "metadata": {},
          "execution_count": 42
        }
      ]
    },
    {
      "cell_type": "code",
      "metadata": {
        "colab": {
          "base_uri": "https://localhost:8080/"
        },
        "id": "gXgAIVSmzJ3M",
        "outputId": "5de396cd-1001-4a21-95cf-1e0b19a394cd"
      },
      "source": [
        "a3.argmin()"
      ],
      "execution_count": null,
      "outputs": [
        {
          "output_type": "execute_result",
          "data": {
            "text/plain": [
              "0"
            ]
          },
          "metadata": {},
          "execution_count": 43
        }
      ]
    },
    {
      "cell_type": "code",
      "metadata": {
        "colab": {
          "base_uri": "https://localhost:8080/"
        },
        "id": "U6pSZKoYzK9S",
        "outputId": "dd5e798b-4530-422f-ad16-e905fc796698"
      },
      "source": [
        "a3"
      ],
      "execution_count": null,
      "outputs": [
        {
          "output_type": "execute_result",
          "data": {
            "text/plain": [
              "array([[   1,    4,   56,    3,    6,    4,    6,    4],\n",
              "       [  16,    4,  556,   35,   65,   45,   65,   45],\n",
              "       [   1,   44,  546,   43,   64,    4,   64,   44],\n",
              "       [  31,  434, 5436,  433,  634,   34, 3643,  344]])"
            ]
          },
          "metadata": {},
          "execution_count": 44
        }
      ]
    },
    {
      "cell_type": "code",
      "metadata": {
        "colab": {
          "base_uri": "https://localhost:8080/"
        },
        "id": "WeGfr2Ny0EOa",
        "outputId": "420670ef-05d1-4743-fc2b-4e1124e898f8"
      },
      "source": [
        "a3.shape"
      ],
      "execution_count": null,
      "outputs": [
        {
          "output_type": "execute_result",
          "data": {
            "text/plain": [
              "(4, 8)"
            ]
          },
          "metadata": {},
          "execution_count": 45
        }
      ]
    },
    {
      "cell_type": "code",
      "metadata": {
        "id": "-kkEC6ov0Gbb"
      },
      "source": [
        "a3_1 = a3.reshape(32)\n",
        "a3_1"
      ],
      "execution_count": null,
      "outputs": []
    },
    {
      "cell_type": "code",
      "metadata": {
        "id": "nZzuv1Ge0bHy"
      },
      "source": [
        "a3_2 = a3.reshape(2,16)   ## 8,4  2,16  16,2  32,1   1,32\n",
        "a3_2"
      ],
      "execution_count": null,
      "outputs": []
    },
    {
      "cell_type": "code",
      "metadata": {
        "id": "12yttWp50sUl"
      },
      "source": [
        "a3_3 = a3.reshape(2,4,4)\n",
        "a3_3"
      ],
      "execution_count": null,
      "outputs": []
    },
    {
      "cell_type": "code",
      "metadata": {
        "id": "1pmXc2WP01jO"
      },
      "source": [
        "a3"
      ],
      "execution_count": null,
      "outputs": []
    },
    {
      "cell_type": "code",
      "metadata": {
        "colab": {
          "base_uri": "https://localhost:8080/"
        },
        "id": "NQEQkyhR1EoA",
        "outputId": "9a3eb888-1b74-4d13-ced2-3d9ec8218676"
      },
      "source": [
        "a3.argmax()"
      ],
      "execution_count": null,
      "outputs": [
        {
          "output_type": "execute_result",
          "data": {
            "text/plain": [
              "26"
            ]
          },
          "metadata": {},
          "execution_count": 51
        }
      ]
    },
    {
      "cell_type": "code",
      "metadata": {
        "colab": {
          "base_uri": "https://localhost:8080/"
        },
        "id": "l80Srt-W1Htr",
        "outputId": "4c687e55-01e9-414c-8a7a-66c96ef3e288"
      },
      "source": [
        "a3_1[26]"
      ],
      "execution_count": null,
      "outputs": [
        {
          "output_type": "execute_result",
          "data": {
            "text/plain": [
              "5436"
            ]
          },
          "metadata": {},
          "execution_count": 55
        }
      ]
    },
    {
      "cell_type": "code",
      "metadata": {
        "id": "uVPwyIbW1RBy"
      },
      "source": [
        "### Random Function"
      ],
      "execution_count": null,
      "outputs": []
    },
    {
      "cell_type": "code",
      "metadata": {
        "id": "Eyikv1MT2Vki"
      },
      "source": [
        "np.random.randint(100)  ## any random number between 0 to 99"
      ],
      "execution_count": null,
      "outputs": []
    },
    {
      "cell_type": "code",
      "metadata": {
        "colab": {
          "base_uri": "https://localhost:8080/"
        },
        "id": "CJENbBUJ2flC",
        "outputId": "31b34be2-3c40-4222-e18c-8849333ca229"
      },
      "source": [
        "np.random.seed(10)    ## any value b/w 0 to 2**32 - 1\n",
        "np.random.randint(100)"
      ],
      "execution_count": null,
      "outputs": [
        {
          "output_type": "execute_result",
          "data": {
            "text/plain": [
              "9"
            ]
          },
          "metadata": {},
          "execution_count": 70
        }
      ]
    },
    {
      "cell_type": "code",
      "metadata": {
        "id": "MHOeknww22KY"
      },
      "source": [
        "np.random.randint(100,1000)  ## any random number between 100 to 999"
      ],
      "execution_count": null,
      "outputs": []
    },
    {
      "cell_type": "code",
      "metadata": {
        "id": "iiuQ29Ti3K3B"
      },
      "source": [
        "np.random.randint(100,1000,10)"
      ],
      "execution_count": null,
      "outputs": []
    },
    {
      "cell_type": "code",
      "metadata": {
        "colab": {
          "base_uri": "https://localhost:8080/"
        },
        "id": "xBRv8BSK3RUF",
        "outputId": "15f362e8-6c4b-4963-d7ad-452a73131d48"
      },
      "source": [
        "np.random.randint(100,1000,(5,4))"
      ],
      "execution_count": null,
      "outputs": [
        {
          "output_type": "execute_result",
          "data": {
            "text/plain": [
              "array([[140, 602, 520, 471],\n",
              "       [628, 456, 339, 495],\n",
              "       [154, 444, 463, 222],\n",
              "       [674, 645, 300, 968],\n",
              "       [789, 791, 154, 177]])"
            ]
          },
          "metadata": {},
          "execution_count": 68
        }
      ]
    },
    {
      "cell_type": "code",
      "metadata": {
        "id": "hoyHUCRu3VNS"
      },
      "source": [
        "### Standard Matrices"
      ],
      "execution_count": null,
      "outputs": []
    },
    {
      "cell_type": "code",
      "metadata": {
        "colab": {
          "base_uri": "https://localhost:8080/"
        },
        "id": "QRSEQbDK4E3A",
        "outputId": "2a0e2ef6-fdd9-4cd1-9dd6-777a8b747191"
      },
      "source": [
        "np.zeros((4,5),np.int32)"
      ],
      "execution_count": null,
      "outputs": [
        {
          "output_type": "execute_result",
          "data": {
            "text/plain": [
              "array([[0, 0, 0, 0, 0],\n",
              "       [0, 0, 0, 0, 0],\n",
              "       [0, 0, 0, 0, 0],\n",
              "       [0, 0, 0, 0, 0]], dtype=int32)"
            ]
          },
          "metadata": {},
          "execution_count": 78
        }
      ]
    },
    {
      "cell_type": "code",
      "metadata": {
        "colab": {
          "base_uri": "https://localhost:8080/"
        },
        "id": "hAPs2hEX4Jw9",
        "outputId": "d479bd25-add4-4649-c9bf-9e8c770f9f92"
      },
      "source": [
        "np.ones((4,5))"
      ],
      "execution_count": null,
      "outputs": [
        {
          "output_type": "execute_result",
          "data": {
            "text/plain": [
              "array([[1., 1., 1., 1., 1.],\n",
              "       [1., 1., 1., 1., 1.],\n",
              "       [1., 1., 1., 1., 1.],\n",
              "       [1., 1., 1., 1., 1.]])"
            ]
          },
          "metadata": {},
          "execution_count": 74
        }
      ]
    },
    {
      "cell_type": "code",
      "metadata": {
        "colab": {
          "base_uri": "https://localhost:8080/"
        },
        "id": "J52K1XE_4MR6",
        "outputId": "042eacd7-4f10-4a7f-b301-22bdfcbc1b68"
      },
      "source": [
        "np.identity(5)"
      ],
      "execution_count": null,
      "outputs": [
        {
          "output_type": "execute_result",
          "data": {
            "text/plain": [
              "array([[1., 0., 0., 0., 0.],\n",
              "       [0., 1., 0., 0., 0.],\n",
              "       [0., 0., 1., 0., 0.],\n",
              "       [0., 0., 0., 1., 0.],\n",
              "       [0., 0., 0., 0., 1.]])"
            ]
          },
          "metadata": {},
          "execution_count": 75
        }
      ]
    },
    {
      "cell_type": "code",
      "metadata": {
        "id": "hWBUP3gP4QnB"
      },
      "source": [
        ""
      ],
      "execution_count": null,
      "outputs": []
    }
  ]
}